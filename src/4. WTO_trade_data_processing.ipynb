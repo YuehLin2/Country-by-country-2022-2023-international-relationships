{
 "cells": [
  {
   "cell_type": "code",
   "execution_count": 1,
   "id": "60a0290d",
   "metadata": {},
   "outputs": [],
   "source": [
    "# !git clone -b master https://github.com/StefanoNasini/Country-by-country-2022-2023-international-relationships\n",
    "# !cd Country-by-country-2022-2023-international-relationships"
   ]
  },
  {
   "cell_type": "code",
   "execution_count": 2,
   "id": "d805f29a",
   "metadata": {},
   "outputs": [
    {
     "name": "stdout",
     "output_type": "stream",
     "text": [
      "['Y AFGHANISTAN\\n', 'A ALBANIA\\n', 'Y ALGERIA\\n', 'A ANDORRA\\n', 'Y ANGOLA\\n', 'Y ANTIGUA AND BARBUDA\\n', 'Y ARGENTINA\\n', 'A ARMENIA\\n', 'N AUSTRALIA\\n', 'N AUSTRIA\\n']\n"
     ]
    }
   ],
   "source": [
    "import json\n",
    "import os\n",
    "\n",
    "root = os.getcwd()\n",
    "root = os.path.dirname(root)\n",
    "import pandas as pd\n",
    "\n",
    "os.chdir(os.path.join(root, \"src\", \"utils\"))\n",
    "from aka import tri2name, tri2aka\n",
    "\n",
    "covotes = pd.read_csv(os.path.join(root, \"constructed_network\", \"covotes.csv\"), index_col=0)\n",
    "UN_countries = covotes.columns\n",
    "# contravotes = pd.read_csv(os.path.join(root, \"network_data\", \"contravotes.csv\"), index_col=0)\n",
    "\n",
    "\n",
    "# prefriendshipgraph = pd.read_csv(os.path.join(root, \"network_data\", \"pre_friends_network_75.csv\"), index_col=0)\n",
    "# preenemyshipgraph = pd.read_csv(os.path.join(root, \"network_data\", \"pre_enemies_network_75.csv\"), index_col=0)\n",
    "# alliancegraph = pd.read_csv(os.path.join(root, \"network_data\", \"alliances_network.csv\"), index_col=0)\n",
    "# friendshipgraph = pd.read_csv(os.path.join(root, \"network_data\", \"friends_network_75.csv\"), index_col=0)\n",
    "# enemyshipgraph  = pd.read_csv(os.path.join(root, \"network_data\", \"enemies_network_75.csv\"), index_col=0)\n",
    "\n",
    "\n",
    "# pca_prefriends = pd.read_csv(os.path.join(root, \"network_data\", \"pca_prefriends.csv\"), index_col=0)\n",
    "# pca_preenemies = pd.read_csv(os.path.join(root, \"network_data\", \"pca_preenemies.csv\"), index_col=0)\n",
    "# pca_friends = pd.read_csv(os.path.join(root, \"network_data\", \"pca_friends.csv\"), index_col=0)\n",
    "# pca_enemies  = pd.read_csv(os.path.join(root, \"network_data\", \"pca_enemies.csv\"), index_col=0)"
   ]
  },
  {
   "cell_type": "code",
   "execution_count": null,
   "id": "f305e30a",
   "metadata": {},
   "outputs": [],
   "source": []
  },
  {
   "cell_type": "code",
   "execution_count": 3,
   "id": "555f9ba8",
   "metadata": {},
   "outputs": [],
   "source": [
    "# wto = pd.read_csv(os.path.join(root, \"WTO_trade_data\", \"WTO_trade_data2.csv\"), encoding='latin-1')\n",
    "wto = pd.read_csv(os.path.join(root, \"raw_data\", \"WTO_trade_data\", \"bilateral.csv\"), encoding='latin-1')"
   ]
  },
  {
   "cell_type": "code",
   "execution_count": 4,
   "id": "bbc83493",
   "metadata": {},
   "outputs": [
    {
     "data": {
      "text/plain": [
       "Reporting Economy ISO3A Code            ALB\n",
       "Partner Economy ISO3A Code              ATG\n",
       "Year                                   2016\n",
       "Value                           1745.726377\n",
       "Name: 20, dtype: object"
      ]
     },
     "execution_count": 4,
     "metadata": {},
     "output_type": "execute_result"
    }
   ],
   "source": [
    "wto.loc[20]"
   ]
  },
  {
   "cell_type": "code",
   "execution_count": 5,
   "id": "abbeee15",
   "metadata": {},
   "outputs": [],
   "source": [
    "# set(wto[\"Partner Economy\"])"
   ]
  },
  {
   "cell_type": "code",
   "execution_count": 6,
   "id": "486bec6c",
   "metadata": {},
   "outputs": [],
   "source": [
    "\n",
    "from_countries = wto[\"Reporting Economy ISO3A Code\"]\n",
    "# countries = wto[\"Reporting Economy\"]\n",
    "to_countries = wto[\"Partner Economy ISO3A Code\"]"
   ]
  },
  {
   "cell_type": "code",
   "execution_count": 7,
   "id": "3044f2e2",
   "metadata": {},
   "outputs": [],
   "source": [
    "from_to_countries = set(from_countries).union(to_countries)"
   ]
  },
  {
   "cell_type": "code",
   "execution_count": 8,
   "id": "0d5c9187",
   "metadata": {},
   "outputs": [],
   "source": [
    "from_to_countries = sorted(c for c in from_to_countries if not pd.isna(c))"
   ]
  },
  {
   "cell_type": "code",
   "execution_count": 9,
   "id": "722a2889",
   "metadata": {},
   "outputs": [
    {
     "data": {
      "text/plain": [
       "['AFG',\n",
       " 'AGO',\n",
       " 'ALB',\n",
       " 'AND',\n",
       " 'ARE',\n",
       " 'ARG',\n",
       " 'ARM',\n",
       " 'ATG',\n",
       " 'AUS',\n",
       " 'AUT',\n",
       " 'AZE',\n",
       " 'BDI',\n",
       " 'BEL',\n",
       " 'BEN',\n",
       " 'BFA',\n",
       " 'BGD',\n",
       " 'BGR',\n",
       " 'BHR',\n",
       " 'BHS',\n",
       " 'BIH',\n",
       " 'BLR',\n",
       " 'BLZ',\n",
       " 'BOL',\n",
       " 'BRA',\n",
       " 'BRB',\n",
       " 'BRN',\n",
       " 'BTN',\n",
       " 'BWA',\n",
       " 'CAF',\n",
       " 'CAN',\n",
       " 'CHE',\n",
       " 'CHL',\n",
       " 'CHN',\n",
       " 'CHT',\n",
       " 'CIV',\n",
       " 'CMR',\n",
       " 'COD',\n",
       " 'COG',\n",
       " 'COL',\n",
       " 'COM',\n",
       " 'CPV',\n",
       " 'CRI',\n",
       " 'CUB',\n",
       " 'CUW',\n",
       " 'CYP',\n",
       " 'CZE',\n",
       " 'DEU',\n",
       " 'DJI',\n",
       " 'DMA',\n",
       " 'DNK',\n",
       " 'DOM',\n",
       " 'DZA',\n",
       " 'ECU',\n",
       " 'EEC',\n",
       " 'EGY',\n",
       " 'ESP',\n",
       " 'EST',\n",
       " 'ETH',\n",
       " 'FIN',\n",
       " 'FJI',\n",
       " 'FRA',\n",
       " 'GAB',\n",
       " 'GBR',\n",
       " 'GEO',\n",
       " 'GHA',\n",
       " 'GIN',\n",
       " 'GMB',\n",
       " 'GNB',\n",
       " 'GNQ',\n",
       " 'GRC',\n",
       " 'GRD',\n",
       " 'GTM',\n",
       " 'GUY',\n",
       " 'HKG',\n",
       " 'HND',\n",
       " 'HRV',\n",
       " 'HTI',\n",
       " 'HUN',\n",
       " 'IDN',\n",
       " 'IND',\n",
       " 'IRL',\n",
       " 'IRN',\n",
       " 'IRQ',\n",
       " 'ISL',\n",
       " 'ISR',\n",
       " 'ITA',\n",
       " 'JAM',\n",
       " 'JOR',\n",
       " 'JPN',\n",
       " 'KAZ',\n",
       " 'KEN',\n",
       " 'KGZ',\n",
       " 'KHM',\n",
       " 'KNA',\n",
       " 'KOR',\n",
       " 'KWT',\n",
       " 'LAO',\n",
       " 'LBN',\n",
       " 'LBR',\n",
       " 'LBY',\n",
       " 'LCA',\n",
       " 'LIE',\n",
       " 'LKA',\n",
       " 'LSO',\n",
       " 'LTU',\n",
       " 'LUX',\n",
       " 'LVA',\n",
       " 'MAC',\n",
       " 'MAR',\n",
       " 'MDA',\n",
       " 'MDG',\n",
       " 'MDV',\n",
       " 'MEX',\n",
       " 'MKD',\n",
       " 'MLI',\n",
       " 'MLT',\n",
       " 'MMR',\n",
       " 'MNE',\n",
       " 'MNG',\n",
       " 'MOZ',\n",
       " 'MRT',\n",
       " 'MUS',\n",
       " 'MWI',\n",
       " 'MYS',\n",
       " 'NAM',\n",
       " 'NER',\n",
       " 'NGA',\n",
       " 'NIC',\n",
       " 'NLD',\n",
       " 'NOR',\n",
       " 'NPL',\n",
       " 'NZL',\n",
       " 'OMN',\n",
       " 'PAK',\n",
       " 'PAN',\n",
       " 'PER',\n",
       " 'PHL',\n",
       " 'PNG',\n",
       " 'POL',\n",
       " 'PRT',\n",
       " 'PRY',\n",
       " 'QAT',\n",
       " 'ROM',\n",
       " 'RUS',\n",
       " 'RWA',\n",
       " 'SAU',\n",
       " 'SDN',\n",
       " 'SEN',\n",
       " 'SGP',\n",
       " 'SLB',\n",
       " 'SLE',\n",
       " 'SLV',\n",
       " 'SOM',\n",
       " 'SRB',\n",
       " 'SSD',\n",
       " 'STP',\n",
       " 'SUR',\n",
       " 'SVK',\n",
       " 'SVN',\n",
       " 'SWE',\n",
       " 'SWZ',\n",
       " 'SYC',\n",
       " 'SYR',\n",
       " 'TCD',\n",
       " 'TGO',\n",
       " 'THA',\n",
       " 'TJK',\n",
       " 'TKM',\n",
       " 'TLS',\n",
       " 'TON',\n",
       " 'TTO',\n",
       " 'TUN',\n",
       " 'TUR',\n",
       " 'TZA',\n",
       " 'UGA',\n",
       " 'UKR',\n",
       " 'URY',\n",
       " 'USA',\n",
       " 'UZB',\n",
       " 'VAT',\n",
       " 'VCT',\n",
       " 'VEN',\n",
       " 'VNM',\n",
       " 'VUT',\n",
       " 'WSM',\n",
       " 'YEM',\n",
       " 'ZAF',\n",
       " 'ZMB',\n",
       " 'ZWE']"
      ]
     },
     "execution_count": 9,
     "metadata": {},
     "output_type": "execute_result"
    }
   ],
   "source": [
    "from_to_countries"
   ]
  },
  {
   "cell_type": "code",
   "execution_count": 10,
   "id": "ff84cf29",
   "metadata": {},
   "outputs": [],
   "source": [
    "bilateral = pd.DataFrame(index=from_to_countries, columns = from_to_countries)"
   ]
  },
  {
   "cell_type": "code",
   "execution_count": 11,
   "id": "42ba068b",
   "metadata": {},
   "outputs": [
    {
     "data": {
      "text/plain": [
       "Reporting Economy ISO3A Code          ALB\n",
       "Partner Economy ISO3A Code            AUT\n",
       "Year                                 2017\n",
       "Value                           1117265.1\n",
       "Name: 100, dtype: object"
      ]
     },
     "execution_count": 11,
     "metadata": {},
     "output_type": "execute_result"
    }
   ],
   "source": [
    "wto.loc[100]"
   ]
  },
  {
   "cell_type": "code",
   "execution_count": 12,
   "id": "cc9c4831",
   "metadata": {},
   "outputs": [],
   "source": [
    "# try python loop. if too slow, then try other method\n",
    "def process_row(row=wto.loc[100]):\n",
    "    therefrom = row['Reporting Economy ISO3A Code']\n",
    "    thereto = row['Partner Economy ISO3A Code']\n",
    "    value = row['Value']\n",
    "    if therefrom in bilateral.index and thereto in bilateral.columns:\n",
    "        bilateral.loc[therefrom, thereto] = value\n"
   ]
  },
  {
   "cell_type": "code",
   "execution_count": 13,
   "id": "ec19afff",
   "metadata": {},
   "outputs": [],
   "source": [
    "# pivot_df = wto.pivot_table(index='Reporting Economy', columns='Partner Economy', values='Value', aggfunc='sum', fill_value=0)\n",
    "# pivot_df = wto.pivot_table(index='Reporting Economy ISO3A Code', columns='Partner Economy ISO3A Code', values='Value', aggfunc='sum', fill_value=0)"
   ]
  },
  {
   "cell_type": "code",
   "execution_count": 14,
   "id": "0ccdc1f8",
   "metadata": {},
   "outputs": [],
   "source": [
    "pivot_df2 = wto.pivot_table(index=[\"Reporting Economy ISO3A Code\", \"Partner Economy ISO3A Code\", \"Year\"], values=\"Value\", aggfunc='sum', fill_value=0)"
   ]
  },
  {
   "cell_type": "code",
   "execution_count": 15,
   "id": "15a4dc13",
   "metadata": {},
   "outputs": [],
   "source": [
    "pivot_df = pivot_df2.pivot_table(index=\"Reporting Economy ISO3A Code\", columns=[\"Partner Economy ISO3A Code\"], values=\"Value\", aggfunc='mean', fill_value=0)"
   ]
  },
  {
   "cell_type": "code",
   "execution_count": null,
   "id": "896cbb49",
   "metadata": {},
   "outputs": [],
   "source": []
  },
  {
   "cell_type": "code",
   "execution_count": null,
   "id": "7caaf7e4",
   "metadata": {},
   "outputs": [],
   "source": []
  },
  {
   "cell_type": "code",
   "execution_count": 16,
   "id": "dabbc6aa",
   "metadata": {},
   "outputs": [],
   "source": [
    "# missing countries\n",
    "# for c in set(UN_countries).difference(set(pivot_df.index)):\n",
    "#     print(tri2name[c])"
   ]
  },
  {
   "cell_type": "code",
   "execution_count": 17,
   "id": "5d7faf1f",
   "metadata": {},
   "outputs": [],
   "source": [
    "with open(os.path.join(root, \"raw_data\", \"GDP_data\", \"GDP_data.json\")) as f:\n",
    "    GDP = eval(f.read())"
   ]
  },
  {
   "cell_type": "code",
   "execution_count": 18,
   "id": "b7a38d1c",
   "metadata": {},
   "outputs": [
    {
     "name": "stdout",
     "output_type": "stream",
     "text": [
      "CHT\n",
      "EEC\n",
      "MMR\n",
      "ROM\n",
      "VAT\n"
     ]
    }
   ],
   "source": [
    "for c in pivot_df.columns:\n",
    "    try:\n",
    "        GDP[c]\n",
    "    except KeyError:\n",
    "        print(c)"
   ]
  },
  {
   "cell_type": "code",
   "execution_count": 19,
   "id": "0e17c62e",
   "metadata": {},
   "outputs": [],
   "source": [
    "pivot_df.drop(\"VAT\", axis=1, inplace=True) if \"VAT\" in pivot_df.columns else None\n",
    "pivot_df.drop(\"EEC\", axis=1, inplace=True) if \"EEC\" in pivot_df.columns else None\n",
    "pivot_df.drop(\"CHT\", axis=1, inplace=True) if \"CHT\" in pivot_df.columns else None\n",
    "\n",
    "pivot_df.drop(\"VAT\", axis=0, inplace=True) if \"VAT\" in pivot_df.index else None\n",
    "pivot_df.drop(\"EEC\", axis=0, inplace=True) if \"EEC\" in pivot_df.index else None\n",
    "pivot_df.drop(\"CHT\", axis=0, inplace=True) if \"CHT\" in pivot_df.index else None\n"
   ]
  },
  {
   "cell_type": "code",
   "execution_count": 20,
   "id": "89e4f28b",
   "metadata": {},
   "outputs": [],
   "source": [
    "pivot_df.rename({\"MMR\":\"MYR\", \"ROM\":\"ROU\"}, axis=0, inplace=True)\n",
    "pivot_df.rename({\"MMR\":\"MYR\", \"ROM\":\"ROU\"}, axis=1, inplace=True)"
   ]
  },
  {
   "cell_type": "code",
   "execution_count": 21,
   "id": "b1e51602",
   "metadata": {},
   "outputs": [],
   "source": [
    "total = set(pivot_df.columns)\n",
    "given = set(pivot_df.index)\n",
    "unknown = total.difference(given)"
   ]
  },
  {
   "cell_type": "code",
   "execution_count": 22,
   "id": "ba84ab42",
   "metadata": {},
   "outputs": [
    {
     "data": {
      "text/plain": [
       "(186, 102, 84)"
      ]
     },
     "execution_count": 22,
     "metadata": {},
     "output_type": "execute_result"
    }
   ],
   "source": [
    "len(total), len(given), len(unknown)"
   ]
  },
  {
   "cell_type": "code",
   "execution_count": 23,
   "id": "49c57f88",
   "metadata": {},
   "outputs": [],
   "source": [
    "B = sum(GDP[j] for j in unknown)\n",
    "A = dict()\n",
    "for i in total:\n",
    "    A[i] = GDP[i]\n",
    "    \n",
    "h = dict()\n",
    "for i in given:\n",
    "    h[i] = sum(pivot_df.loc[i, :])\n",
    "\n",
    "v = dict()\n",
    "for j in total:\n",
    "    v[j] = sum(pivot_df.loc[i, j] for i in given)"
   ]
  },
  {
   "cell_type": "code",
   "execution_count": 24,
   "id": "f6c08f46",
   "metadata": {},
   "outputs": [],
   "source": [
    "K = 1/len(total)"
   ]
  },
  {
   "cell_type": "code",
   "execution_count": 25,
   "id": "e530da18",
   "metadata": {},
   "outputs": [],
   "source": [
    "k = dict()\n",
    "for i in given:\n",
    "    k[i] = (h[i]-v[i]) / B"
   ]
  },
  {
   "cell_type": "code",
   "execution_count": 26,
   "id": "27b887be",
   "metadata": {},
   "outputs": [],
   "source": [
    "for i in unknown:\n",
    "    k[i] = 1/B*(GDP[i]*sum(k[j] for j in given) + GDP[i]*K - v[i])"
   ]
  },
  {
   "cell_type": "code",
   "execution_count": null,
   "id": "b07dc057",
   "metadata": {},
   "outputs": [],
   "source": []
  },
  {
   "cell_type": "code",
   "execution_count": 27,
   "id": "3c3c52b1",
   "metadata": {},
   "outputs": [
    {
     "data": {
      "text/plain": [
       "155767704"
      ]
     },
     "execution_count": 27,
     "metadata": {},
     "output_type": "execute_result"
    }
   ],
   "source": [
    "total_GDP = sum(GDP[j] for j in pivot_df.columns)\n",
    "T = total_GDP\n",
    "T"
   ]
  },
  {
   "cell_type": "code",
   "execution_count": 28,
   "id": "6192aea2",
   "metadata": {},
   "outputs": [],
   "source": [
    "t = pivot_df.sum().sum() / (T- sum(GDP[c] for c in pivot_df.columns if c not in pivot_df.index))"
   ]
  },
  {
   "cell_type": "code",
   "execution_count": 29,
   "id": "777923a7",
   "metadata": {},
   "outputs": [],
   "source": [
    "countries_inferred = set(pivot_df.columns).difference(set(pivot_df.index))"
   ]
  },
  {
   "cell_type": "code",
   "execution_count": 30,
   "id": "0c041c63",
   "metadata": {},
   "outputs": [],
   "source": [
    "y = dict(zip(countries_inferred, countries_inferred))"
   ]
  },
  {
   "cell_type": "code",
   "execution_count": 31,
   "id": "72ef3a8a",
   "metadata": {},
   "outputs": [],
   "source": [
    "for c in countries_inferred:\n",
    "    Bi = (pivot_df.loc[:, c]).sum()\n",
    "    y[c] = (Bi + GDP[c]*t)/T "
   ]
  },
  {
   "cell_type": "code",
   "execution_count": 32,
   "id": "2be8bab2",
   "metadata": {},
   "outputs": [],
   "source": [
    "for ci in countries_inferred:\n",
    "    for cj in pivot_df.columns:\n",
    "        pivot_df.loc[ci, cj] = y[ci]*GDP[cj]"
   ]
  },
  {
   "cell_type": "code",
   "execution_count": null,
   "id": "8de3e1a2",
   "metadata": {},
   "outputs": [],
   "source": []
  },
  {
   "cell_type": "code",
   "execution_count": 33,
   "id": "a19168dd",
   "metadata": {},
   "outputs": [],
   "source": [
    "pivot_df.to_csv(os.path.join(root, \"constructed_network\", \"trade_flow.csv\"))"
   ]
  },
  {
   "cell_type": "code",
   "execution_count": 34,
   "id": "5254a269",
   "metadata": {},
   "outputs": [
    {
     "name": "stdout",
     "output_type": "stream",
     "text": [
      "eritrea\n",
      "micronesia (federated states of)\n",
      "kiribati\n",
      "monaco\n",
      "marshall islands\n",
      "nauru\n",
      "palau\n",
      "democratic people's republic of korea\n",
      "san marino\n",
      "tuvalu\n"
     ]
    }
   ],
   "source": [
    "for c in UN_countries:\n",
    "    if c not in pivot_df.columns:\n",
    "        print(tri2name[c])"
   ]
  },
  {
   "cell_type": "code",
   "execution_count": 35,
   "id": "758098ff",
   "metadata": {},
   "outputs": [
    {
     "data": {
      "text/plain": [
       "2320"
      ]
     },
     "execution_count": 35,
     "metadata": {},
     "output_type": "execute_result"
    }
   ],
   "source": [
    "(pivot_df==0).sum().sum()"
   ]
  },
  {
   "cell_type": "code",
   "execution_count": 36,
   "id": "d7622d9a",
   "metadata": {},
   "outputs": [
    {
     "data": {
      "text/html": [
       "<div>\n",
       "<style scoped>\n",
       "    .dataframe tbody tr th:only-of-type {\n",
       "        vertical-align: middle;\n",
       "    }\n",
       "\n",
       "    .dataframe tbody tr th {\n",
       "        vertical-align: top;\n",
       "    }\n",
       "\n",
       "    .dataframe thead th {\n",
       "        text-align: right;\n",
       "    }\n",
       "</style>\n",
       "<table border=\"1\" class=\"dataframe\">\n",
       "  <thead>\n",
       "    <tr style=\"text-align: right;\">\n",
       "      <th></th>\n",
       "      <th>Reporting Economy ISO3A Code</th>\n",
       "      <th>Partner Economy ISO3A Code</th>\n",
       "      <th>Year</th>\n",
       "      <th>Value</th>\n",
       "    </tr>\n",
       "  </thead>\n",
       "  <tbody>\n",
       "    <tr>\n",
       "      <th>0</th>\n",
       "      <td>ALB</td>\n",
       "      <td>AFG</td>\n",
       "      <td>2016</td>\n",
       "      <td>555.675171</td>\n",
       "    </tr>\n",
       "    <tr>\n",
       "      <th>1</th>\n",
       "      <td>ALB</td>\n",
       "      <td>AFG</td>\n",
       "      <td>2017</td>\n",
       "      <td>239.071228</td>\n",
       "    </tr>\n",
       "    <tr>\n",
       "      <th>2</th>\n",
       "      <td>ALB</td>\n",
       "      <td>AFG</td>\n",
       "      <td>2017</td>\n",
       "      <td>1.181333</td>\n",
       "    </tr>\n",
       "    <tr>\n",
       "      <th>3</th>\n",
       "      <td>ALB</td>\n",
       "      <td>DZA</td>\n",
       "      <td>2017</td>\n",
       "      <td>28749.047720</td>\n",
       "    </tr>\n",
       "    <tr>\n",
       "      <th>4</th>\n",
       "      <td>ALB</td>\n",
       "      <td>DZA</td>\n",
       "      <td>2016</td>\n",
       "      <td>1598.313252</td>\n",
       "    </tr>\n",
       "    <tr>\n",
       "      <th>...</th>\n",
       "      <td>...</td>\n",
       "      <td>...</td>\n",
       "      <td>...</td>\n",
       "      <td>...</td>\n",
       "    </tr>\n",
       "    <tr>\n",
       "      <th>693253</th>\n",
       "      <td>EEC</td>\n",
       "      <td>ZMB</td>\n",
       "      <td>2020</td>\n",
       "      <td>201358.894200</td>\n",
       "    </tr>\n",
       "    <tr>\n",
       "      <th>693254</th>\n",
       "      <td>EEC</td>\n",
       "      <td>ZMB</td>\n",
       "      <td>2019</td>\n",
       "      <td>617331.037700</td>\n",
       "    </tr>\n",
       "    <tr>\n",
       "      <th>693255</th>\n",
       "      <td>EEC</td>\n",
       "      <td>ZMB</td>\n",
       "      <td>2018</td>\n",
       "      <td>539405.517600</td>\n",
       "    </tr>\n",
       "    <tr>\n",
       "      <th>693256</th>\n",
       "      <td>EEC</td>\n",
       "      <td>ZMB</td>\n",
       "      <td>2016</td>\n",
       "      <td>228817.436000</td>\n",
       "    </tr>\n",
       "    <tr>\n",
       "      <th>693257</th>\n",
       "      <td>EEC</td>\n",
       "      <td>ZMB</td>\n",
       "      <td>2017</td>\n",
       "      <td>171198.379000</td>\n",
       "    </tr>\n",
       "  </tbody>\n",
       "</table>\n",
       "<p>693258 rows × 4 columns</p>\n",
       "</div>"
      ],
      "text/plain": [
       "       Reporting Economy ISO3A Code Partner Economy ISO3A Code  Year  \\\n",
       "0                               ALB                        AFG  2016   \n",
       "1                               ALB                        AFG  2017   \n",
       "2                               ALB                        AFG  2017   \n",
       "3                               ALB                        DZA  2017   \n",
       "4                               ALB                        DZA  2016   \n",
       "...                             ...                        ...   ...   \n",
       "693253                          EEC                        ZMB  2020   \n",
       "693254                          EEC                        ZMB  2019   \n",
       "693255                          EEC                        ZMB  2018   \n",
       "693256                          EEC                        ZMB  2016   \n",
       "693257                          EEC                        ZMB  2017   \n",
       "\n",
       "                Value  \n",
       "0          555.675171  \n",
       "1          239.071228  \n",
       "2            1.181333  \n",
       "3        28749.047720  \n",
       "4         1598.313252  \n",
       "...               ...  \n",
       "693253  201358.894200  \n",
       "693254  617331.037700  \n",
       "693255  539405.517600  \n",
       "693256  228817.436000  \n",
       "693257  171198.379000  \n",
       "\n",
       "[693258 rows x 4 columns]"
      ]
     },
     "execution_count": 36,
     "metadata": {},
     "output_type": "execute_result"
    }
   ],
   "source": [
    "wto"
   ]
  },
  {
   "cell_type": "code",
   "execution_count": 37,
   "id": "b7bb4fed",
   "metadata": {},
   "outputs": [],
   "source": [
    "# make sure the trigraphs are consistent with ISO\n",
    "# ISO3A = dict(zip(wto[\"Partner Economy ISO3A Code\"], wto[\"Partner Economy\"]))"
   ]
  },
  {
   "cell_type": "code",
   "execution_count": 38,
   "id": "45f79b04",
   "metadata": {},
   "outputs": [],
   "source": [
    "# for tri, cname in ISO3A.items():\n",
    "#     try:\n",
    "#         print(f\"ISO3A tri={tri}\\nISO3A name  ={cname}\\nmy trigraph ={tri2name[tri]}\")\n",
    "#     except KeyError:\n",
    "#         print(f\"{tri} is not found in my trigraphs----------------------------------\")"
   ]
  },
  {
   "cell_type": "code",
   "execution_count": 39,
   "id": "667b1431",
   "metadata": {},
   "outputs": [],
   "source": [
    "## Result :\n",
    "# CHT chinese taipei not present in UN country\n",
    "# ROM romania in ISO code but ROU in my trigraph  => c\n",
    "# EEC europeans union in ISO code but not in UN country"
   ]
  },
  {
   "cell_type": "code",
   "execution_count": 40,
   "id": "a263e8e6",
   "metadata": {},
   "outputs": [],
   "source": [
    "# make a percentage-based pivot table.\n",
    "# Each row is \n",
    "pivot_ratio_df = pivot_df.div(pivot_df.sum(axis=1), axis=0)"
   ]
  },
  {
   "cell_type": "code",
   "execution_count": 41,
   "id": "8a4eaaee",
   "metadata": {},
   "outputs": [
    {
     "data": {
      "text/plain": [
       "Text(0.5, 1.0, 'Contravotes with Percentiles')"
      ]
     },
     "execution_count": 41,
     "metadata": {},
     "output_type": "execute_result"
    },
    {
     "data": {
      "image/png": "[encoded data removed]",
      "text/plain": [
       "<Figure size 640x480 with 1 Axes>"
      ]
     },
     "metadata": {},
     "output_type": "display_data"
    }
   ],
   "source": [
    "import matplotlib.pyplot as plt\n",
    "import numpy as np\n",
    "\n",
    "percentiles_to_draw = [10, 25, 75, 90]\n",
    "\n",
    "percentiles = np.percentile(pivot_ratio_df.to_numpy().flatten(), percentiles_to_draw)\n",
    "pivot_percentiles = dict(zip(percentiles_to_draw, percentiles))\n",
    "\n",
    "\n",
    "# Add vertical lines and annotations for percentiles\n",
    "for i, p in enumerate(percentiles):\n",
    "    plt.axvline(p, color='r', linestyle='--', linewidth=2)\n",
    "    plt.text(p, 50, f'{percentiles_to_draw[i]}\\% {p:.2f}', color='r', rotation=90, verticalalignment='bottom')\n",
    "\n",
    "# Add labels and title\n",
    "plt.xlabel('Value')\n",
    "plt.ylabel('Frequency')\n",
    "\n",
    "show_up_to_percentile= 98\n",
    "\n",
    "# plot histogram up to certain percentile\n",
    "data = pivot_ratio_df.to_numpy().flatten()\n",
    "filtered_data = data[data <= np.percentile(data, show_up_to_percentile)]\n",
    "plt.hist(filtered_data, bins=15)\n",
    "\n",
    "plt.title('Contravotes with Percentiles')\n"
   ]
  },
  {
   "cell_type": "code",
   "execution_count": 42,
   "id": "8f95c0af",
   "metadata": {},
   "outputs": [],
   "source": [
    "pivot_ratio_df = pivot_ratio_df.rename_axis(columns={\"ROM\":\"ROU\"}, index={\"ROM\":\"ROU\"})"
   ]
  },
  {
   "cell_type": "code",
   "execution_count": 43,
   "id": "e82369de",
   "metadata": {},
   "outputs": [],
   "source": [
    "threshold_percent = 90\n",
    "threshold = np.percentile(data, threshold_percent)\n",
    "trade_over_90 = pivot_ratio_df.applymap(lambda x: 1 if x>=threshold else 0)\n",
    "\n",
    "threshold_percent = 80\n",
    "threshold = np.percentile(data, threshold_percent)\n",
    "trade_over_80 = pivot_ratio_df.applymap(lambda x: 1 if x>=threshold else 0)\n",
    "\n",
    "\n",
    "threshold_percent = 75\n",
    "threshold = np.percentile(data, threshold_percent)\n",
    "trade_over_75 = pivot_ratio_df.applymap(lambda x: 1 if x>=threshold else 0)\n",
    "\n",
    "\n",
    "\n",
    "\n",
    "threshold_percent = 25\n",
    "threshold = np.percentile(data, threshold_percent)\n",
    "trade_under_25 = pivot_ratio_df.applymap(lambda x: 1 if x>threshold else 0)\n",
    "\n",
    "threshold_percent = 20\n",
    "threshold = np.percentile(data, threshold_percent)\n",
    "trade_under_20 = pivot_ratio_df.applymap(lambda x: 1 if x>threshold else 0)\n",
    "\n",
    "\n",
    "threshold_percent = 10\n",
    "threshold = np.percentile(data, threshold_percent)\n",
    "trade_under_10 = pivot_ratio_df.applymap(lambda x: 1 if x>threshold else 0)\n"
   ]
  },
  {
   "cell_type": "code",
   "execution_count": 44,
   "id": "893557eb",
   "metadata": {},
   "outputs": [
    {
     "data": {
      "text/plain": [
       "(array([ 4.,  5.,  6., 15., 29., 17., 19.,  3.,  3., 85.]),\n",
       " array([15. , 19.5, 24. , 28.5, 33. , 37.5, 42. , 46.5, 51. , 55.5, 60. ]),\n",
       " <BarContainer object of 10 artists>)"
      ]
     },
     "execution_count": 44,
     "metadata": {},
     "output_type": "execute_result"
    },
    {
     "data": {
      "image/png": "[encoded data removed]",
      "text/plain": [
       "<Figure size 640x480 with 1 Axes>"
      ]
     },
     "metadata": {},
     "output_type": "display_data"
    }
   ],
   "source": [
    "# how many partnar countries does each reporting country has?\n",
    "plt.hist(trade_over_75.sum(axis=1))\n",
    "# CCL : about 15-20 most likely. looks like noramlly distributed."
   ]
  },
  {
   "cell_type": "code",
   "execution_count": 45,
   "id": "9e9a96e5",
   "metadata": {},
   "outputs": [],
   "source": [
    "trade_over_90.to_csv(os.path.join(root, \"constructed_network\", \"trade_over90.csv\"))\n",
    "trade_over_80.to_csv(os.path.join(root, \"constructed_network\", \"trade_over80.csv\"))\n",
    "trade_over_75.to_csv(os.path.join(root, \"constructed_network\", \"trade_over75.csv\"))\n",
    "\n",
    "trade_under_25.to_csv(os.path.join(root,\"constructed_network\",  \"trade_under25.csv\"))\n",
    "trade_under_20.to_csv(os.path.join(root,\"constructed_network\",  \"trade_under20.csv\"))\n",
    "trade_under_10.to_csv(os.path.join(root,\"constructed_network\",  \"trade_under10.csv\"))\n",
    "\n"
   ]
  },
  {
   "cell_type": "code",
   "execution_count": 46,
   "id": "ef82260a",
   "metadata": {},
   "outputs": [
    {
     "data": {
      "text/plain": [
       "2320"
      ]
     },
     "execution_count": 46,
     "metadata": {},
     "output_type": "execute_result"
    }
   ],
   "source": [
    "(pivot_df == 0).sum().sum()"
   ]
  },
  {
   "cell_type": "code",
   "execution_count": null,
   "id": "468a64bc",
   "metadata": {},
   "outputs": [],
   "source": []
  },
  {
   "cell_type": "code",
   "execution_count": null,
   "id": "ef273388",
   "metadata": {},
   "outputs": [],
   "source": []
  }
 ],
 "metadata": {
  "kernelspec": {
   "display_name": "Python 3 (ipykernel)",
   "language": "python",
   "name": "python3"
  },
  "language_info": {
   "codemirror_mode": {
    "name": "ipython",
    "version": 3
   },
   "file_extension": ".py",
   "mimetype": "text/x-python",
   "name": "python",
   "nbconvert_exporter": "python",
   "pygments_lexer": "ipython3",
   "version": "3.9.12"
  }
 },
 "nbformat": 4,
 "nbformat_minor": 5
}
