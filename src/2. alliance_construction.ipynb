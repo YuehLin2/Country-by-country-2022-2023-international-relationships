{
 "cells": [
  {
   "cell_type": "code",
   "execution_count": 1,
   "id": "0f19985b",
   "metadata": {},
   "outputs": [],
   "source": [
    "# !git clone -b master https://github.com/StefanoNasini/Country-by-country-2022-2023-international-relationships\n",
    "# !cd Country-by-country-2022-2023-international-relationships"
   ]
  },
  {
   "cell_type": "code",
   "execution_count": 1,
   "id": "11b1e980",
   "metadata": {},
   "outputs": [],
   "source": [
    "import os\n",
    "root = os.getcwd()\n",
    "root = os.path.dirname(root)"
   ]
  },
  {
   "cell_type": "markdown",
   "id": "91a1dff4",
   "metadata": {},
   "source": [
    "# Bilateral trade agreement"
   ]
  },
  {
   "cell_type": "code",
   "execution_count": 2,
   "id": "d9438056",
   "metadata": {},
   "outputs": [],
   "source": [
    "\n",
    "\n",
    "with open(os.path.join(root, \"raw_data\", \"bilateral_trade_data\", \"bilateral_trade_data.txt\"), 'r', encoding='utf-8') as f:\n",
    "    wholetext = f.read()\n",
    "\n",
    "tradelist = wholetext.split(\"country\")"
   ]
  },
  {
   "cell_type": "code",
   "execution_count": null,
   "id": "2d0b5f0b",
   "metadata": {},
   "outputs": [],
   "source": []
  },
  {
   "cell_type": "code",
   "execution_count": 3,
   "id": "69e7d567",
   "metadata": {},
   "outputs": [],
   "source": [
    "import os\n",
    "\n",
    "dir_agree = os.path.join(root, \"trade_agreement\")\n",
    "\n",
    "\n",
    "with open(os.path.join(root, 'src', 'utils', 'tri2aka.json'), 'r') as f:\n",
    "    tri2aka = eval(f.read())\n",
    "\n",
    "with open(os.path.join(root, 'src', 'utils', 'orgs_d.json'), 'r') as f:\n",
    "    orgs_d = eval(f.read())\n",
    "#     f.read()\n",
    "\n",
    "    \n",
    "try:\n",
    "    tri2aka.pop(\"ALN\")\n",
    "except KeyError:\n",
    "    pass\n",
    "\n",
    "tri2aka[\"EU\"] = [\"european union\"]\n",
    "tri2aka[\"LHT\"] = [\"lichtenstein\"]"
   ]
  },
  {
   "cell_type": "code",
   "execution_count": 4,
   "id": "6798043b",
   "metadata": {},
   "outputs": [],
   "source": [
    "EU_members = orgs_d[\"EU\"]"
   ]
  },
  {
   "cell_type": "code",
   "execution_count": 5,
   "id": "b012b54a",
   "metadata": {},
   "outputs": [],
   "source": [
    "EU_memberset = set()\n",
    "for (k, v) in EU_members.items():\n",
    "    if v == 1:\n",
    "        EU_memberset.add(k)"
   ]
  },
  {
   "cell_type": "code",
   "execution_count": 6,
   "id": "7f43200e",
   "metadata": {},
   "outputs": [],
   "source": [
    "# remove \\n start\n",
    "for text in tradelist:\n",
    "    text.strip()\n",
    "tradelist = [text[1:] for text in tradelist if text[0] == \"\\n\"]"
   ]
  },
  {
   "cell_type": "code",
   "execution_count": 7,
   "id": "cbb594bf",
   "metadata": {},
   "outputs": [],
   "source": [
    "groups = [text.split(\"\\n\") for text in tradelist]"
   ]
  },
  {
   "cell_type": "code",
   "execution_count": 8,
   "id": "b9fca1a2",
   "metadata": {
    "scrolled": true
   },
   "outputs": [
    {
     "name": "stdout",
     "output_type": "stream",
     "text": [
      "['Y AFGHANISTAN\\n', 'A ALBANIA\\n', 'Y ALGERIA\\n', 'A ANDORRA\\n', 'Y ANGOLA\\n', 'Y ANTIGUA AND BARBUDA\\n', 'Y ARGENTINA\\n', 'A ARMENIA\\n', 'N AUSTRALIA\\n', 'N AUSTRIA\\n']\n"
     ]
    }
   ],
   "source": [
    "agree = {}\n",
    "\n",
    "os.chdir(os.path.join(root, \"src\", \"utils\"))\n",
    "from aka import Nothing, Several, guess_country\n",
    "os.chdir(root)\n",
    "\n",
    "def record_rel(mother, child):\n",
    "    if mother in agree.keys():\n",
    "        if child not in agree[mother]:\n",
    "            agree[mother].append(child)\n",
    "    else:\n",
    "        agree[mother] = [child]\n"
   ]
  },
  {
   "cell_type": "code",
   "execution_count": 9,
   "id": "120859b5",
   "metadata": {},
   "outputs": [],
   "source": [
    "show_process_country_text = False\n",
    "def process_country_text(ctext):\n",
    "    lines = ctext.split(\"\\n\")\n",
    "    result = []\n",
    "    mother_tri = None\n",
    "    for line in lines:\n",
    "        try:\n",
    "            tri = guess_country(line, mother_tri)\n",
    "            if mother_tri is None:\n",
    "                mother_tri = tri\n",
    "            result.append(tri)\n",
    "            print(\"passed\") if show_process_country_text else None\n",
    "        except Nothing:\n",
    "            print(\"not found ---------------\") if show_process_country_text else None\n",
    "            result.append(line)\n",
    "        except Several:\n",
    "            print(\"found several------------\") if show_process_country_text else None\n",
    "            result.append(line)\n",
    "    return result\n",
    "\n",
    "class Head(Exception):\n",
    "    pass\n",
    "\n",
    "def generate_second_processing(result):\n",
    "    head_c = result[0]\n",
    "    \n",
    "    remain_aka_list = [head_c]\n",
    "    added_text_list = [head_c]\n",
    "    for result_item in result:\n",
    "        if result_item == head_c:\n",
    "            continue\n",
    "        if result_item in tri2aka.keys():\n",
    "            remain_aka_list.append(result_item)\n",
    "        else:\n",
    "            added_text_list.append(result_item)\n",
    "    return remain_aka_list, added_text_list"
   ]
  },
  {
   "cell_type": "code",
   "execution_count": 10,
   "id": "b8a61d31",
   "metadata": {},
   "outputs": [],
   "source": [
    "ctext = tradelist[0]"
   ]
  },
  {
   "cell_type": "code",
   "execution_count": 11,
   "id": "355f941e",
   "metadata": {},
   "outputs": [
    {
     "data": {
      "text/plain": [
       "['european union']"
      ]
     },
     "execution_count": 11,
     "metadata": {},
     "output_type": "execute_result"
    }
   ],
   "source": [
    "tri2aka[\"EU\"]"
   ]
  },
  {
   "cell_type": "code",
   "execution_count": 12,
   "id": "46353473",
   "metadata": {},
   "outputs": [],
   "source": [
    "result = process_country_text(ctext)"
   ]
  },
  {
   "cell_type": "code",
   "execution_count": 13,
   "id": "2005bfab",
   "metadata": {},
   "outputs": [
    {
     "data": {
      "text/plain": [
       "['Armenia\\no   Belarus\\no   Kazakhstan\\no   Kyrgyzstan\\no   Moldova\\no   Russia\\no   Turkmenistan\\no   Tajikistan\\no   Uzbekistan\\n§  Vietnam free trade agreement[3]\\n§  China trade and economic agreement\\n§  Iran free trade agreement[4]\\n§  Serbia free trade agreement[5]\\n§  Singapore free trade agreement[6]\\n§  Bulgaria,\\n§  Croatia,\\n§  Republic of Cyprus,\\n§  Austria, \\nBelgium,\\n§  Czech Republic, \\nDenmark, \\nEstonia, \\nFinland, \\nFrance,\\n Germany, \\nGreece\\n, Hungary,\\n Ireland,\\n Italy, \\nLatvia\\n, Lithuania, \\nLuxembourg\\n, Malta,\\n Netherlands,\\n Poland, \\nPortugal, \\nRomania,\\n Slovakia, \\nSlovenia, \\nSpain an\\n Sweden.\\n·       Georgia[7]\\n·       Ukraine[8]\\n·   \\tUnited States \\n \\n ',\n",
       " 'Australia[edit]\\n·       Chile\\n·       China\\n·       Hong Kong\\n·       India\\n·       Indonesia\\n·       Japan\\n·       Malaysia\\n·       New Zealand\\n·       Papa New Guinea\\n·       Peru\\n·       Singapore\\n·       South Korea\\n·       Thailand\\n·       United States\\n·       United Kingdom\\n ',\n",
       " 'Azerbaijan[1][edit]\\n·       Georgia\\n·       Kazakhstan\\n·       Moldova\\n·       Russia\\n·       Turkmenistan\\n·       Ukraine\\n·       Uzbekistan\\n·   \\t',\n",
       " 'Brunei[1][edit]\\n·       Japan\\n ',\n",
       " \"China, People's Republic of China[edit]\\n \\nThe People's Republic of China has bilateral trade agreements with the following blocs, countries, and its two special administrative regions:[13]\\n·       Hong Kong,\\n·       Macau\\n·       Chile\\n·       Pakistan\\n·       New Zealand\\n·       Singapore, \\n·       Peru, \\n·       Costa Rica, \\n·       Iceland, \\n·       Switzerland\\n·       Australia, \\n·       South Korea\\n·       Georgia, \\n \",\n",
       " 'Colombia[edit]\\n·       Canada (15 August 2011)\\n·       Chile (8 May 2009)\\n·       Costa Rica (29 July 2016)\\no   Iceland (1 October 2014)\\no   Liechtenstein\\nSwitzerland (1 July 2011)\\no   Norway (1 September 2014)\\n·       European Union (5 November 2014)\\n·       Israel (11 August 2020)\\n·       South Korea (30 June 2016)\\n·       Mexico (1 January 1995)\\no   Guatemala (12 November 2009)\\no   El Salvador (1 February 2010)\\no   Honduras (27 March 2010)\\n·       United States, 2012)\\n ',\n",
       " \"Costa Rica[edit]\\n \\n·   \\tCanada (1 November 2002)\\n·       Chile (15 February 2002)\\n·       People's Republic of China (1 August 2011)\\n·       Colombia (1 August 2016).\\n·       Dominican Republic (7 March 2002)\\no   Norway (20 August 2014)\\no   Switzerland (29 August 2014)\\no   Liechtenstein (29 August 2014)\\no   Iceland (5 September 2014)\\n·       El Salvador Customs union, (1963, re-launched on 29 October 1993)\\n·       European Union (October 1, 2013).\\n·       Guatemala Customs union, (1963, re-launched on 29 October 1993)\\n·       Honduras Customs union, (1963, re-launched on 29 October 1993)\\n·   \\tMexico (January 1, 1995)\\n·       Nicaragua Customs union, (1963, re-launched on 29 October 1993)\\n·       Panama (31 July 1973, renegotiated and expanded for (1 January 2009)\\n·       Peru (1 June 2013)\\n·       Singapore (16 May 2013).\\n·       South Korea (6 March 2019)\\n·   \\tUnited States (1 January 2009)\\n \",\n",
       " 'Faroe Islands[edit]\\n·       Switzerland\\n·       Norway\\n·       Iceland (The Hoyvík Agreement)\\n·   \\tThe European Union\\n·       Turkey (October 1, 2017)\\n ',\n",
       " 'Georgia[1][edit]\\n \\n·       Armenia\\n·       Azerbaijan\\n·       China\\n·       Iceland, \\nLichtenstein\\n, Norway\\n, Switzerland\\n·       EU\\n·       Russia\\n·       Turkey\\n·       Turkmenistan\\n·       Ukraine\\n·       Uzbekistan ',\n",
       " 'Hong Kong[edit]\\nHong Kong has bilateral free trade agreements with the following countries and blocs:[28]\\n·       Australia\\n·       Chile\\n·       China\\n·       EFTA (Iceland, \\nLichtenstein,\\n Norway,\\n Switzerland)\\n·       Georgia\\n·       Macau\\n·       New Zealand\\n ',\n",
       " 'India[edit]\\n \\n·       Australia\\n·       Bhutan\\n·       Chile\\n·       Japan\\n·       Malaysia\\n·       Nepal\\n·       Singapore\\n·       Sri Lanka\\n·       South Korea\\n·       Mauritius\\n·       United Arab Emirates\\n·   \\t ',\n",
       " 'Indonesia[1][edit]\\n·       Australia signed in 2019)\\n·       Chile Agreement, signed in 2017)\\n·       (Iceland, \\nLichtenstein,\\n Norway,\\n Switzerland) in 2018)\\n·       Iran \\n·       Japan 2007)\\n·       Mozambique \\n·       Pakistan 2012)\\n·       Palestine\\n·       South Korea Agreement, signed in 2020)\\n·       Switzerland Partnership Agreement, signed in 2021)\\n·       United Arab Emirates Partnership Agreement, signed in 2022)\\n ',\n",
       " 'Israel[edit]\\n·       Canada –\\n·       Colombia[33]\\n·       European Free Trade Association[34]\\n·       European Union[35]\\n·       Jordan[36]\\n·       Mexico[37]\\n·       Mercosur[38]\\n·       Panama[39]\\n·       South Korea[40]\\n·       Turkey[41]\\n·       Ukraine[42]\\n·       United Arab Emirates[43]\\n·       United Kingdom[44]\\n·       United States – Israel–United States Free Trade Agreement[45]\\n ',\n",
       " 'Japan[edit]\\n·       Australia (Entry into force 2015)\\n·       European Union (EU–Japan Economic Partnership Agreement) (Entry into force in 2019)\\n·       India (Entry into force in 2011)\\n·       Indonesia (Japan–Indonesia Economic Partnership Agreement) (Entry into force in 2008)\\n·       Malaysia (Entry into force in 2006)\\n·       Mexico (Entry into force in 2005)\\n·       Mongolia (Entry into force in 2016)\\n·       Peru (Entry into force in 2012)\\n·       Philippines (Entry into force in 2008)\\n·       Singapore (Entry into force in 2002)\\n·       Switzerland (Entry into force in 2009)\\n·       Thailand (Japan–Thailand Economic Partnership Agreement) (Entry into force in 2007)\\n·       Vietnam (Entry into force in 2009)\\n·       United Kingdom (signed in 2020)\\n·       United States (Entry into force in 2020)\\n ',\n",
       " 'Jordan[edit]\\n·       Canada\\n·       Pakistan\\n·       Algeria\\n·       Libya\\n·       Syria\\n·       Kuwait\\n·       Bahrain\\n·       Peru\\n·   \\tUnited States \\n·   \\tThe European Free Trade Association\\n·   \\tThe European Union\\n ',\n",
       " 'Kazakhstan[1][edit]\\n·       Russia\\n·       Ukraine\\n·       Uzbekistan\\n ',\n",
       " 'Kyrgyz Republic[edit]\\n·       Kazakhstan (Entry into force: 11 November 1995)\\n·       Moldova (Entry into force: 21 November 1996)\\n·       Russian Federation (Entry into force: 24 April 1993)\\n·       Ukraine (Entry into force: 19 January 1998)\\n·       Uzbekistan (Entry into force: 20 March 1998)\\n ',\n",
       " 'Lebanon[edit]\\n·       Iraq\\n·       European Union\\n ',\n",
       " 'Laos[edit]\\n·       Thailand\\n ',\n",
       " 'Malaysia[edit]\\n·       India\\n·       New Zealand\\n·       Japan\\n·       Pakistan\\n·       Australia[47]\\n·       Turkey\\n·       Chile\\n·   \\t ',\n",
       " 'Marshall Islands[edit]\\n·       Taiwan (2023, Not yet in effect)\\n ',\n",
       " 'Mexico[edit]\\n \\n·   \\tFree trade agreements\\no   NAFTA\\no   TPP\\no   Chile\\no   Colombia–\\no   Costa Rica–\\no   (Iceland, Lichtenstein, Norway, Switzerland)– Norway, Switzerland)\\no   European Union–Mexico Economic Partnership\\no   Israel–Mexico Free Trade Agreement\\no   Japan–Mexico Economic Association Agreement\\no   Nicaragua–Mexico Free Trade Agreement\\no   Northern Triangle (El Salvador, Honduras and Guatemala)\\no   Panama[53]\\no   Uruguay\\no   Argentina\\no   Brazil\\no   Ecuador\\no   Paraguay\\no   Panama\\no   Peru\\n ',\n",
       " 'Micronesia[edit]\\n·       United States\\n ',\n",
       " 'Morocco[edit]\\n·       European Union\\n·       European Free Trade Association\\n·       Jordan\\n·       Egypt\\n·       Tunisia\\n·       State of Palestine\\n·       United Arab Emirates\\n·       Turkey\\n·       China\\n·       United States\\n ',\n",
       " \"New Zealand[edit]\\n·   \\tAustralia (as Closer Economic Relations)\\n·       Malaysia\\n·       Singapore\\n·       Thailand\\n·       Chile\\n·       People's Republic of China (see China–New Zealand Free Trade Agreement)\\n·       Brunei (see Trans-Pacific Strategic Economic Partnership)\\n·       Hong Kong (see Hong Kong–New Zealand Closer Economic Partnership Agreement)\\n·       Taiwan[54]\\n \",\n",
       " 'Pakistan[edit]\\n·       Afghanistan\\n·       China\\n·       Indonesia\\n·       Turkey\\n ',\n",
       " 'Panama[edit]\\nPanama has bilateral agreements with the following countries:\\n·       Chile\\n·       Costa Rica\\n·       El Salvador\\n·       Guatemala\\n·       Honduras\\n·       Israel\\n·       Mexico[53]\\n·       Nicaragua\\n·       Peru\\n·       Republic of China (Taiwan)\\n·       Singapore\\n·       South Korea\\n·       United States\\n·   \\t ',\n",
       " \"Peru[edit]\\n·   \\tCanada\\n·   \\tCosta Rica\\n·       (Iceland, \\nLichtenstein\\n, Norway\\n, Switzerland)\\n·       People's Republic of China\\n·   \\tJapan\\n·   \\tMexico\\n·       Panama\\n·       Singapore\\n·       Thailand\\n·   \\tUnited States\\n·       EU\\n \",\n",
       " 'Serbia[edit]\\n \\n·       EU (SAA)\\n·       (Iceland, Lichtenstein, Norway, Switzerland)\\n·   \\tRussia\\n·       Belarus\\n·       Turkey\\n·       Kazakhstan\\n·   \\tUnited States (GSP)\\n ',\n",
       " \"Singapore[edit]\\n \\n·       Australia\\n·       Brunei\\n·       Chile\\n·       Costa Rica\\n·       Republic of China (Taiwan)[54]\\n·       European Free Trade Association\\n·       India\\n·       Japan\\n·       Jordan\\n·       New Zealand (separate from the Trans-Pacific Strategic Economic Partnership (see above) and is still in force)\\n·       Panama\\n·       Peru\\n·       South Korea\\n·       Sri Lanka\\n·       People's Republic of China\\n·       Turkey\\n·       United Kingdom[55]\\n·       United States\\n·       European Union[56]\\n·   \\tUnited Arab Emirates\\n·   \\tOman\\n \",\n",
       " 'South Korea[edit]\\n·       Australia (see Korea–Australia Free Trade Agreement KAFTA)\\n·       Canada (see South Korea–Canada Free Trade Agreement)\\n·   \\tCentral America (Costa Rica, El Salvador, Honduras, Nicaragua, Panama)\\n·       China (see South Korea–China Free Trade Agreement)\\n·       Chile\\n·       Colombia\\n·       Costa Rica\\n·       (Iceland, \\nLichtenstein, \\nNorway,\\n Switzerland)\\n·       European Union (European Union–South Korea Free Trade Agreement) (entered in to force on 13 December 2015)[24]\\n·       India (see Comprehensive Economic Partnership Agreement)\\n·       Israel (see South Korea–Israel Free Trade Agreement) (signed on 12 May 2021)\\n·       Indonesia\\n·       New Zealand [1]\\n·       Peru (see South Korea–Peru Free Trade Agreement)\\n·   \\tPhilippines\\n·       Singapore\\n·       Turkey [2]\\n·       United Kingdom (enter in to force after Brexit)\\n·       United States (see South Korea–US Free Trade Agreement)\\n·       Vietnam [3]\\n ',\n",
       " \"Switzerland[edit]\\n·       Albania (Signed: 17.12.2009: Entry into force: 01.11.2010)\\n·       Bosnia-Herzegovina (Entry into force: 01.01.2015)\\n·       Canada (Entry into force 01.07.2009)\\n·       Chile (Entry into force: 01.12.2004)\\n·       People's Republic of China (Entry into force: July 1, 2014)[16]\\n·       Colombia (Signed: 25.11.2008. Entry into force: 01.07.2011)\\n·       Costa Rica (Entry into force: 29.08.2014)\\n·       Ecuador (Entry into force: 01.11.2020)\\n·       Egypt (Entry into force: 01.09.2008)\\n·       European Union (Entry into force: 01.01.1973; bilateral CH–EU)\\n·       Faeroe Islands (Entry into force: 01.03.1995; bilateral CH–Faeroe)\\n·       Georgia (Entry into force: 01.05.2018)\\n·       Hong Kong (Entry into force: 01.10.2012)\\n·       Indonesia (Entry into force: 01.11.2021)\\n·       Israel (Entry into force: 01.07.1993)\\n·       Japan (Entry into force: 01.09.2009. Bilateral CH–Japan)\\n·       Jordan (Entry into force: 01.09.2002)\\n·       Republic of Korea (Entry into force: 01.09.2006)\\n·       Lebanon (Entry into force: 01.01.2007)\\n·       North Macedonia (Entry into force: 01.05.2002)\\n·       Mexico (Entry into force: 01.07.2001)\\n·       Morocco (Entry into force: 01.12.1999)\\n·       Palestinian Authority (Entry into force: 01.07.1999)\\n·       Panama (Entry into force: 29.08.2014)\\n·       Peru (Signed: 24.06.2010 (EFTA) and 14.07.2010 (Peru). Entry into force on 01.07.2011)\\n·       Philippines (Entry into force: 01.06.2018)\\n·       Serbia (Signed: 17.12.2009: Entry into force: 01.10.2010)\\n·       Singapore (Entry into force: 01.01.2003)\\n·       Tunisia (Entry into force: 01.06.2006)\\n·       Turkey (Entry into force: 01.04.1992)\\n·       Ukraine (Signed 24.06.2010. Entry into force 01.06.2012)\\n·       United Kingdom (Entry into force: 01.01.2021; bilateral CH–UK\\n \",\n",
       " 'Tajikistan[edit]\\n·       Belarus\\n·       Ukraine\\n·       Uzbekistan\\n ',\n",
       " 'Thailand[edit]\\n·   \\tAustralia\\n·   \\tIndia[60]\\n·   \\tJapan (Japan–Thailand Economic Partnership Agreement signed in 2007)\\n·   \\tNew Zealand\\n·       Peru\\n·       Chile[61]\\n ',\n",
       " 'Tunisia[edit]\\n·       Morocco\\n·       European Free Trade Association\\n·       Jordan\\n·       Senegal\\n·       Egypt\\n·       Algeria\\n·       Libya\\n·       Mauritania\\n·       Turkey\\n·       European Union\\n ',\n",
       " 'Turkey[edit]\\n·       European Free Trade Association (September 1, 1992, updated June 25, 2018)\\n·       European Union (December 31, 1995)\\n·       Organization of the Black Sea Economic Cooperation\\n·       Economic Cooperation Organization Trade Agreement\\n·       Albania (May 1, 2008)\\n·       Azerbaijan (February 25, 2020)\\n·       Bosnia-Herzegovina (July 1, 2003)\\n·       Chile (March 1, 2011)\\n·       Egypt (March 1, 2007)\\n·       Faroe Islands (October 1, 2017)\\n·       Georgia (November 1, 2008)\\n·       Israel (May 1, 1997)\\n·       Kosovo (September 1, 2019)\\n·       Macedonia (September 7, 1999)\\n·       Malaysia (August 1, 2015)\\n·       Mauritius (June 1, 2013)\\n·       Moldova (November 1, 2016)\\n·       Montenegro (March 1, 2010)\\n·       Morocco (January 1, 2006)\\n·       Palestinian Authority (July 20, 2004)\\n·       North Macedonia (September 1, 2000)\\n·       Serbia (September 1, 2010, updated June 1, 2019)\\n·       Singapore (October 1, 2017)\\n·       South Korea (May 1, 2013, updated August 1, 2018)\\n·       Tunisia (July 1, 2005)\\n·       Ukraine (February 3, 2022)\\n·       United Kingdom (December 29, 2020)\\n·       Venezuela (May 17, 2018)\\n ',\n",
       " 'United Kingdom[edit]\\n·   \\tAndean Countries (Colombia, Ecuador and Peru) (2021)\\n·       Cameroon (2021)\\n·       Canada (2021)\\n·       CARIFORUM (2021)\\n·       Central America (2021)\\n·       Chile (2021)\\n·       Faroe Islands (2021)\\n·   \\tEastern and Southern African Nations (2021)\\n·       European Union)(2021)\\n·       Georgia (2021)\\n·       Ghana (2021)\\n·       Iceland]\\n,Liechtenstein and \\nNorway (2021)\\n·       Israel (2021)\\n·       Ivory Coast (2021)\\n·       Japan (2020)\\n·       Jordan (2021)\\n·       Kenya (2021)\\n·       Kosovo (2021)\\n·       Lebanon (2021)\\n·       Mexico (2021)\\n·       Moldova (2021)\\n·       Morocco (2021)\\n·       North Macedonia (2021)\\n·       Palestinian Authority (2021)\\n·   \\tPacific Countries (2021)\\n·       SACUM (2021)\\n·       Serbia (2021)\\n·       South Korea (2021)\\n·       Switzerland (2021)\\n·       Tunisia (2021)\\n·       Ukraine (2021)\\n·       Singapore (2021)\\n·       Turkey (2021)\\n·       Vietnam (2021)\\n ',\n",
       " 'United States[edit]\\n·       Australia\\n·       Bahrain\\n·       Chile\\n·       Colombia\\n·       Costa Rica\\n·       Dominican Republic\\n·       El Salvador\\n·       Guatemala\\n·       Honduras\\n·       Israel\\n·       Japan (entry into force in 2020)\\n·       Jordan\\n·       Korea\\n·       Nicaragua\\n·       Oman\\n·       Panama\\n·       Peru\\n·       Morocco\\n·       Singapore\\n ',\n",
       " 'Vietnam\\n \\n·       Japan (Entry into force in 2009) [62]\\n·       Chile (Entry into force in 2014) [63]\\n·       South Korea (Entry into force in 2015) [64]\\n·       European Union (Entry into force in 2020) [22]\\n·       United Kingdom (Entry into force in 2021) [65]\\nEuropean Free Trade Association[edit]\\n \\n·       Albania\\n·       Canada: Canada–European Free Trade Association Free Trade Agreement\\n·       Chile\\n·       Colombia\\n·       Costa Rica\\n·       Georgia\\n·       Faroe Islands (autonomous entity of Denmark)\\n·       Egypt[20]\\n·       Hong Kong\\n·   \\tIsrael\\n·       Indonesia\\n·       Jordan\\n·       Lebanon\\n·       North Macedonia\\n·   \\tMexico\\n·       Morocco\\n·       Philippines\\n·       Palestinian Authority\\n·       Serbia\\n·       Singapore\\n·       South Korea\\n·       Tunisia\\n·       Turkey\\n·       Ukraine\\n·   \\t ',\n",
       " 'European Union[edit]\\n \\n \\n·       Albania SAA (2009)\\n·       Algeria AA (2005)\\n·       Andorra CU (1991)\\n·       Bosnia and Herzegovina SAA (2015)\\n·   \\tCanada: Comprehensive Economic and Trade Agreement (provisionally applied)[23]\\n·       Central America AA\\n·       Chile AA (2003)\\n·       Egypt AA (2004)\\n·       Faroe Islands, autonomous entity of Denmark (1997)\\n·       Georgia AA/DCFTA (2014)\\n·   \\tIsrael AA (2000)\\n·       Japan EU-Japan Economic Partnership Agreement (2019)\\n·       Jordan AA (2002)\\n·       Lebanon AA (2006)\\n·       Macedonia SAA (2004)\\n·   \\tMexico AA (2000)\\n·       Montenegro SAA (2010)\\n·       Monaco CU (1958, Franco-Monegasque Treaties)\\n·       Morocco AA (2000)\\n·       Palestinian Authority interim AA (1997)\\n·       San Marino CU (2002)\\n·       Serbia SAA (signed 2008, entry into force on 1 September 2013)\\n·       South Africa AA (2000)\\n·       South Korea: European Union–South Korea Free Trade Agreement (entered in to force on 13 December 2015)[24]\\n·   \\tSwitzerland FTA (1973)\\n·       Tunisia AA (1998)\\n·       Turkey CU (1996)\\n·       EU Overseas Countries and Territories[25]\\n·       Vietnam: European Union-Vietnam Free Trade Agreement (2020)\\n·       United Kingdom: European Union-United Kingdom Trade and Cooperation Agreement (entry into force 1 May 2021)\\n ',\n",
       " 'Mercosur[edit]\\n·   \\tIsrael[49]\\n·   \\tEgypt[50]\\n·   \\tLebanon[51]\\n·   \\tPalestine[52]\\n ',\n",
       " 'Mutual recognition agreements:\\n·       Australia\\n·       New Zealand\\n·       United States\\n ']"
      ]
     },
     "execution_count": 13,
     "metadata": {},
     "output_type": "execute_result"
    }
   ],
   "source": [
    "tradelist"
   ]
  },
  {
   "cell_type": "code",
   "execution_count": 14,
   "id": "8a9f601a",
   "metadata": {},
   "outputs": [
    {
     "data": {
      "text/plain": [
       "(['ARM',\n",
       "  'BLR',\n",
       "  'KAZ',\n",
       "  'KGZ',\n",
       "  'MDA',\n",
       "  'RUS',\n",
       "  'TKM',\n",
       "  'TJK',\n",
       "  'UZB',\n",
       "  'VNM',\n",
       "  'CHN',\n",
       "  'IRN',\n",
       "  'SRB',\n",
       "  'SGP',\n",
       "  'BGR',\n",
       "  'HRV',\n",
       "  'CYP',\n",
       "  'AUT',\n",
       "  'BEL',\n",
       "  'CZE',\n",
       "  'DNK',\n",
       "  'EST',\n",
       "  'FIN',\n",
       "  'FRA',\n",
       "  'DEU',\n",
       "  'GRC',\n",
       "  'HUN',\n",
       "  'IRL',\n",
       "  'ITA',\n",
       "  'LVA',\n",
       "  'LTU',\n",
       "  'LUX',\n",
       "  'MLT',\n",
       "  'NLD',\n",
       "  'POL',\n",
       "  'PRT',\n",
       "  'SVK',\n",
       "  'SVN',\n",
       "  'ESP',\n",
       "  'SWE',\n",
       "  'GEO',\n",
       "  'UKR',\n",
       "  'USA'],\n",
       " ['ARM', 'Romania,', ' ', ' '])"
      ]
     },
     "execution_count": 14,
     "metadata": {},
     "output_type": "execute_result"
    }
   ],
   "source": [
    "generate_second_processing(result)"
   ]
  },
  {
   "cell_type": "code",
   "execution_count": 15,
   "id": "fc58789a",
   "metadata": {},
   "outputs": [],
   "source": [
    "agree = dict()\n",
    "def update_done(done):\n",
    "    mother = done[0]\n",
    "    for child in done:\n",
    "        if child == mother:\n",
    "            continue\n",
    "        record_rel(mother, child)\n",
    "        record_rel(child, mother)\n"
   ]
  },
  {
   "cell_type": "code",
   "execution_count": 16,
   "id": "bc3e70e3",
   "metadata": {},
   "outputs": [
    {
     "name": "stdout",
     "output_type": "stream",
     "text": [
      "['New Zealand[edit]', 'AUS', 'MYS', 'SGP', 'THA', 'CHL', 'BRN', 'TWN']\n",
      "['European Union[edit]', 'ALB', 'DZA', 'AND', 'BIH', 'CAN', 'CHL', 'EGY', 'GEO', 'ISR', 'JPN', 'JOR', 'LBN', 'MEX', 'MNE', 'MCO', 'MAR', 'SMR', 'SRB', 'ZAF', 'KOR', 'CHE', 'TUN', 'TUR', 'VNM', 'GBR']\n",
      "['Mercosur[edit]', 'ISR', 'EGY', 'LBN', 'PAL']\n",
      "['Mutual recognition agreements:', 'AUS', 'USA']\n"
     ]
    }
   ],
   "source": [
    "new_whole_text = []\n",
    "for ctext in tradelist:\n",
    "    result = process_country_text(ctext)\n",
    "    done, to_be_processed = generate_second_processing(result)\n",
    "    new_whole_text.append(to_be_processed)\n",
    "    if len(done[0]) == 3:\n",
    "        update_done(done)\n",
    "    else:\n",
    "        print(done)"
   ]
  },
  {
   "cell_type": "code",
   "execution_count": 17,
   "id": "9a78d7bd",
   "metadata": {},
   "outputs": [
    {
     "name": "stdout",
     "output_type": "stream",
     "text": [
      "['ARM', 'Romania,', ' ', ' ']\n",
      "['AUS', '·       New Zealand', ' ']\n",
      "['AZE', '·   \\t']\n",
      "['BRN', ' ']\n",
      "['CHN', ' ', '·       New Zealand', ' ']\n",
      "['COL', '·       European Union (5 November 2014)', ' ']\n",
      "['CRI', ' ', '·       Dominican Republic (7 March 2002)', '·       European Union (October 1, 2013).', ' ']\n",
      "['FRO', '·   \\tThe European Union', ' ']\n",
      "['GEO', ' ', 'Lichtenstein', '·       EU']\n",
      "['HKG', 'Lichtenstein,', '·       New Zealand', ' ']\n",
      "['IND', ' ', '·   \\t ']\n",
      "['IDN', 'Lichtenstein,', ' ']\n",
      "['ISR', '·       European Free Trade Association[34]', '·       European Union[35]', '·       Mercosur[38]', ' ']\n",
      "['JPN', ' ']\n",
      "['JOR', '·   \\tThe European Free Trade Association', '·   \\tThe European Union', ' ']\n",
      "['KAZ', ' ']\n",
      "['KGZ', ' ']\n",
      "['LBN', '·       European Union', ' ']\n",
      "['LAO', ' ']\n",
      "['MYS', '·       New Zealand', '·   \\t ']\n",
      "['MHL', ' ']\n",
      "['MEX', ' ', '·   \\tFree trade agreements', 'o   NAFTA', 'o   TPP', 'o   (Iceland, Lichtenstein, Norway, Switzerland)– Norway, Switzerland)', 'o   Northern Triangle (El Salvador, Honduras and Guatemala)', ' ']\n",
      "['FSM', ' ']\n",
      "['MAR', '·       European Union', '·       European Free Trade Association', ' ']\n",
      "['New Zealand[edit]', \"·       People's Republic of China (see China–New Zealand Free Trade Agreement)\", '·       Hong Kong (see Hong Kong–New Zealand Closer Economic Partnership Agreement)', ' ']\n",
      "['PAK', ' ']\n",
      "['PAN', '·       Republic of China (Taiwan)', '·   \\t ']\n",
      "['PER', 'Lichtenstein', '·       EU', ' ']\n",
      "['SRB', ' ', '·       EU (SAA)', '·       (Iceland, Lichtenstein, Norway, Switzerland)', ' ']\n",
      "['SGP', ' ', '·       Republic of China (Taiwan)[54]', '·       European Free Trade Association', '·       New Zealand (separate from the Trans-Pacific Strategic Economic Partnership (see above) and is still in force)', '·       European Union[56]', ' ']\n",
      "['KOR', '·   \\tCentral America (Costa Rica, El Salvador, Honduras, Nicaragua, Panama)', 'Lichtenstein, ', '·       New Zealand [1]', ' ']\n",
      "['CHE', '·       Bosnia-Herzegovina (Entry into force: 01.01.2015)', '·       European Union (Entry into force: 01.01.1973; bilateral CH–EU)', '·       Faeroe Islands (Entry into force: 01.03.1995; bilateral CH–Faeroe)', '·       Palestinian Authority (Entry into force: 01.07.1999)', ' ']\n",
      "['TJK', ' ']\n",
      "['THA', '·   \\tNew Zealand', ' ']\n",
      "['TUN', '·       European Free Trade Association', '·       European Union', ' ']\n",
      "['TUR', '·       European Free Trade Association (September 1, 1992, updated June 25, 2018)', '·       European Union (December 31, 1995)', '·       Organization of the Black Sea Economic Cooperation', '·       Economic Cooperation Organization Trade Agreement', '·       Bosnia-Herzegovina (July 1, 2003)', '·       Macedonia (September 7, 1999)', '·       Palestinian Authority (July 20, 2004)', ' ']\n",
      "['GBR', '·   \\tAndean Countries (Colombia, Ecuador and Peru) (2021)', '·       CARIFORUM (2021)', '·       Central America (2021)', '·   \\tEastern and Southern African Nations (2021)', '·       European Union)(2021)', '·       Palestinian Authority (2021)', '·   \\tPacific Countries (2021)', '·       SACUM (2021)', ' ']\n",
      "['USA', '·       Dominican Republic', '·       Korea', ' ']\n",
      "['VNM', ' ', '·       European Union (Entry into force in 2020) [22]', 'European Free Trade Association[edit]', ' ', '·       Faroe Islands (autonomous entity of Denmark)', '·       Palestinian Authority', '·   \\t ']\n",
      "['European Union[edit]', ' ', ' ', '·       Central America AA', '·       Faroe Islands, autonomous entity of Denmark (1997)', '·       Macedonia SAA (2004)', '·       Palestinian Authority interim AA (1997)', '·       EU Overseas Countries and Territories[25]', ' ']\n",
      "['Mercosur[edit]', ' ']\n",
      "['Mutual recognition agreements:', '·       New Zealand', ' ']\n"
     ]
    }
   ],
   "source": [
    "for ctext in new_whole_text:\n",
    "    print(ctext)"
   ]
  },
  {
   "cell_type": "code",
   "execution_count": 18,
   "id": "a4180230",
   "metadata": {},
   "outputs": [],
   "source": [
    "# record_rel(\"ARM\", \"ROU\")\n",
    "record_rel(\"CRI\", \"DOM\")\n",
    "show_guess_country = True\n",
    "# guess_country(\"lichtenstein\")"
   ]
  },
  {
   "cell_type": "code",
   "execution_count": 19,
   "id": "5eb14cf7",
   "metadata": {},
   "outputs": [
    {
     "data": {
      "text/plain": [
       "['',\n",
       " 'COL',\n",
       " 'CRI',\n",
       " 'FRO',\n",
       " 'GEO',\n",
       " 'ISR',\n",
       " 'JPN',\n",
       " 'JOR',\n",
       " 'LBN',\n",
       " 'MEX',\n",
       " 'PER',\n",
       " 'SRB',\n",
       " 'MAR',\n",
       " 'SGP',\n",
       " 'KOR',\n",
       " 'CHE',\n",
       " 'TUN',\n",
       " 'TUR',\n",
       " 'United Kindom',\n",
       " 'VNM',\n",
       " 'ALB',\n",
       " 'DZA',\n",
       " 'AND',\n",
       " 'BIH',\n",
       " 'CAN',\n",
       " '·       Central America AA',\n",
       " 'CHL',\n",
       " 'EGY',\n",
       " '·       Faroe Islands, autonomous entity of Denmark (1997)',\n",
       " 'GEO',\n",
       " 'ISR',\n",
       " 'JPN',\n",
       " 'JOR',\n",
       " 'LBN',\n",
       " '·       Macedonia SAA (2004)',\n",
       " 'MEX',\n",
       " 'MNE',\n",
       " 'MCO',\n",
       " 'MAR',\n",
       " '·       Palestinian Authority interim AA (1997)',\n",
       " 'SMR',\n",
       " 'SRB',\n",
       " 'ZAF',\n",
       " 'KOR',\n",
       " 'CHE',\n",
       " 'TUN',\n",
       " 'TUR',\n",
       " '·       EU Overseas Countries and Territories[25]',\n",
       " 'VNM',\n",
       " 'GBR',\n",
       " '']"
      ]
     },
     "execution_count": 19,
     "metadata": {},
     "output_type": "execute_result"
    }
   ],
   "source": [
    "link_with_EU = \"\"\"\n",
    "Colombia\n",
    "Costa Rica\n",
    "Faroe Islands\n",
    "Georgia\n",
    "Israel\n",
    "Japan\n",
    "Jordan\n",
    "Lebanon\n",
    "Mexico\n",
    "Peru\n",
    "Serbia\n",
    "Morocco\n",
    "Singapore\n",
    "South Korea\n",
    "Switzerland\n",
    "Tunisia\n",
    "Turkey\n",
    "United Kindom\n",
    "Vietnam\n",
    "Albania SAA (2009)\n",
    "·       Algeria AA (2005)\n",
    "·       Andorra CU (1991)\n",
    "·       Bosnia and Herzegovina SAA (2015)\n",
    "·   \tCanada: Comprehensive Economic and Trade Agreement (provisionally applied)[23]\n",
    "·       Central America AA\n",
    "·       Chile AA (2003)\n",
    "·       Egypt AA (2004)\n",
    "·       Faroe Islands, autonomous entity of Denmark (1997)\n",
    "·       Georgia AA/DCFTA (2014)\n",
    "·   \tIsrael AA (2000)\n",
    "·       Japan EU-Japan Economic Partnership Agreement (2019)\n",
    "·       Jordan AA (2002)\n",
    "·       Lebanon AA (2006)\n",
    "·       Macedonia SAA (2004)\n",
    "·   \tMexico AA (2000)\n",
    "·       Montenegro SAA (2010)\n",
    "·       Monaco CU (1958, Franco-Monegasque Treaties)\n",
    "·       Morocco AA (2000)\n",
    "·       Palestinian Authority interim AA (1997)\n",
    "·       San Marino CU (2002)\n",
    "·       Serbia SAA (signed 2008, entry into force on 1 September 2013)\n",
    "·       South Africa AA (2000)\n",
    "·       South Korea: European Union–South Korea Free Trade Agreement (entered in to force on 13 December 2015)[24]\n",
    "·   \tSwitzerland FTA (1973)\n",
    "·       Tunisia AA (1998)\n",
    "·       Turkey CU (1996)\n",
    "·       EU Overseas Countries and Territories[25]\n",
    "·       Vietnam: European Union-Vietnam Free Trade Agreement (2020)\n",
    "·       United Kingdom: European Union-United Kingdom Trade and Cooperation Agreement (entry into force 1 May 2021)\n",
    "\"\"\"\n",
    "\n",
    "process_country_text(link_with_EU)"
   ]
  },
  {
   "cell_type": "code",
   "execution_count": 20,
   "id": "08d3f48e",
   "metadata": {},
   "outputs": [],
   "source": [
    "# replace with trigraph manually\n",
    "link_with_EU ={'ALB',\n",
    " 'AND',\n",
    " 'BIH',\n",
    " 'CAN',\n",
    " 'CHE',\n",
    " 'CHL',\n",
    " 'COL',\n",
    " 'CRI',\n",
    " 'DZA',\n",
    " 'EGY',\n",
    " 'FRO',\n",
    " 'GBR',\n",
    " 'GEO',\n",
    " 'ISR',\n",
    " 'JOR',\n",
    " 'JPN',\n",
    " 'KOR',\n",
    " 'LBN',\n",
    " 'MAR',\n",
    " 'MCO',\n",
    " 'MEX',\n",
    " 'MNE',\n",
    " 'PER',\n",
    " 'SGP',\n",
    " 'SMR',\n",
    " 'SRB',\n",
    " 'TUN',\n",
    " 'TUR',\n",
    " 'VNM',\n",
    " 'ZAF'}"
   ]
  },
  {
   "cell_type": "code",
   "execution_count": null,
   "id": "2bb8e7ab",
   "metadata": {},
   "outputs": [],
   "source": []
  },
  {
   "cell_type": "code",
   "execution_count": 21,
   "id": "306fc55e",
   "metadata": {},
   "outputs": [],
   "source": [
    "for euc in EU_memberset:\n",
    "    for c in link_with_EU.union(EU_memberset):\n",
    "        record_rel(euc, c)\n",
    "        record_rel(c, euc)"
   ]
  },
  {
   "cell_type": "code",
   "execution_count": 26,
   "id": "45e3b8bf",
   "metadata": {},
   "outputs": [],
   "source": [
    "# write down the result\n",
    "if \"constructed_network\" not in os.listdir(root):\n",
    "    os.mkdir(\"constructed_network\")\n",
    "\n",
    "os.chdir(\"constructed_network\")\n",
    "if \"alliance_data\" not in os.listdir():\n",
    "    os.mkdir(\"alliance_data\")\n",
    "os.chdir(root)\n",
    "\n",
    "with open(os.path.join(root, \"constructed_network\", \"alliance_data\", \"trade_alliances.json\"), 'w') as f:\n",
    "    f.write(str(agree))"
   ]
  },
  {
   "cell_type": "code",
   "execution_count": 27,
   "id": "1516cbef",
   "metadata": {},
   "outputs": [],
   "source": [
    "show_guess_country = True\n",
    "# guess_country(\"dominican republic\")"
   ]
  },
  {
   "cell_type": "markdown",
   "id": "ac07288b",
   "metadata": {},
   "source": [
    "# Monetary alliances"
   ]
  },
  {
   "cell_type": "code",
   "execution_count": 28,
   "id": "622b5cfe",
   "metadata": {},
   "outputs": [],
   "source": [
    "trade_agreement = agree\n",
    "agree = {}"
   ]
  },
  {
   "cell_type": "code",
   "execution_count": 29,
   "id": "5d28d21b",
   "metadata": {},
   "outputs": [],
   "source": [
    "# BRICS\n",
    "ctexts = []\n",
    "ctexts.append(\"Brazil, Russia, India, China, and South Africa\".replace(',', '\\n'))"
   ]
  },
  {
   "cell_type": "code",
   "execution_count": null,
   "id": "6fd673c2",
   "metadata": {},
   "outputs": [],
   "source": []
  },
  {
   "cell_type": "code",
   "execution_count": 30,
   "id": "c25cb4c4",
   "metadata": {},
   "outputs": [],
   "source": [
    "# G7\n",
    "ctexts.append(\"Canada, France, Germany, Italy, Japan, the United Kingdom ,and the United States\".replace(',', '\\n'))"
   ]
  },
  {
   "cell_type": "code",
   "execution_count": 31,
   "id": "e9734307",
   "metadata": {},
   "outputs": [],
   "source": [
    "# OPEC\n",
    "ctexts.append(\"Iran, Iraq, Kuwait, Saudi Arabia, Venezuela, Qatar, Indonesia, Libya, United Arab Emirates, Algeria, Nigeria, Ecuador, Gabon, Angola, Equatorial Guinea, Congo.\".replace(',', '\\n'))"
   ]
  },
  {
   "cell_type": "code",
   "execution_count": 32,
   "id": "90d09412",
   "metadata": {},
   "outputs": [],
   "source": [
    "# ECOWAS\n",
    "ctexts.append(\"Benin, Burkina Faso, Cabo Verde, Cote d'Ivoire, Gambia, Ghana, Guinea, Guinea-Bissau, Liberia, Mali, Niger, Nigeria, Senegal, Sierra Leone, Togo.\".replace(',', '\\n'))"
   ]
  },
  {
   "cell_type": "code",
   "execution_count": 33,
   "id": "b75df608",
   "metadata": {},
   "outputs": [],
   "source": [
    "# ASEAN\n",
    "ctexts.append(\"Brunei, Cambodia, Indonesia, Laos, Malaysia, Myanmar, Philippines, Singapore, Thailand, Vietnam\".replace(',', '\\n'))"
   ]
  },
  {
   "cell_type": "code",
   "execution_count": 34,
   "id": "ba2e3be0",
   "metadata": {},
   "outputs": [
    {
     "data": {
      "text/plain": [
       "['Brazil\\n Russia\\n India\\n China\\n and South Africa',\n",
       " 'Canada\\n France\\n Germany\\n Italy\\n Japan\\n the United Kingdom \\nand the United States',\n",
       " 'Iran\\n Iraq\\n Kuwait\\n Saudi Arabia\\n Venezuela\\n Qatar\\n Indonesia\\n Libya\\n United Arab Emirates\\n Algeria\\n Nigeria\\n Ecuador\\n Gabon\\n Angola\\n Equatorial Guinea\\n Congo.',\n",
       " \"Benin\\n Burkina Faso\\n Cabo Verde\\n Cote d'Ivoire\\n Gambia\\n Ghana\\n Guinea\\n Guinea-Bissau\\n Liberia\\n Mali\\n Niger\\n Nigeria\\n Senegal\\n Sierra Leone\\n Togo.\",\n",
       " 'Brunei\\n Cambodia\\n Indonesia\\n Laos\\n Malaysia\\n Myanmar\\n Philippines\\n Singapore\\n Thailand\\n Vietnam']"
      ]
     },
     "execution_count": 34,
     "metadata": {},
     "output_type": "execute_result"
    }
   ],
   "source": [
    "ctexts"
   ]
  },
  {
   "cell_type": "code",
   "execution_count": 35,
   "id": "62c5fd3c",
   "metadata": {},
   "outputs": [],
   "source": [
    "ctextstri = []\n",
    "for ctext in ctexts:\n",
    "    l = []\n",
    "    for c in ctext.split('\\n'):\n",
    "        try:\n",
    "            tri = guess_country(c)\n",
    "            l.append(tri)\n",
    "        except Several:\n",
    "            l.append(c)\n",
    "        except Nothing:\n",
    "            l.append(c)\n",
    "    ctextstri.append(l)"
   ]
  },
  {
   "cell_type": "code",
   "execution_count": 36,
   "id": "f169f32a",
   "metadata": {},
   "outputs": [],
   "source": [
    "ctextstri.append(list(EU_memberset))"
   ]
  },
  {
   "cell_type": "code",
   "execution_count": 37,
   "id": "7f4af635",
   "metadata": {},
   "outputs": [
    {
     "data": {
      "text/plain": [
       "[['BRA', 'RUS', ' India', ' China', 'ZAF'],\n",
       " ['CAN', 'FRA', 'DEU', 'ITA', 'JPN', 'GBR', 'USA'],\n",
       " ['IRN',\n",
       "  'IRQ',\n",
       "  'KWT',\n",
       "  'SAU',\n",
       "  'VEN',\n",
       "  'QAT',\n",
       "  'IDN',\n",
       "  'LBY',\n",
       "  'ARE',\n",
       "  'DZA',\n",
       "  ' Nigeria',\n",
       "  'ECU',\n",
       "  'GAB',\n",
       "  'AGO',\n",
       "  ' Equatorial Guinea',\n",
       "  'COG'],\n",
       " ['BEN',\n",
       "  'BFA',\n",
       "  'CPV',\n",
       "  'CIV',\n",
       "  'GMB',\n",
       "  'GHA',\n",
       "  ' Guinea',\n",
       "  ' Guinea-Bissau',\n",
       "  'LBR',\n",
       "  'MLI',\n",
       "  'NER',\n",
       "  ' Nigeria',\n",
       "  'SEN',\n",
       "  'SLE',\n",
       "  'TGO'],\n",
       " ['BRN', 'KHM', 'IDN', 'LAO', 'MYS', 'MYR', 'PHL', 'SGP', 'THA', 'VNM'],\n",
       " ['SVN',\n",
       "  'AUT',\n",
       "  'FIN',\n",
       "  'HUN',\n",
       "  'HRV',\n",
       "  'LTU',\n",
       "  'SVK',\n",
       "  'LVA',\n",
       "  'CZE',\n",
       "  'EST',\n",
       "  'SWE',\n",
       "  'FRA',\n",
       "  'ROU',\n",
       "  'ESP',\n",
       "  'POL',\n",
       "  'GRC',\n",
       "  'IRL',\n",
       "  'PRT',\n",
       "  'CYP',\n",
       "  'BGR',\n",
       "  'LUX',\n",
       "  'BEL',\n",
       "  'DEU',\n",
       "  'DNK',\n",
       "  'MLT',\n",
       "  'NLD',\n",
       "  'ITA']]"
      ]
     },
     "execution_count": 37,
     "metadata": {},
     "output_type": "execute_result"
    }
   ],
   "source": [
    "ctextstri"
   ]
  },
  {
   "cell_type": "code",
   "execution_count": 38,
   "id": "e72f3f92",
   "metadata": {},
   "outputs": [],
   "source": [
    "# manually enter the member states\n",
    "ctextstri = [['BRA', 'RUS', 'IND', 'CHN', 'ZAF'], ['CAN', 'FRA', 'DEU', 'ITA', 'JPN', 'GBR', 'USA'], ['IRN', 'IRQ', 'KWT', 'SAU', 'VEN', 'QAT', 'IDN', 'LBY', 'ARE', 'DZA', 'NGA', 'ECU', 'GAB', 'AGO', 'GNQ', 'COG'], ['BEN', 'BFA', 'CPV', 'CIV', 'GMB', 'GHA', 'GIN', 'GNB', 'LBR', 'MLI', 'NER', 'NGA', 'SEN', 'SLE', 'TGO'],['BRN', 'KHM', 'IDN', 'LAO', 'MYS', 'MYR', 'PHL', 'SGP', 'THA', 'VNM'],['BEL', 'IRL', 'LUX', 'POL', 'GRC', 'CYP', 'AUT', 'HUN', 'ROU', 'LTU', 'ESP', 'DNK', 'FIN', 'ITA', 'SVN', 'LVA', 'HRV', 'FRA', 'NLD', 'SWE', 'BGR', 'SVK', 'PRT', 'CZE', 'EST', 'DEU', 'MLT']]"
   ]
  },
  {
   "cell_type": "code",
   "execution_count": 39,
   "id": "1867f955",
   "metadata": {},
   "outputs": [],
   "source": [
    "for tris in ctextstri:\n",
    "    for tri1 in tris:\n",
    "        for tri2 in tris:\n",
    "            if tri1 == tri2:\n",
    "                continue\n",
    "            record_rel(tri1, tri2)\n",
    "            record_rel(tri2, tri1)"
   ]
  },
  {
   "cell_type": "code",
   "execution_count": 40,
   "id": "482443c6",
   "metadata": {},
   "outputs": [],
   "source": [
    "with open(os.path.join(root, \"constructed_network\", \"alliance_data\", \"monetary_alliances.json\"), 'w') as f:\n",
    "    f.write(str(agree))"
   ]
  },
  {
   "cell_type": "markdown",
   "id": "ac61f0b8",
   "metadata": {},
   "source": [
    "# Military alliance"
   ]
  },
  {
   "cell_type": "code",
   "execution_count": 41,
   "id": "6a965772",
   "metadata": {},
   "outputs": [],
   "source": [
    "agree = {}\n",
    "ctexts = []"
   ]
  },
  {
   "cell_type": "code",
   "execution_count": 42,
   "id": "11e6e455",
   "metadata": {},
   "outputs": [],
   "source": [
    "os.chdir(os.path.join(root, \"src\", \"utils\"))\n",
    "from aka import name2tri\n",
    "os.chdir(root)"
   ]
  },
  {
   "cell_type": "code",
   "execution_count": 43,
   "id": "718d6371",
   "metadata": {},
   "outputs": [],
   "source": [
    "# NATO \n",
    "NATO = \"Belgium, Canada, Denmark, France, Iceland, Italy, Luxembourg, the Netherlands, Norway, Portugal, the United Kingdom, United States, Greec, Turkey; Germany; Spain; Czech Republic, Hungary, Poland; Bulgaria, Estonia, Latvia, Lithuania, Romania, Slovakia, Slovenia; Albania, Croatia, Montenegro; North Macedonia; Finland.\".replace(',', '\\n').replace(';', '\\n')\n",
    "ctexts.append(NATO)"
   ]
  },
  {
   "cell_type": "code",
   "execution_count": null,
   "id": "88bcfc6c",
   "metadata": {},
   "outputs": [],
   "source": []
  },
  {
   "cell_type": "code",
   "execution_count": 44,
   "id": "5a1863ce",
   "metadata": {},
   "outputs": [
    {
     "name": "stdout",
     "output_type": "stream",
     "text": [
      "found exactly one, which is PHL ['philippines']\n",
      "found exactly one, which is KOR ['republic of korea', 'south korea', 'korea, republic of', 'korea, south']\n",
      "found exactly one, which is TUN ['tunisia']\n"
     ]
    }
   ],
   "source": [
    "# MNNA\n",
    "mnna = \"Argentina, Australia, Bahrain, Brazil, Colombia, Egypt, Israel, Japan, Jordan, Kuwait, Morocco, New Zealand, Pakistan, the Philippines, Qatar, South Korea, Thailand, and Tunisia\".split(',')\n",
    "for cname in mnna :\n",
    "    try:\n",
    "        c = name2tri[cname.lower().strip()]\n",
    "    except KeyError:\n",
    "        c = guess_country(cname, None, True)\n",
    "    record_rel(c, \"USA\")\n",
    "    record_rel(\"USA\", c)"
   ]
  },
  {
   "cell_type": "code",
   "execution_count": 45,
   "id": "cfe606b5",
   "metadata": {},
   "outputs": [],
   "source": [
    "#Five eyes\n",
    "five_eyes = \"United States, United Kingdom, Canada, Australia, New Zealand\".replace(',', '\\n')\n",
    "\n",
    "ctexts.append(five_eyes)"
   ]
  },
  {
   "cell_type": "code",
   "execution_count": 46,
   "id": "5a10fe3d",
   "metadata": {},
   "outputs": [],
   "source": [
    "#CSTO\n",
    "csto = \" Armenia, Belarus, Kazakhstan, Kyrgyzstan, Russia, Tajikistan\".replace(',', '\\n')\n",
    "ctexts.append(csto)"
   ]
  },
  {
   "cell_type": "code",
   "execution_count": 47,
   "id": "7a7ce713",
   "metadata": {},
   "outputs": [],
   "source": [
    "#SCO shanghai cooperation organization\n",
    "sco = \"China, Kazakhstan, Kyrgyzstan, Russia, Tajikistan, Uzbekistan, India, Iran, Pakistan, Belrus, Mongolia\"\n",
    "ctexts.append(sco.replace(',', '\\n'))"
   ]
  },
  {
   "cell_type": "code",
   "execution_count": 48,
   "id": "1de037e1",
   "metadata": {},
   "outputs": [],
   "source": [
    "#AUKUS \n",
    "aukus = \"United States, Australia, United Kingdom\".replace(',', '\\n')\n",
    "ctexts.append(aukus)"
   ]
  },
  {
   "cell_type": "code",
   "execution_count": 49,
   "id": "371f8b05",
   "metadata": {},
   "outputs": [],
   "source": [
    "# Nordic defense cooperation\n",
    "nordefco = \"Denmark, Finland, Iceland, Norway, Sweden\".replace(',', '\\n')\n",
    "ctexts.append(nordefco)"
   ]
  },
  {
   "cell_type": "code",
   "execution_count": 50,
   "id": "49422465",
   "metadata": {},
   "outputs": [],
   "source": [
    "guess_country(\" Solomon Islands.\")\n",
    "record_rel(\"CHN\", \"SLB\")\n",
    "record_rel(\"SLB\", \"CHN\")"
   ]
  },
  {
   "cell_type": "code",
   "execution_count": null,
   "id": "93b1c868",
   "metadata": {},
   "outputs": [],
   "source": []
  },
  {
   "cell_type": "code",
   "execution_count": 51,
   "id": "9322136c",
   "metadata": {},
   "outputs": [],
   "source": [
    "guess_country(\" Sweden\")\n",
    "record_rel(\"SWE\", \"GBR\")\n",
    "record_rel(\"GBR\", \"SWE\")"
   ]
  },
  {
   "cell_type": "code",
   "execution_count": 52,
   "id": "50b5b01b",
   "metadata": {},
   "outputs": [],
   "source": [
    "guess_country(\" finland\")\n",
    "record_rel(\"FIN\", \"GBR\")\n",
    "record_rel(\"GBR\", \"FIN\")"
   ]
  },
  {
   "cell_type": "code",
   "execution_count": 53,
   "id": "ee89caab",
   "metadata": {},
   "outputs": [],
   "source": [
    "guess_country(\" oman\")\n",
    "record_rel(\"OMN\", \"GBR\")\n",
    "record_rel(\"GBR\", \"OMN\")"
   ]
  },
  {
   "cell_type": "code",
   "execution_count": 54,
   "id": "b4f40f05",
   "metadata": {},
   "outputs": [],
   "source": [
    "# Entente\n",
    "ctexts.append(\"Egypt, Iraq, Jordan\".replace(',', '\\n'))"
   ]
  },
  {
   "cell_type": "code",
   "execution_count": 55,
   "id": "9111fcb4",
   "metadata": {},
   "outputs": [],
   "source": [
    "guess_country(\" greece\")\n",
    "record_rel(\"JPN\", \"AUS\")\n",
    "record_rel(\"JPN\", \"GBR\")\n",
    "record_rel(\"GBR\", \"GRC\")\n",
    "\n",
    "record_rel(\"AUS\", \"JPN\")\n",
    "record_rel(\"GBR\", \"JPN\")\n",
    "record_rel(\"GRC\", \"GBR\")"
   ]
  },
  {
   "cell_type": "code",
   "execution_count": 56,
   "id": "c7484cc8",
   "metadata": {},
   "outputs": [
    {
     "data": {
      "text/plain": [
       "[['BRA', 'RUS', 'IND', 'CHN', 'ZAF'],\n",
       " ['CAN', 'FRA', 'DEU', 'ITA', 'JPN', 'GBR', 'USA'],\n",
       " ['IRN',\n",
       "  'IRQ',\n",
       "  'KWT',\n",
       "  'SAU',\n",
       "  'VEN',\n",
       "  'QAT',\n",
       "  'IDN',\n",
       "  'LBY',\n",
       "  'ARE',\n",
       "  'DZA',\n",
       "  'NGA',\n",
       "  'ECU',\n",
       "  'GAB',\n",
       "  'AGO',\n",
       "  'GNQ',\n",
       "  'COG'],\n",
       " ['BEN',\n",
       "  'BFA',\n",
       "  'CPV',\n",
       "  'CIV',\n",
       "  'GMB',\n",
       "  'GHA',\n",
       "  'GIN',\n",
       "  'GNB',\n",
       "  'LBR',\n",
       "  'MLI',\n",
       "  'NER',\n",
       "  'NGA',\n",
       "  'SEN',\n",
       "  'SLE',\n",
       "  'TGO'],\n",
       " ['BRN', 'KHM', 'IDN', 'LAO', 'MYS', 'MYR', 'PHL', 'SGP', 'THA', 'VNM'],\n",
       " ['BEL',\n",
       "  'IRL',\n",
       "  'LUX',\n",
       "  'POL',\n",
       "  'GRC',\n",
       "  'CYP',\n",
       "  'AUT',\n",
       "  'HUN',\n",
       "  'ROU',\n",
       "  'LTU',\n",
       "  'ESP',\n",
       "  'DNK',\n",
       "  'FIN',\n",
       "  'ITA',\n",
       "  'SVN',\n",
       "  'LVA',\n",
       "  'HRV',\n",
       "  'FRA',\n",
       "  'NLD',\n",
       "  'SWE',\n",
       "  'BGR',\n",
       "  'SVK',\n",
       "  'PRT',\n",
       "  'CZE',\n",
       "  'EST',\n",
       "  'DEU',\n",
       "  'MLT']]"
      ]
     },
     "execution_count": 56,
     "metadata": {},
     "output_type": "execute_result"
    }
   ],
   "source": [
    "ctextstri"
   ]
  },
  {
   "cell_type": "code",
   "execution_count": 57,
   "id": "71eb4581",
   "metadata": {},
   "outputs": [],
   "source": [
    "ctextstri = []\n",
    "for ctext in ctexts:\n",
    "    l = []\n",
    "    for c in ctext.split('\\n'):\n",
    "        try:\n",
    "            tri = guess_country(c) if c.lower().strip() not in name2tri else name2tri[c.lower().strip()]\n",
    "            l.append(tri)\n",
    "        except Several:\n",
    "            l.append(c)\n",
    "        except Nothing:\n",
    "            l.append(c)\n",
    "    ctextstri.append(l)\n"
   ]
  },
  {
   "cell_type": "code",
   "execution_count": 58,
   "id": "1b9fb7b8",
   "metadata": {},
   "outputs": [],
   "source": [
    "name2tri = {\" India\":\"IND\", \" China\":\"CHN\", \" Equatorial Guinea\":\"GNQ\", \" Greec\":\"GRC\", \" Romania\":\"ROU\", \" the Netherlands\":\"NLD\", \" Nigeria\":\"NGA\", \" Niger\":\"NER\", \" Guinea-Bissau\":\"GNB\", \" Guinea\":\"GIN\"}"
   ]
  },
  {
   "cell_type": "code",
   "execution_count": 59,
   "id": "15345cbe",
   "metadata": {},
   "outputs": [],
   "source": [
    "for members in ctextstri:\n",
    "    for (i, mem) in enumerate(members):\n",
    "        if mem in name2tri.keys():\n",
    "            members[i] = name2tri[mem]"
   ]
  },
  {
   "cell_type": "code",
   "execution_count": 60,
   "id": "7c499427",
   "metadata": {},
   "outputs": [
    {
     "data": {
      "text/plain": [
       "[['BEL',\n",
       "  'CAN',\n",
       "  'DNK',\n",
       "  'FRA',\n",
       "  'ISL',\n",
       "  'ITA',\n",
       "  'LUX',\n",
       "  'NLD',\n",
       "  'NOR',\n",
       "  'PRT',\n",
       "  'GBR',\n",
       "  'USA',\n",
       "  'GRC',\n",
       "  'TUR',\n",
       "  'DEU',\n",
       "  'ESP',\n",
       "  'CZE',\n",
       "  'HUN',\n",
       "  'POL',\n",
       "  'BGR',\n",
       "  'EST',\n",
       "  'LVA',\n",
       "  'LTU',\n",
       "  'ROU',\n",
       "  'SVK',\n",
       "  'SVN',\n",
       "  'ALB',\n",
       "  'HRV',\n",
       "  'MNE',\n",
       "  'MKD',\n",
       "  'FIN'],\n",
       " ['USA', 'GBR', 'CAN', 'AUS', 'NZL'],\n",
       " ['ARM', 'BLR', 'KAZ', 'KGZ', 'RUS', 'TJK'],\n",
       " ['CHN',\n",
       "  'KAZ',\n",
       "  'KGZ',\n",
       "  'RUS',\n",
       "  'TJK',\n",
       "  'UZB',\n",
       "  'IND',\n",
       "  'IRN',\n",
       "  'PAK',\n",
       "  ' Belrus',\n",
       "  'MNG'],\n",
       " ['USA', 'AUS', 'GBR'],\n",
       " ['DNK', 'FIN', 'ISL', 'NOR', 'SWE'],\n",
       " ['EGY', 'IRQ', 'JOR']]"
      ]
     },
     "execution_count": 60,
     "metadata": {},
     "output_type": "execute_result"
    }
   ],
   "source": [
    "ctextstri"
   ]
  },
  {
   "cell_type": "code",
   "execution_count": 61,
   "id": "5e7e77b2",
   "metadata": {},
   "outputs": [],
   "source": [
    "for tris in ctextstri:\n",
    "    for tri1 in tris:\n",
    "        for tri2 in tris:\n",
    "            if tri1 == tri2:\n",
    "                continue\n",
    "            record_rel(tri1, tri2)"
   ]
  },
  {
   "cell_type": "code",
   "execution_count": 62,
   "id": "4617e355",
   "metadata": {},
   "outputs": [],
   "source": [
    "with open(os.path.join(root, \"constructed_network\", 'alliance_data', 'military_alliances.json'), 'w') as f:\n",
    "    f.write(str(agree))"
   ]
  },
  {
   "cell_type": "code",
   "execution_count": 63,
   "id": "11f7a64b",
   "metadata": {},
   "outputs": [],
   "source": [
    "# guess_country(\"guinea\")"
   ]
  },
  {
   "cell_type": "code",
   "execution_count": 64,
   "id": "0cd39594",
   "metadata": {},
   "outputs": [],
   "source": [
    "with open(os.path.join(root, \"constructed_network\", \"alliance_data\", \"trade_alliances.json\"), 'r') as f:\n",
    "    trade = eval(f.read())\n",
    "    \n",
    "with open(os.path.join(root, \"constructed_network\", \"alliance_data\", \"monetary_alliances.json\"), 'r') as f:\n",
    "    monetary = eval(f.read())\n",
    "    \n",
    "with open(os.path.join(root, \"constructed_network\", \"alliance_data\", \"military_alliances.json\"), 'r') as f:\n",
    "    military = eval(f.read())"
   ]
  },
  {
   "cell_type": "code",
   "execution_count": 65,
   "id": "ce4968c9",
   "metadata": {},
   "outputs": [],
   "source": [
    "agree = {}\n",
    "for d in [trade, monetary, military]:\n",
    "    for tri, allies in d.items():\n",
    "        for c in allies:\n",
    "            record_rel(tri, c)"
   ]
  },
  {
   "cell_type": "code",
   "execution_count": 66,
   "id": "fe70e183",
   "metadata": {},
   "outputs": [],
   "source": [
    "with open(os.path.join(root, \"constructed_network\", \"alliances_network.json\"), 'w') as f:\n",
    "    f.write(str(agree))"
   ]
  },
  {
   "cell_type": "code",
   "execution_count": 67,
   "id": "401cfeee",
   "metadata": {},
   "outputs": [
    {
     "name": "stdout",
     "output_type": "stream",
     "text": [
      " Belrus\n"
     ]
    }
   ],
   "source": [
    "os.chdir(os.path.join(root, \"src\", \"utils\"))\n",
    "from aka import UN_tri\n",
    "os.chdir(root)\n",
    "\n",
    "# Inspect the countries that don't belong to UN\n",
    "for k in agree.keys():\n",
    "    if k in UN_tri:\n",
    "        pass\n",
    "    else:\n",
    "        print(k)"
   ]
  },
  {
   "cell_type": "code",
   "execution_count": 68,
   "id": "a14b85de",
   "metadata": {},
   "outputs": [
    {
     "name": "stdout",
     "output_type": "stream",
     "text": [
      " Belrus removed from RUS\n",
      " Belrus removed from IND\n",
      "Processing china-------\n",
      "['BRA', 'RUS', 'IND', 'ZAF', 'SLB', 'KAZ', 'KGZ', 'TJK', 'UZB', 'IRN', 'PAK', ' Belrus', 'MNG']\n",
      "processing BRA\n",
      "processing RUS\n",
      "processing IND\n",
      "processing ZAF\n",
      "processing SLB\n",
      "processing KAZ\n",
      "processing KGZ\n",
      "processing TJK\n",
      "processing UZB\n",
      "processing IRN\n",
      "processing PAK\n",
      "processing  Belrus\n",
      " Belrus removed from CHN\n",
      "China processed ['BRA', 'RUS', 'IND', 'ZAF', 'SLB', 'KAZ', 'KGZ', 'TJK', 'UZB', 'IRN', 'PAK', 'MNG']\n",
      " Belrus removed from IRN\n",
      " Belrus removed from PAK\n",
      " Belrus removed from KAZ\n",
      " Belrus removed from KGZ\n",
      " Belrus removed from TJK\n",
      " Belrus removed from UZB\n",
      " Belrus removed from MNG\n"
     ]
    }
   ],
   "source": [
    "# Remove countries outside UN for alliances\n",
    "to_be_popped = []\n",
    "for k, v in agree.items():\n",
    "    if k == \"CHN\":\n",
    "        print(\"Processing china-------\")\n",
    "        print(v)\n",
    "    if k not in UN_tri:\n",
    "        to_be_popped.append(k)\n",
    "    else:\n",
    "        for ele in v:\n",
    "            print(f\"processing {ele}\") if k == \"CHN\" else None\n",
    "            if ele not in UN_tri:\n",
    "                v.remove(ele)\n",
    "                print(f\"{ele} removed from {k}\")\n",
    "        print(\"China processed\", v) if k==\"CHN\" else None\n",
    "        \n",
    "for k in to_be_popped:\n",
    "    agree.pop(k)"
   ]
  },
  {
   "cell_type": "code",
   "execution_count": 69,
   "id": "d48a3169",
   "metadata": {},
   "outputs": [
    {
     "name": "stdout",
     "output_type": "stream",
     "text": [
      "BRA\n",
      "RUS\n",
      "IND\n",
      "CHN\n",
      "ZAF\n",
      "CAN\n",
      "FRA\n",
      "DEU\n",
      "ITA\n",
      "JPN\n",
      "GBR\n",
      "USA\n",
      "IRN\n",
      "IRQ\n",
      "KWT\n",
      "SAU\n",
      "VEN\n",
      "QAT\n",
      "IDN\n",
      "LBY\n",
      "ARE\n",
      "DZA\n",
      "NGA\n",
      "ECU\n",
      "GAB\n",
      "AGO\n",
      "GNQ\n",
      "COG\n",
      "BEN\n",
      "BFA\n",
      "CPV\n",
      "CIV\n",
      "GMB\n",
      "GHA\n",
      "GIN\n",
      "GNB\n",
      "LBR\n",
      "MLI\n",
      "NER\n",
      "SEN\n",
      "SLE\n",
      "TGO\n",
      "BRN\n",
      "KHM\n",
      "LAO\n",
      "MYS\n",
      "MYR\n",
      "PHL\n",
      "SGP\n",
      "THA\n",
      "VNM\n",
      "BEL\n",
      "IRL\n",
      "LUX\n",
      "POL\n",
      "GRC\n",
      "CYP\n",
      "AUT\n",
      "HUN\n",
      "ROU\n",
      "LTU\n",
      "ESP\n",
      "DNK\n",
      "FIN\n",
      "SVN\n",
      "LVA\n",
      "HRV\n",
      "NLD\n",
      "SWE\n",
      "BGR\n",
      "SVK\n",
      "PRT\n",
      "CZE\n",
      "EST\n",
      "MLT\n",
      "ARG\n",
      "AUS\n",
      "BHR\n",
      "COL\n",
      "EGY\n",
      "ISR\n",
      "JOR\n",
      "MAR\n",
      "NZL\n",
      "PAK\n",
      "KOR\n",
      "TUN\n",
      "SLB\n",
      "OMN\n",
      "ISL\n",
      "NOR\n",
      "TUR\n",
      "ALB\n",
      "MNE\n",
      "MKD\n",
      "ARM\n",
      "BLR\n",
      "KAZ\n",
      "KGZ\n",
      "TJK\n",
      "UZB\n",
      "MNG\n"
     ]
    }
   ],
   "source": [
    "# store final alliance data into a pandas dataframe\n",
    "import pandas as pd\n",
    "\n",
    "alliances = pd.DataFrame(0, columns= sorted(list(UN_tri)), index=sorted(list(UN_tri)))\n",
    "for k, v in agree.items():\n",
    "    print(k)\n",
    "    alliances.loc[k, v] = 1\n",
    "    \n",
    "\n",
    "\n",
    "alliances.to_csv(os.path.join(root, \"constructed_network\", \"alliances.csv\"))"
   ]
  },
  {
   "cell_type": "code",
   "execution_count": 70,
   "id": "c4cdfd1c",
   "metadata": {},
   "outputs": [
    {
     "data": {
      "text/plain": [
       "False"
      ]
     },
     "execution_count": 70,
     "metadata": {},
     "output_type": "execute_result"
    }
   ],
   "source": [
    "\"MAC\" in agree[\"CHN\"]"
   ]
  },
  {
   "cell_type": "code",
   "execution_count": 71,
   "id": "ff9fce4f",
   "metadata": {},
   "outputs": [
    {
     "data": {
      "text/html": [
       "<div>\n",
       "<style scoped>\n",
       "    .dataframe tbody tr th:only-of-type {\n",
       "        vertical-align: middle;\n",
       "    }\n",
       "\n",
       "    .dataframe tbody tr th {\n",
       "        vertical-align: top;\n",
       "    }\n",
       "\n",
       "    .dataframe thead th {\n",
       "        text-align: right;\n",
       "    }\n",
       "</style>\n",
       "<table border=\"1\" class=\"dataframe\">\n",
       "  <thead>\n",
       "    <tr style=\"text-align: right;\">\n",
       "      <th></th>\n",
       "      <th>AFG</th>\n",
       "      <th>AGO</th>\n",
       "      <th>ALB</th>\n",
       "      <th>AND</th>\n",
       "      <th>ARE</th>\n",
       "      <th>ARG</th>\n",
       "      <th>ARM</th>\n",
       "      <th>ATG</th>\n",
       "      <th>AUS</th>\n",
       "      <th>AUT</th>\n",
       "      <th>...</th>\n",
       "      <th>UZB</th>\n",
       "      <th>VCT</th>\n",
       "      <th>VEN</th>\n",
       "      <th>VNM</th>\n",
       "      <th>VUT</th>\n",
       "      <th>WSM</th>\n",
       "      <th>YEM</th>\n",
       "      <th>ZAF</th>\n",
       "      <th>ZMB</th>\n",
       "      <th>ZWE</th>\n",
       "    </tr>\n",
       "  </thead>\n",
       "  <tbody>\n",
       "    <tr>\n",
       "      <th>AFG</th>\n",
       "      <td>0</td>\n",
       "      <td>0</td>\n",
       "      <td>0</td>\n",
       "      <td>0</td>\n",
       "      <td>0</td>\n",
       "      <td>0</td>\n",
       "      <td>0</td>\n",
       "      <td>0</td>\n",
       "      <td>0</td>\n",
       "      <td>0</td>\n",
       "      <td>...</td>\n",
       "      <td>0</td>\n",
       "      <td>0</td>\n",
       "      <td>0</td>\n",
       "      <td>0</td>\n",
       "      <td>0</td>\n",
       "      <td>0</td>\n",
       "      <td>0</td>\n",
       "      <td>0</td>\n",
       "      <td>0</td>\n",
       "      <td>0</td>\n",
       "    </tr>\n",
       "    <tr>\n",
       "      <th>AGO</th>\n",
       "      <td>0</td>\n",
       "      <td>0</td>\n",
       "      <td>0</td>\n",
       "      <td>0</td>\n",
       "      <td>1</td>\n",
       "      <td>0</td>\n",
       "      <td>0</td>\n",
       "      <td>0</td>\n",
       "      <td>0</td>\n",
       "      <td>0</td>\n",
       "      <td>...</td>\n",
       "      <td>0</td>\n",
       "      <td>0</td>\n",
       "      <td>1</td>\n",
       "      <td>0</td>\n",
       "      <td>0</td>\n",
       "      <td>0</td>\n",
       "      <td>0</td>\n",
       "      <td>0</td>\n",
       "      <td>0</td>\n",
       "      <td>0</td>\n",
       "    </tr>\n",
       "    <tr>\n",
       "      <th>ALB</th>\n",
       "      <td>0</td>\n",
       "      <td>0</td>\n",
       "      <td>0</td>\n",
       "      <td>0</td>\n",
       "      <td>0</td>\n",
       "      <td>0</td>\n",
       "      <td>0</td>\n",
       "      <td>0</td>\n",
       "      <td>0</td>\n",
       "      <td>0</td>\n",
       "      <td>...</td>\n",
       "      <td>0</td>\n",
       "      <td>0</td>\n",
       "      <td>0</td>\n",
       "      <td>0</td>\n",
       "      <td>0</td>\n",
       "      <td>0</td>\n",
       "      <td>0</td>\n",
       "      <td>0</td>\n",
       "      <td>0</td>\n",
       "      <td>0</td>\n",
       "    </tr>\n",
       "    <tr>\n",
       "      <th>AND</th>\n",
       "      <td>0</td>\n",
       "      <td>0</td>\n",
       "      <td>0</td>\n",
       "      <td>0</td>\n",
       "      <td>0</td>\n",
       "      <td>0</td>\n",
       "      <td>0</td>\n",
       "      <td>0</td>\n",
       "      <td>0</td>\n",
       "      <td>0</td>\n",
       "      <td>...</td>\n",
       "      <td>0</td>\n",
       "      <td>0</td>\n",
       "      <td>0</td>\n",
       "      <td>0</td>\n",
       "      <td>0</td>\n",
       "      <td>0</td>\n",
       "      <td>0</td>\n",
       "      <td>0</td>\n",
       "      <td>0</td>\n",
       "      <td>0</td>\n",
       "    </tr>\n",
       "    <tr>\n",
       "      <th>ARE</th>\n",
       "      <td>0</td>\n",
       "      <td>1</td>\n",
       "      <td>0</td>\n",
       "      <td>0</td>\n",
       "      <td>0</td>\n",
       "      <td>0</td>\n",
       "      <td>0</td>\n",
       "      <td>0</td>\n",
       "      <td>0</td>\n",
       "      <td>0</td>\n",
       "      <td>...</td>\n",
       "      <td>0</td>\n",
       "      <td>0</td>\n",
       "      <td>1</td>\n",
       "      <td>0</td>\n",
       "      <td>0</td>\n",
       "      <td>0</td>\n",
       "      <td>0</td>\n",
       "      <td>0</td>\n",
       "      <td>0</td>\n",
       "      <td>0</td>\n",
       "    </tr>\n",
       "    <tr>\n",
       "      <th>...</th>\n",
       "      <td>...</td>\n",
       "      <td>...</td>\n",
       "      <td>...</td>\n",
       "      <td>...</td>\n",
       "      <td>...</td>\n",
       "      <td>...</td>\n",
       "      <td>...</td>\n",
       "      <td>...</td>\n",
       "      <td>...</td>\n",
       "      <td>...</td>\n",
       "      <td>...</td>\n",
       "      <td>...</td>\n",
       "      <td>...</td>\n",
       "      <td>...</td>\n",
       "      <td>...</td>\n",
       "      <td>...</td>\n",
       "      <td>...</td>\n",
       "      <td>...</td>\n",
       "      <td>...</td>\n",
       "      <td>...</td>\n",
       "      <td>...</td>\n",
       "    </tr>\n",
       "    <tr>\n",
       "      <th>WSM</th>\n",
       "      <td>0</td>\n",
       "      <td>0</td>\n",
       "      <td>0</td>\n",
       "      <td>0</td>\n",
       "      <td>0</td>\n",
       "      <td>0</td>\n",
       "      <td>0</td>\n",
       "      <td>0</td>\n",
       "      <td>0</td>\n",
       "      <td>0</td>\n",
       "      <td>...</td>\n",
       "      <td>0</td>\n",
       "      <td>0</td>\n",
       "      <td>0</td>\n",
       "      <td>0</td>\n",
       "      <td>0</td>\n",
       "      <td>0</td>\n",
       "      <td>0</td>\n",
       "      <td>0</td>\n",
       "      <td>0</td>\n",
       "      <td>0</td>\n",
       "    </tr>\n",
       "    <tr>\n",
       "      <th>YEM</th>\n",
       "      <td>0</td>\n",
       "      <td>0</td>\n",
       "      <td>0</td>\n",
       "      <td>0</td>\n",
       "      <td>0</td>\n",
       "      <td>0</td>\n",
       "      <td>0</td>\n",
       "      <td>0</td>\n",
       "      <td>0</td>\n",
       "      <td>0</td>\n",
       "      <td>...</td>\n",
       "      <td>0</td>\n",
       "      <td>0</td>\n",
       "      <td>0</td>\n",
       "      <td>0</td>\n",
       "      <td>0</td>\n",
       "      <td>0</td>\n",
       "      <td>0</td>\n",
       "      <td>0</td>\n",
       "      <td>0</td>\n",
       "      <td>0</td>\n",
       "    </tr>\n",
       "    <tr>\n",
       "      <th>ZAF</th>\n",
       "      <td>0</td>\n",
       "      <td>0</td>\n",
       "      <td>0</td>\n",
       "      <td>0</td>\n",
       "      <td>0</td>\n",
       "      <td>0</td>\n",
       "      <td>0</td>\n",
       "      <td>0</td>\n",
       "      <td>0</td>\n",
       "      <td>0</td>\n",
       "      <td>...</td>\n",
       "      <td>0</td>\n",
       "      <td>0</td>\n",
       "      <td>0</td>\n",
       "      <td>0</td>\n",
       "      <td>0</td>\n",
       "      <td>0</td>\n",
       "      <td>0</td>\n",
       "      <td>0</td>\n",
       "      <td>0</td>\n",
       "      <td>0</td>\n",
       "    </tr>\n",
       "    <tr>\n",
       "      <th>ZMB</th>\n",
       "      <td>0</td>\n",
       "      <td>0</td>\n",
       "      <td>0</td>\n",
       "      <td>0</td>\n",
       "      <td>0</td>\n",
       "      <td>0</td>\n",
       "      <td>0</td>\n",
       "      <td>0</td>\n",
       "      <td>0</td>\n",
       "      <td>0</td>\n",
       "      <td>...</td>\n",
       "      <td>0</td>\n",
       "      <td>0</td>\n",
       "      <td>0</td>\n",
       "      <td>0</td>\n",
       "      <td>0</td>\n",
       "      <td>0</td>\n",
       "      <td>0</td>\n",
       "      <td>0</td>\n",
       "      <td>0</td>\n",
       "      <td>0</td>\n",
       "    </tr>\n",
       "    <tr>\n",
       "      <th>ZWE</th>\n",
       "      <td>0</td>\n",
       "      <td>0</td>\n",
       "      <td>0</td>\n",
       "      <td>0</td>\n",
       "      <td>0</td>\n",
       "      <td>0</td>\n",
       "      <td>0</td>\n",
       "      <td>0</td>\n",
       "      <td>0</td>\n",
       "      <td>0</td>\n",
       "      <td>...</td>\n",
       "      <td>0</td>\n",
       "      <td>0</td>\n",
       "      <td>0</td>\n",
       "      <td>0</td>\n",
       "      <td>0</td>\n",
       "      <td>0</td>\n",
       "      <td>0</td>\n",
       "      <td>0</td>\n",
       "      <td>0</td>\n",
       "      <td>0</td>\n",
       "    </tr>\n",
       "  </tbody>\n",
       "</table>\n",
       "<p>193 rows × 193 columns</p>\n",
       "</div>"
      ],
      "text/plain": [
       "     AFG  AGO  ALB  AND  ARE  ARG  ARM  ATG  AUS  AUT  ...  UZB  VCT  VEN  \\\n",
       "AFG    0    0    0    0    0    0    0    0    0    0  ...    0    0    0   \n",
       "AGO    0    0    0    0    1    0    0    0    0    0  ...    0    0    1   \n",
       "ALB    0    0    0    0    0    0    0    0    0    0  ...    0    0    0   \n",
       "AND    0    0    0    0    0    0    0    0    0    0  ...    0    0    0   \n",
       "ARE    0    1    0    0    0    0    0    0    0    0  ...    0    0    1   \n",
       "..   ...  ...  ...  ...  ...  ...  ...  ...  ...  ...  ...  ...  ...  ...   \n",
       "WSM    0    0    0    0    0    0    0    0    0    0  ...    0    0    0   \n",
       "YEM    0    0    0    0    0    0    0    0    0    0  ...    0    0    0   \n",
       "ZAF    0    0    0    0    0    0    0    0    0    0  ...    0    0    0   \n",
       "ZMB    0    0    0    0    0    0    0    0    0    0  ...    0    0    0   \n",
       "ZWE    0    0    0    0    0    0    0    0    0    0  ...    0    0    0   \n",
       "\n",
       "     VNM  VUT  WSM  YEM  ZAF  ZMB  ZWE  \n",
       "AFG    0    0    0    0    0    0    0  \n",
       "AGO    0    0    0    0    0    0    0  \n",
       "ALB    0    0    0    0    0    0    0  \n",
       "AND    0    0    0    0    0    0    0  \n",
       "ARE    0    0    0    0    0    0    0  \n",
       "..   ...  ...  ...  ...  ...  ...  ...  \n",
       "WSM    0    0    0    0    0    0    0  \n",
       "YEM    0    0    0    0    0    0    0  \n",
       "ZAF    0    0    0    0    0    0    0  \n",
       "ZMB    0    0    0    0    0    0    0  \n",
       "ZWE    0    0    0    0    0    0    0  \n",
       "\n",
       "[193 rows x 193 columns]"
      ]
     },
     "execution_count": 71,
     "metadata": {},
     "output_type": "execute_result"
    }
   ],
   "source": [
    "alliances"
   ]
  },
  {
   "cell_type": "code",
   "execution_count": null,
   "id": "cb9be43d",
   "metadata": {},
   "outputs": [],
   "source": []
  },
  {
   "cell_type": "code",
   "execution_count": null,
   "id": "c2a0f881",
   "metadata": {},
   "outputs": [],
   "source": []
  }
 ],
 "metadata": {
  "kernelspec": {
   "display_name": "Python 3 (ipykernel)",
   "language": "python",
   "name": "python3"
  },
  "language_info": {
   "codemirror_mode": {
    "name": "ipython",
    "version": 3
   },
   "file_extension": ".py",
   "mimetype": "text/x-python",
   "name": "python",
   "nbconvert_exporter": "python",
   "pygments_lexer": "ipython3",
   "version": "3.9.12"
  }
 },
 "nbformat": 4,
 "nbformat_minor": 5
}
