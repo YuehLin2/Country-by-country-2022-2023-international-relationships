{
 "cells": [
  {
   "cell_type": "markdown",
   "id": "9b69946c",
   "metadata": {},
   "source": [
    "# Covote construction\n",
    "## UN resolution data processing"
   ]
  },
  {
   "cell_type": "code",
   "execution_count": 1,
   "id": "4a178040",
   "metadata": {},
   "outputs": [],
   "source": [
    "# !git clone -b master https://github.com/StefanoNasini/Country-by-country-2022-2023-international-relationships\n",
    "# !cd Country-by-country-2022-2023-international-relationships"
   ]
  },
  {
   "cell_type": "code",
   "execution_count": 2,
   "id": "24aff7b5",
   "metadata": {},
   "outputs": [],
   "source": [
    "\n",
    "import os\n",
    "root = os.getcwd()\n",
    "root = os.path.dirname(root)"
   ]
  },
  {
   "cell_type": "code",
   "execution_count": 3,
   "id": "569ed18d",
   "metadata": {},
   "outputs": [],
   "source": [
    "\n",
    "\n",
    "files = os.listdir(os.path.join(root, \"raw_data\", \"UN\"))\n",
    "\n",
    "theme2vote = {}\n",
    "\n",
    "for file in files:\n",
    "    if file.endswith(\".txt\"):\n",
    "        with open(os.path.join(root, \"raw_data\", \"UN\", file), 'r') as f:\n",
    "            lines = f.readlines()\n",
    "            theme2vote[file] = lines"
   ]
  },
  {
   "cell_type": "code",
   "execution_count": 4,
   "id": "99af0028",
   "metadata": {},
   "outputs": [
    {
     "name": "stdout",
     "output_type": "stream",
     "text": [
      "['Y AFGHANISTAN\\n', 'A ALBANIA\\n', 'Y ALGERIA\\n', 'A ANDORRA\\n', 'Y ANGOLA\\n', 'Y ANTIGUA AND BARBUDA\\n', 'Y ARGENTINA\\n', 'A ARMENIA\\n', 'N AUSTRALIA\\n', 'N AUSTRIA\\n']\n"
     ]
    }
   ],
   "source": [
    "vote_example = list(theme2vote.values())[0]\n",
    "print(vote_example[:10])"
   ]
  },
  {
   "cell_type": "code",
   "execution_count": 5,
   "id": "a4260b8d",
   "metadata": {},
   "outputs": [],
   "source": [
    "# From the vote example, retrieve the set of countriies\n",
    "UN_countries = []\n",
    "for s in vote_example:\n",
    "    if s[0:2] in ['Y ', 'A ', 'N ']: # for now, yes/no/abstention is information that is not needed\n",
    "        c = s[2:-1]  if  s[-1] == '\\n' else s[2:]\n",
    "    else:\n",
    "        c = s[:-1] if s[-1] == '\\n' else s[:]\n",
    "    UN_countries.append(c.lower())\n"
   ]
  },
  {
   "cell_type": "code",
   "execution_count": 6,
   "id": "9d73cbb8",
   "metadata": {},
   "outputs": [],
   "source": [
    "# To improve the work, a consistent name using three letters are used. \n",
    "tri2name = {} # trigraph to name\n",
    "name2tri = {} # name to trigraph\n",
    "with open(os.path.join(root, \"src\", \"utils\", \"trigraphs.txt\"), \"r\") as f:\n",
    "    lines = f.readlines()\n",
    "    for line in lines:\n",
    "        if line[0] == '-':\n",
    "            continue\n",
    "        trigraph = line[0:3]\n",
    "        fullname = line[4:-1]\n",
    "        fullname = fullname.lower()\n",
    "        name2tri[fullname] = trigraph\n",
    "        tri2name[trigraph] = fullname"
   ]
  },
  {
   "cell_type": "code",
   "execution_count": 7,
   "id": "ee6afd77",
   "metadata": {},
   "outputs": [],
   "source": [
    "# In other data, the country name can vary in format. To resolve this, we store all the aka's (alternative names) in a dictionary. \n",
    "tri2aka = {}\n",
    "for (tri, name) in tri2name.items():\n",
    "    tri2aka[tri] = [name]\n",
    "\n",
    "def belongs_aka(name):\n",
    "    \"\"\"Check if a name had been recorded in the tri2aka dictionary. \n",
    "    If it exists, return its (unique) trigraph, return False otherwise\"\"\"\n",
    "    name = name.lower()\n",
    "    for (tri, names) in tri2aka.items():\n",
    "        if name in names:\n",
    "            return tri\n",
    "    return False\n",
    "\n",
    "def add_aka(name, aka):\n",
    "    \"Add the new aka to the country with the name that has already been recorded.\"\n",
    "    for (tri, names) in tri2aka.items():\n",
    "        name = name.lower()\n",
    "        if name in names:\n",
    "            aka = aka.lower()\n",
    "            if aka in names:\n",
    "                return None\n",
    "            names.append(aka)\n",
    "            return None\n",
    "    raise Exception(f\"{name} not found\")\n",
    "\n",
    "def add_aka3(tri, aka):\n",
    "    \"Add the new aka to the country with a given trigraph\"\n",
    "    aka = aka.lower()\n",
    "    if aka in tri2aka[tri]:\n",
    "        return None\n",
    "    tri2aka[tri].append(aka)"
   ]
  },
  {
   "cell_type": "code",
   "execution_count": 8,
   "id": "fbfcd3f8",
   "metadata": {},
   "outputs": [],
   "source": [
    "# This block is to add common alternative names. \n",
    "# A big part of them are country names with a title. Some documents put the title first while others put title after a comma.\n",
    "# For instance : title first : Republic of Armenia / title last : Armenia, Republic of\n",
    "\n",
    "add_aka3(\"RUS\", \"russian federation\")\n",
    "add_aka3(\"RUS\", \"Russia\")\n",
    "add_aka('russian federation', 'Russia')\n",
    "add_aka('czechia', 'czech republic')\n",
    "add_aka('turkiye', 'turkey')\n",
    "add_aka('turkiye', 'Türkiye')\n",
    "add_aka('republic of korea', 'south korea')\n",
    "\n",
    "add_aka(\"cote d'ivoire\", \"côte d'ivoire\")\n",
    "add_aka3('AIA', 'Anguilla, United Kingdom-British Overseas Territory')\n",
    "add_aka3('ARM', 'Armenia, Republic of')\n",
    "add_aka3('ABW', 'Aruba, Kingdom of the Netherlands')\n",
    "add_aka3('AZE', 'Azerbaijan, Republic of')\n",
    "add_aka3('BHS', 'Bahamas, The')\n",
    "add_aka3('BHR', 'Bahrain, Kingdom of')\n",
    "add_aka3('BLR', 'Belarus, Republic of')\n",
    "add_aka3('COM', 'Comoros, Union of the')\n",
    "add_aka3('COG', 'Congo, Democratic Republic of the')\n",
    "add_aka3('COG', 'Congo, Republic of')\n",
    "add_aka3('HRV', 'Croatia, Republic of')\n",
    "add_aka3(\"LAO\", \"Lao People’s Democratic Republic\".lower())\n",
    "add_aka3(\"GBR\", \"United Kingdom of Great Britain and Northern Ireland\".lower())\n",
    "add_aka3(\"USA\", \"United States of America\".lower())\n",
    "add_aka3('AFG', \"Afghanistan, Islamic Republic of\")\n",
    "add_aka(\"andorra\", \"Andorra, Principality of\")\n",
    "add_aka3(\"BOL\", 'bolivia')\n",
    "add_aka('curacao', \"Curaçao, Kingdom of the Netherlands\")\n",
    "\n",
    "add_aka3(\"MDG\", \"Madagascar, Republic of\")\n",
    "add_aka3(\"MHL\", \"Marshall Islands, Republic of the\")\n",
    "add_aka3(\"MRT\", \"Mauritania, Islamic Republic of\")\n",
    "\n",
    "add_aka3('CHN', \"China, People's Republic of\")\n",
    "add_aka3('HKG', \"Hong Kong Special Administrative Region, People's Republic of China\")\n",
    "add_aka3('IRN', \"iran\")\n",
    "add_aka3('IRN', \"Iran, Islamic Republic of\")\n",
    "add_aka3('KOR', 'Korea, Republic of')\n",
    "add_aka3('KGZ', 'Kyrgyz Republic')\n",
    "add_aka3('MAC', \"Macao Special Administrative Region, People's Republic of China\")\n",
    "add_aka3('FSM', 'micronesia')\n",
    "add_aka3('FSM', 'Micronesia, Federated States of')\n",
    "add_aka3('MDA', 'moldova')\n",
    "add_aka3('MDA', 'Moldova, Republic of')\n",
    "\n",
    "add_aka3(\"MSR\", \"Montserrat, United Kingdom-British Overseas Territory\")\n",
    "add_aka3(\"MOZ\", \"Mozambique, Republic of\")\n",
    "add_aka3(\"NRU\", \"Nauru, Republic of\")\n",
    "\n",
    "add_aka('sao tome and principe', \"São Tomé and Príncipe, Democratic Republic of\")\n",
    "add_aka('slovakia', 'slovak republic')\n",
    "\n",
    "add_aka3('BLM', 'St. barthelemy')\n",
    "add_aka3( 'SHN', 'St. helena, ascension, and tristan da cunha')\n",
    "add_aka3( 'KNA', 'St. kitts and nevis')\n",
    "add_aka3( 'LCA', 'St. lucia')\n",
    "add_aka3( 'MAF', 'St. martin')\n",
    "add_aka3( 'SPM', 'St. pierre and miquelon')\n",
    "add_aka3( 'VCT', 'St. vincent and the grenadines')\n",
    "\n",
    "add_aka3('TZA', 'tanzania')\n",
    "add_aka3('TZA', 'Tanzania, United Republic of')\n",
    "add_aka3('VEN', 'venezuela')\n",
    "add_aka3('VEN', 'Venezuela, República Bolivariana de')\n",
    "add_aka('viet nam', 'vietnam')\n",
    "add_aka('cabo verde', 'cape verde')\n",
    "add_aka('timor-leste', 'east timor')\n",
    "add_aka3('KOR', 'Korea, South')\n",
    "add_aka3(\"ALN\", \"Åland Islands\")\n",
    "add_aka('cape verde', 'Cabo Verde [Cape Verde]')\n",
    "add_aka('bolivia', 'Plurinational State of Bolivia')\n",
    "add_aka('iran', \"Islamic Republic of Iran\")\n",
    "add_aka('micronesia', 'Federated States of Micronesia')\n",
    "add_aka3(\"STP\", \"São Tomé and Príncipe\")\n",
    "add_aka3(\"VEN\", \"Bolivarian Republic of Venezuela\")\n",
    "add_aka3(\"PRK\", \"north korea\")\n",
    "add_aka3(\"COG\", \"Congo [Republic of the Congo]\")\n",
    "add_aka(\"cote d'ivoire\", \"Côte d'Ivoire [Ivory Coast]\")\n",
    "add_aka(\"curacao\", \"Curaçao\")\n",
    "add_aka(\"czechia\", \"Czechia [Czech Republic]\")\n",
    "add_aka3(\"PRK\", \"Democratic People's Republic of Korea [North Korea]\")\n",
    "add_aka(\"eswatini\", \"Eswatini [Swaziland]\")\n",
    "add_aka3(\"FLK\", \"Falkland Islands (Malvinas)\")\n",
    "add_aka(\"France\", \"France [French Republic]\")\n",
    "add_aka3(\"ATF\", \"French Southern Territories\")\n",
    "add_aka(\"cote d'ivoire\", \"Ivory Coast\")\n",
    "add_aka3(\"COG\", \"Republic of the Congo\")\n",
    "add_aka3(\"SYR\", \"Syria\")\n",
    "add_aka3(\"BRN\", \"brunei\")\n",
    "add_aka3(\"LAO\", 'laos')\n",
    "add_aka(\"bahamas\", \"the bahamas\")\n",
    "add_aka3(\"COD\", 'D.R. Congo')\n",
    "add_aka(\"china\", \"P.R. China\")\n",
    "add_aka3(\"VCT\", 'saint vincent')\n",
    "add_aka(\"eswatini\", 'swaziland')\n",
    "add_aka(\"macau\", \"macao\")\n",
    "add_aka(\"macau\", \"Macao, China\")\n",
    "add_aka(\"taiwan\", \"chinese taipei\")\n",
    "\n",
    "add_aka3(\"EGY\", \"Egypt, Arab Republic of\")\n",
    "add_aka3(\"GNQ\", \"Equatorial Guinea, Republic of\")\n",
    "add_aka3(\"ERI\", \"Eritrea, The State of\")\n",
    "add_aka3(\"EST\", \"Estonia, Republic of\")\n",
    "add_aka3(\"SWZ\", \"Eswatini, Kingdom of\")\n",
    "add_aka3(\"ETH\", \"Ethiopia, The Federal Democratic Republic of\")\n",
    "add_aka3(\"FJI\", \"Fiji, Republic of\")\n",
    "add_aka3(\"GMB\", \"Gambia, The\")\n",
    "add_aka3(\"KAZ\", \"Kazakhstan, Republic of\")\n",
    "add_aka3(\"XKS\", \"Kosovo, Republic of\")\n",
    "add_aka3(\"LVA\", \"Latvia, Republic of\")\n",
    "add_aka3(\"LSO\", \"Lesotho, Kingdom of\")\n",
    "add_aka3(\"LTU\", \"Lithuania, Republic of\")\n",
    "add_aka3(\"NLD\", \"Netherlands, The\")\n",
    "add_aka3(\"MKD\", \"North Macedonia, Republic of\")\n",
    "add_aka3(\"PLW\", \"Palau, Republic of\")\n",
    "add_aka3(\"POL\", \"Poland, Republic of\")\n",
    "add_aka3(\"SMR\", \"San Marino, Republic of\")\n",
    "add_aka3(\"SRB\", \"Serbia, Republic of\")\n",
    "add_aka3(\"SXM\", \"Sint Maarten, Kingdom of the Netherlands\")\n",
    "add_aka3(\"SVN\", \"Slovenia, Republic of\")\n",
    "add_aka3(\"SSD\", \"South Sudan, Republic of\")\n",
    "add_aka3(\"TJK\", \"Tajikistan, Republic of\")\n",
    "add_aka3(\"TLS\", \"Timor-Leste, Democratic Republic of\")\n",
    "add_aka3(\"TUR\", \"Türkiye, Republic of\")\n",
    "add_aka3(\"UZB\", \"Uzbekistan, Republic of\")\n",
    "add_aka3(\"YEM\", \"Yemen, Republic of\")\n",
    "add_aka3(\"COG\", \"Congo, Republic of the\")\n",
    "add_aka3(\"HKG\", \"Hong Kong, China\")"
   ]
  },
  {
   "cell_type": "code",
   "execution_count": 9,
   "id": "3ae9db9a",
   "metadata": {},
   "outputs": [],
   "source": [
    "with open(os.path.join(root, \"src\", \"utils\", \"tri2aka.json\"), 'w') as f:\n",
    "    f.write(str(tri2aka))"
   ]
  },
  {
   "cell_type": "code",
   "execution_count": 10,
   "id": "016e6f36",
   "metadata": {},
   "outputs": [],
   "source": [
    "# stock all the trigraphs from UN countries\n",
    "UN_tri = []\n",
    "for name in UN_countries:\n",
    "    name = name.lower()\n",
    "    if name not in name2tri.keys():\n",
    "        print(name)\n",
    "        continue\n",
    "    UN_tri.append(name2tri[name])"
   ]
  },
  {
   "cell_type": "code",
   "execution_count": 11,
   "id": "02fb1d40",
   "metadata": {
    "scrolled": false
   },
   "outputs": [],
   "source": [
    "import pandas as pd"
   ]
  },
  {
   "cell_type": "code",
   "execution_count": null,
   "id": "28aebbe3",
   "metadata": {},
   "outputs": [],
   "source": []
  },
  {
   "cell_type": "code",
   "execution_count": 12,
   "id": "786edf54",
   "metadata": {},
   "outputs": [
    {
     "data": {
      "text/plain": [
       "193"
      ]
     },
     "execution_count": 12,
     "metadata": {},
     "output_type": "execute_result"
    }
   ],
   "source": [
    "# create a dataframe where rows are themes ; columns are countries\n",
    "df = pd.DataFrame(index=list(theme2vote.keys()), columns=UN_tri)\n",
    "n_topics, n_countries = df.shape\n",
    "\n",
    "len(UN_countries)"
   ]
  },
  {
   "cell_type": "code",
   "execution_count": 13,
   "id": "9088d139",
   "metadata": {},
   "outputs": [],
   "source": [
    "# fill the dataframe with vote result (Yes/No/Abstain/Missing)\n",
    "YAN_code = dict(Y=1, A=-1, N=0)\n",
    "for policy_index, votes in enumerate(theme2vote.values()):\n",
    "    for country_index, s in enumerate(votes):\n",
    "        if s[0:2] in ['Y ', 'A ', 'N ']:\n",
    "            vote = YAN_code[s[0]]\n",
    "            if s[-1] == '\\n':\n",
    "                c = s[2:-1].lower()\n",
    "            else:\n",
    "                c = s[2:].lower()\n",
    "            c = belongs_aka(c)\n",
    " \n",
    "            df.iloc[policy_index, country_index] = vote\n",
    "        else: # will stay N/A\n",
    "            pass"
   ]
  },
  {
   "cell_type": "code",
   "execution_count": 14,
   "id": "87f53385",
   "metadata": {},
   "outputs": [
    {
     "data": {
      "text/html": [
       "<div>\n",
       "<style scoped>\n",
       "    .dataframe tbody tr th:only-of-type {\n",
       "        vertical-align: middle;\n",
       "    }\n",
       "\n",
       "    .dataframe tbody tr th {\n",
       "        vertical-align: top;\n",
       "    }\n",
       "\n",
       "    .dataframe thead th {\n",
       "        text-align: right;\n",
       "    }\n",
       "</style>\n",
       "<table border=\"1\" class=\"dataframe\">\n",
       "  <thead>\n",
       "    <tr style=\"text-align: right;\">\n",
       "      <th></th>\n",
       "      <th>AFG</th>\n",
       "      <th>ALB</th>\n",
       "      <th>DZA</th>\n",
       "      <th>AND</th>\n",
       "      <th>AGO</th>\n",
       "      <th>ATG</th>\n",
       "      <th>ARG</th>\n",
       "      <th>ARM</th>\n",
       "      <th>AUS</th>\n",
       "      <th>AUT</th>\n",
       "      <th>...</th>\n",
       "      <th>TZA</th>\n",
       "      <th>USA</th>\n",
       "      <th>URY</th>\n",
       "      <th>UZB</th>\n",
       "      <th>VUT</th>\n",
       "      <th>VEN</th>\n",
       "      <th>VNM</th>\n",
       "      <th>YEM</th>\n",
       "      <th>ZMB</th>\n",
       "      <th>ZWE</th>\n",
       "    </tr>\n",
       "  </thead>\n",
       "  <tbody>\n",
       "    <tr>\n",
       "      <th>A global call for concrete action for the elimination of racism, racial discrimination, xenophobia and related intolerance and the comprehensive implementation.txt</th>\n",
       "      <td>1</td>\n",
       "      <td>-1</td>\n",
       "      <td>1</td>\n",
       "      <td>-1</td>\n",
       "      <td>1</td>\n",
       "      <td>1</td>\n",
       "      <td>1</td>\n",
       "      <td>-1</td>\n",
       "      <td>0</td>\n",
       "      <td>0</td>\n",
       "      <td>...</td>\n",
       "      <td>1</td>\n",
       "      <td>0</td>\n",
       "      <td>1</td>\n",
       "      <td>1</td>\n",
       "      <td>NaN</td>\n",
       "      <td>NaN</td>\n",
       "      <td>1</td>\n",
       "      <td>1</td>\n",
       "      <td>1</td>\n",
       "      <td>1</td>\n",
       "    </tr>\n",
       "    <tr>\n",
       "      <th>Addressing and countering the world drug problem through a comprehensive, integrated and balanced approach.txt</th>\n",
       "      <td>1</td>\n",
       "      <td>1</td>\n",
       "      <td>-1</td>\n",
       "      <td>1</td>\n",
       "      <td>1</td>\n",
       "      <td>1</td>\n",
       "      <td>1</td>\n",
       "      <td>1</td>\n",
       "      <td>1</td>\n",
       "      <td>1</td>\n",
       "      <td>...</td>\n",
       "      <td>-1</td>\n",
       "      <td>1</td>\n",
       "      <td>1</td>\n",
       "      <td>-1</td>\n",
       "      <td>NaN</td>\n",
       "      <td>NaN</td>\n",
       "      <td>-1</td>\n",
       "      <td>-1</td>\n",
       "      <td>1</td>\n",
       "      <td>1</td>\n",
       "    </tr>\n",
       "    <tr>\n",
       "      <th>Aggression against Ukraine.txt</th>\n",
       "      <td>1</td>\n",
       "      <td>1</td>\n",
       "      <td>-1</td>\n",
       "      <td>1</td>\n",
       "      <td>-1</td>\n",
       "      <td>1</td>\n",
       "      <td>1</td>\n",
       "      <td>-1</td>\n",
       "      <td>1</td>\n",
       "      <td>1</td>\n",
       "      <td>...</td>\n",
       "      <td>-1</td>\n",
       "      <td>1</td>\n",
       "      <td>1</td>\n",
       "      <td>NaN</td>\n",
       "      <td>1</td>\n",
       "      <td>NaN</td>\n",
       "      <td>-1</td>\n",
       "      <td>1</td>\n",
       "      <td>1</td>\n",
       "      <td>-1</td>\n",
       "    </tr>\n",
       "    <tr>\n",
       "      <th>Assistance to Palestine refugees.txt</th>\n",
       "      <td>1</td>\n",
       "      <td>1</td>\n",
       "      <td>1</td>\n",
       "      <td>1</td>\n",
       "      <td>1</td>\n",
       "      <td>1</td>\n",
       "      <td>1</td>\n",
       "      <td>1</td>\n",
       "      <td>1</td>\n",
       "      <td>1</td>\n",
       "      <td>...</td>\n",
       "      <td>NaN</td>\n",
       "      <td>-1</td>\n",
       "      <td>-1</td>\n",
       "      <td>1</td>\n",
       "      <td>1</td>\n",
       "      <td>NaN</td>\n",
       "      <td>1</td>\n",
       "      <td>1</td>\n",
       "      <td>1</td>\n",
       "      <td>1</td>\n",
       "    </tr>\n",
       "    <tr>\n",
       "      <th>Combating glorification of Nazism, neo-Nazism and other practices that contribute to fuelling contemporary forms of racism, racial discrimination, xenophobia and related intolerance.txt</th>\n",
       "      <td>-1</td>\n",
       "      <td>0</td>\n",
       "      <td>1</td>\n",
       "      <td>0</td>\n",
       "      <td>1</td>\n",
       "      <td>1</td>\n",
       "      <td>1</td>\n",
       "      <td>1</td>\n",
       "      <td>0</td>\n",
       "      <td>0</td>\n",
       "      <td>...</td>\n",
       "      <td>1</td>\n",
       "      <td>0</td>\n",
       "      <td>1</td>\n",
       "      <td>1</td>\n",
       "      <td>NaN</td>\n",
       "      <td>NaN</td>\n",
       "      <td>1</td>\n",
       "      <td>1</td>\n",
       "      <td>1</td>\n",
       "      <td>1</td>\n",
       "    </tr>\n",
       "    <tr>\n",
       "      <th>...</th>\n",
       "      <td>...</td>\n",
       "      <td>...</td>\n",
       "      <td>...</td>\n",
       "      <td>...</td>\n",
       "      <td>...</td>\n",
       "      <td>...</td>\n",
       "      <td>...</td>\n",
       "      <td>...</td>\n",
       "      <td>...</td>\n",
       "      <td>...</td>\n",
       "      <td>...</td>\n",
       "      <td>...</td>\n",
       "      <td>...</td>\n",
       "      <td>...</td>\n",
       "      <td>...</td>\n",
       "      <td>...</td>\n",
       "      <td>...</td>\n",
       "      <td>...</td>\n",
       "      <td>...</td>\n",
       "      <td>...</td>\n",
       "      <td>...</td>\n",
       "    </tr>\n",
       "    <tr>\n",
       "      <th>Towards a new international economic order.txt</th>\n",
       "      <td>1</td>\n",
       "      <td>0</td>\n",
       "      <td>1</td>\n",
       "      <td>0</td>\n",
       "      <td>1</td>\n",
       "      <td>1</td>\n",
       "      <td>1</td>\n",
       "      <td>NaN</td>\n",
       "      <td>0</td>\n",
       "      <td>0</td>\n",
       "      <td>...</td>\n",
       "      <td>1</td>\n",
       "      <td>0</td>\n",
       "      <td>1</td>\n",
       "      <td>1</td>\n",
       "      <td>1</td>\n",
       "      <td>NaN</td>\n",
       "      <td>1</td>\n",
       "      <td>1</td>\n",
       "      <td>1</td>\n",
       "      <td>NaN</td>\n",
       "    </tr>\n",
       "    <tr>\n",
       "      <th>Transparency in armaments.txt</th>\n",
       "      <td>1</td>\n",
       "      <td>1</td>\n",
       "      <td>-1</td>\n",
       "      <td>1</td>\n",
       "      <td>1</td>\n",
       "      <td>1</td>\n",
       "      <td>1</td>\n",
       "      <td>1</td>\n",
       "      <td>1</td>\n",
       "      <td>1</td>\n",
       "      <td>...</td>\n",
       "      <td>1</td>\n",
       "      <td>1</td>\n",
       "      <td>1</td>\n",
       "      <td>1</td>\n",
       "      <td>1</td>\n",
       "      <td>NaN</td>\n",
       "      <td>NaN</td>\n",
       "      <td>1</td>\n",
       "      <td>1</td>\n",
       "      <td>1</td>\n",
       "    </tr>\n",
       "    <tr>\n",
       "      <th>Treaty banning the production of fissile material for nuclear weapons or other nuclear explosive devices.txt</th>\n",
       "      <td>1</td>\n",
       "      <td>1</td>\n",
       "      <td>1</td>\n",
       "      <td>1</td>\n",
       "      <td>1</td>\n",
       "      <td>1</td>\n",
       "      <td>1</td>\n",
       "      <td>1</td>\n",
       "      <td>1</td>\n",
       "      <td>1</td>\n",
       "      <td>...</td>\n",
       "      <td>1</td>\n",
       "      <td>1</td>\n",
       "      <td>1</td>\n",
       "      <td>1</td>\n",
       "      <td>1</td>\n",
       "      <td>NaN</td>\n",
       "      <td>1</td>\n",
       "      <td>1</td>\n",
       "      <td>NaN</td>\n",
       "      <td>NaN</td>\n",
       "    </tr>\n",
       "    <tr>\n",
       "      <th>Treaty on the Prohibition of Nuclear Weapons.txt</th>\n",
       "      <td>1</td>\n",
       "      <td>0</td>\n",
       "      <td>1</td>\n",
       "      <td>1</td>\n",
       "      <td>1</td>\n",
       "      <td>1</td>\n",
       "      <td>-1</td>\n",
       "      <td>-1</td>\n",
       "      <td>-1</td>\n",
       "      <td>1</td>\n",
       "      <td>...</td>\n",
       "      <td>1</td>\n",
       "      <td>0</td>\n",
       "      <td>1</td>\n",
       "      <td>1</td>\n",
       "      <td>1</td>\n",
       "      <td>NaN</td>\n",
       "      <td>1</td>\n",
       "      <td>1</td>\n",
       "      <td>NaN</td>\n",
       "      <td>1</td>\n",
       "    </tr>\n",
       "    <tr>\n",
       "      <th>Use of mercenaries as a means of violating human rights and impeding the exercise of the right of peoples to self-determination.txt</th>\n",
       "      <td>1</td>\n",
       "      <td>0</td>\n",
       "      <td>1</td>\n",
       "      <td>0</td>\n",
       "      <td>1</td>\n",
       "      <td>1</td>\n",
       "      <td>1</td>\n",
       "      <td>1</td>\n",
       "      <td>0</td>\n",
       "      <td>0</td>\n",
       "      <td>...</td>\n",
       "      <td>1</td>\n",
       "      <td>0</td>\n",
       "      <td>1</td>\n",
       "      <td>1</td>\n",
       "      <td>1</td>\n",
       "      <td>NaN</td>\n",
       "      <td>1</td>\n",
       "      <td>1</td>\n",
       "      <td>1</td>\n",
       "      <td>1</td>\n",
       "    </tr>\n",
       "  </tbody>\n",
       "</table>\n",
       "<p>89 rows × 193 columns</p>\n",
       "</div>"
      ],
      "text/plain": [
       "                                                   AFG ALB DZA AND AGO ATG  \\\n",
       "A global call for concrete action for the elimi...   1  -1   1  -1   1   1   \n",
       "Addressing and countering the world drug proble...   1   1  -1   1   1   1   \n",
       "Aggression against Ukraine.txt                       1   1  -1   1  -1   1   \n",
       "Assistance to Palestine refugees.txt                 1   1   1   1   1   1   \n",
       "Combating glorification of Nazism, neo-Nazism a...  -1   0   1   0   1   1   \n",
       "...                                                 ..  ..  ..  ..  ..  ..   \n",
       "Towards a new international economic order.txt       1   0   1   0   1   1   \n",
       "Transparency in armaments.txt                        1   1  -1   1   1   1   \n",
       "Treaty banning the production of fissile materi...   1   1   1   1   1   1   \n",
       "Treaty on the Prohibition of Nuclear Weapons.txt     1   0   1   1   1   1   \n",
       "Use of mercenaries as a means of violating huma...   1   0   1   0   1   1   \n",
       "\n",
       "                                                   ARG  ARM AUS AUT  ...  TZA  \\\n",
       "A global call for concrete action for the elimi...   1   -1   0   0  ...    1   \n",
       "Addressing and countering the world drug proble...   1    1   1   1  ...   -1   \n",
       "Aggression against Ukraine.txt                       1   -1   1   1  ...   -1   \n",
       "Assistance to Palestine refugees.txt                 1    1   1   1  ...  NaN   \n",
       "Combating glorification of Nazism, neo-Nazism a...   1    1   0   0  ...    1   \n",
       "...                                                 ..  ...  ..  ..  ...  ...   \n",
       "Towards a new international economic order.txt       1  NaN   0   0  ...    1   \n",
       "Transparency in armaments.txt                        1    1   1   1  ...    1   \n",
       "Treaty banning the production of fissile materi...   1    1   1   1  ...    1   \n",
       "Treaty on the Prohibition of Nuclear Weapons.txt    -1   -1  -1   1  ...    1   \n",
       "Use of mercenaries as a means of violating huma...   1    1   0   0  ...    1   \n",
       "\n",
       "                                                   USA URY  UZB  VUT  VEN  \\\n",
       "A global call for concrete action for the elimi...   0   1    1  NaN  NaN   \n",
       "Addressing and countering the world drug proble...   1   1   -1  NaN  NaN   \n",
       "Aggression against Ukraine.txt                       1   1  NaN    1  NaN   \n",
       "Assistance to Palestine refugees.txt                -1  -1    1    1  NaN   \n",
       "Combating glorification of Nazism, neo-Nazism a...   0   1    1  NaN  NaN   \n",
       "...                                                 ..  ..  ...  ...  ...   \n",
       "Towards a new international economic order.txt       0   1    1    1  NaN   \n",
       "Transparency in armaments.txt                        1   1    1    1  NaN   \n",
       "Treaty banning the production of fissile materi...   1   1    1    1  NaN   \n",
       "Treaty on the Prohibition of Nuclear Weapons.txt     0   1    1    1  NaN   \n",
       "Use of mercenaries as a means of violating huma...   0   1    1    1  NaN   \n",
       "\n",
       "                                                    VNM YEM  ZMB  ZWE  \n",
       "A global call for concrete action for the elimi...    1   1    1    1  \n",
       "Addressing and countering the world drug proble...   -1  -1    1    1  \n",
       "Aggression against Ukraine.txt                       -1   1    1   -1  \n",
       "Assistance to Palestine refugees.txt                  1   1    1    1  \n",
       "Combating glorification of Nazism, neo-Nazism a...    1   1    1    1  \n",
       "...                                                 ...  ..  ...  ...  \n",
       "Towards a new international economic order.txt        1   1    1  NaN  \n",
       "Transparency in armaments.txt                       NaN   1    1    1  \n",
       "Treaty banning the production of fissile materi...    1   1  NaN  NaN  \n",
       "Treaty on the Prohibition of Nuclear Weapons.txt      1   1  NaN    1  \n",
       "Use of mercenaries as a means of violating huma...    1   1    1    1  \n",
       "\n",
       "[89 rows x 193 columns]"
      ]
     },
     "execution_count": 14,
     "metadata": {},
     "output_type": "execute_result"
    }
   ],
   "source": [
    "df"
   ]
  },
  {
   "cell_type": "code",
   "execution_count": 15,
   "id": "e31c9613",
   "metadata": {},
   "outputs": [],
   "source": [
    "# trigraphs.txt is in the same directory but is not one of the theme\n",
    "if \"trigraphs.txt\" in df.index:\n",
    "    df.drop(\"trigraphs.txt\")\n",
    "\n",
    "# keep track of where \"Yes\" is voted denoted by 1, everything else default to 0\n",
    "yes = df.where(df==1, 0) \n",
    "\n",
    "# keep track of where \"No\" is voted denoted by 1, everything else default to 0\n",
    "no = (df+1).where(df==0, 0)"
   ]
  },
  {
   "cell_type": "code",
   "execution_count": null,
   "id": "d08a256f",
   "metadata": {},
   "outputs": [],
   "source": []
  },
  {
   "cell_type": "code",
   "execution_count": 16,
   "id": "bf956fa5",
   "metadata": {},
   "outputs": [
    {
     "data": {
      "text/plain": [
       "89"
      ]
     },
     "execution_count": 16,
     "metadata": {},
     "output_type": "execute_result"
    }
   ],
   "source": [
    "len(df.index)"
   ]
  },
  {
   "cell_type": "code",
   "execution_count": 17,
   "id": "8ac978f6",
   "metadata": {},
   "outputs": [],
   "source": [
    "# yes.to_csv(\"countries_yes.csv\", index=False)\n",
    "# no.to_csv(\"countries_no.csv\", index=False)"
   ]
  },
  {
   "cell_type": "code",
   "execution_count": 18,
   "id": "d92b9f70",
   "metadata": {},
   "outputs": [],
   "source": [
    "# start doing stats between countries\n",
    "# yes.columns"
   ]
  },
  {
   "cell_type": "code",
   "execution_count": 19,
   "id": "4d71bb57",
   "metadata": {},
   "outputs": [
    {
     "name": "stdout",
     "output_type": "stream",
     "text": [
      "0 1 2 3 4 5 6 7 8 9 10 11 12 13 14 15 16 17 18 19 20 21 22 23 24 25 26 27 28 29 30 31 32 33 34 35 36 37 38 39 40 41 42 43 44 45 46 47 48 49 50 51 52 53 54 55 56 57 58 59 60 61 62 63 64 65 66 67 68 69 70 71 72 73 74 75 76 77 78 79 80 81 82 83 84 85 86 87 88 0 1 2 3 4 5 6 7 8 9 10 11 12 13 14 15 16 17 18 19 20 21 22 23 24 25 26 27 28 29 30 31 32 33 34 35 36 37 38 39 40 41 42 43 44 45 46 47 48 49 50 51 52 53 54 55 56 57 58 59 60 61 62 63 64 65 66 67 68 69 70 71 72 73 74 75 76 77 78 79 80 81 82 83 84 85 86 87 88 "
     ]
    }
   ],
   "source": [
    "# covotes = two countries voting the same. Namely Yes/Yes or No/No. \n",
    "\n",
    "covotes = pd.DataFrame(0, columns= sorted(list(UN_tri)), index=sorted(list(UN_tri)))\n",
    "\n",
    "for dff in [yes, no]:\n",
    "    for t in range(n_topics):\n",
    "        print(t, end=' ')\n",
    "        votes = dff.iloc[t, :]\n",
    "        votes_filtered = votes[votes==1] # the list of countries that vote yes / no respectively\n",
    "        votes_filtered = votes_filtered.index \n",
    "        for c in votes_filtered:\n",
    "            covotes[c][votes_filtered]+=1 # update covote of pairs of countries from the list votes_filtered"
   ]
  },
  {
   "cell_type": "code",
   "execution_count": 20,
   "id": "1d9cfb58",
   "metadata": {},
   "outputs": [
    {
     "name": "stdout",
     "output_type": "stream",
     "text": [
      "0 1 2 3 4 5 6 7 8 9 10 11 12 13 14 15 16 17 18 19 20 21 22 23 24 25 26 27 28 29 30 31 32 33 34 35 36 37 38 39 40 41 42 43 44 45 46 47 48 49 50 51 52 53 54 55 56 57 58 59 60 61 62 63 64 65 66 67 68 69 70 71 72 73 74 75 76 77 78 79 80 81 82 83 84 85 86 87 88 "
     ]
    }
   ],
   "source": [
    "# contravotes = two countries voting differently. \n",
    "\n",
    "contravotes = pd.DataFrame(0, columns= sorted(list(UN_tri)), index=sorted(list(UN_tri)))\n",
    "\n",
    "for t in range(n_topics):\n",
    "    print(t, end=' ')\n",
    "    votes = yes.iloc[t, :]\n",
    "    votes_filtered = votes[votes==1]\n",
    "    votes_filtered = votes_filtered.index\n",
    "    negvotes = no.iloc[t, :]\n",
    "    negvotes_filtered = negvotes[negvotes==1]\n",
    "    negvotes_filtered = negvotes_filtered.index\n",
    "    for c in negvotes_filtered:\n",
    "        contravotes[c][votes_filtered] += 1"
   ]
  },
  {
   "cell_type": "code",
   "execution_count": 21,
   "id": "6253b5fa",
   "metadata": {},
   "outputs": [],
   "source": [
    "import numpy as np\n",
    "arr = covotes.to_numpy()\n",
    "\n",
    "# Set diagonal elements to zero\n",
    "np.fill_diagonal(arr, 0)\n",
    "\n",
    "# Convert back to DataFrame\n",
    "covotes = pd.DataFrame(arr, columns=covotes.columns, index=covotes.index)\n"
   ]
  },
  {
   "cell_type": "code",
   "execution_count": 22,
   "id": "3f87b228",
   "metadata": {},
   "outputs": [
    {
     "data": {
      "text/plain": [
       "(array([1181.,  836.,  460.,  770., 1522., 1792., 3182., 3952., 5768.,\n",
       "        3866., 4048., 3242., 4424., 1998.,  208.]),\n",
       " array([ 0.        ,  5.46666667, 10.93333333, 16.4       , 21.86666667,\n",
       "        27.33333333, 32.8       , 38.26666667, 43.73333333, 49.2       ,\n",
       "        54.66666667, 60.13333333, 65.6       , 71.06666667, 76.53333333,\n",
       "        82.        ]),\n",
       " <BarContainer object of 15 artists>)"
      ]
     },
     "execution_count": 22,
     "metadata": {},
     "output_type": "execute_result"
    },
    {
     "data": {
      "image/png": "[encoded data removed]",
      "text/plain": [
       "<Figure size 640x480 with 1 Axes>"
      ]
     },
     "metadata": {},
     "output_type": "display_data"
    }
   ],
   "source": [
    "# Inspect covotes' distribution\n",
    "\n",
    "import matplotlib.pyplot as plt\n",
    "plt.hist(covotes.to_numpy().flatten(), bins=15)"
   ]
  },
  {
   "cell_type": "code",
   "execution_count": 23,
   "id": "6c52e3d4",
   "metadata": {},
   "outputs": [
    {
     "data": {
      "text/plain": [
       "(array([10428.,  1607.,   883.,  1310.,  1760.,  1943.,  1436.,   670.,\n",
       "          253.,   110.,    27.,    20.,    24.,    40.,   129.]),\n",
       " array([ 1.,  4.,  7., 10., 13., 16., 19., 22., 25., 28., 31., 34., 37.,\n",
       "        40., 43., 46.]),\n",
       " <BarContainer object of 15 artists>)"
      ]
     },
     "execution_count": 23,
     "metadata": {},
     "output_type": "execute_result"
    },
    {
     "data": {
      "image/png": "[encoded data removed]",
      "text/plain": [
       "<Figure size 640x480 with 1 Axes>"
      ]
     },
     "metadata": {},
     "output_type": "display_data"
    }
   ],
   "source": [
    "# Inspect contravotes' distribution\n",
    "\n",
    "import matplotlib.pyplot as plt\n",
    "thelist = contravotes.to_numpy().flatten()\n",
    "thelist = [i for i in iter(thelist) if i!= 0]\n",
    "plt.hist(thelist, bins=15)"
   ]
  },
  {
   "cell_type": "code",
   "execution_count": 24,
   "id": "2daadd5c",
   "metadata": {},
   "outputs": [],
   "source": [
    "import numpy as np"
   ]
  },
  {
   "cell_type": "code",
   "execution_count": 25,
   "id": "c94e677f",
   "metadata": {},
   "outputs": [
    {
     "data": {
      "text/plain": [
       "38.0"
      ]
     },
     "execution_count": 25,
     "metadata": {},
     "output_type": "execute_result"
    }
   ],
   "source": [
    "15, 26, 32\n",
    "np.percentile(covotes, 25)"
   ]
  },
  {
   "cell_type": "code",
   "execution_count": null,
   "id": "5c870218",
   "metadata": {},
   "outputs": [],
   "source": []
  },
  {
   "cell_type": "code",
   "execution_count": 36,
   "id": "bf3d0b7f",
   "metadata": {
    "scrolled": true
   },
   "outputs": [],
   "source": [
    "if \"constructed_network\" not in os.listdir(root):\n",
    "    os.mkdir(\"constructed_network\")\n",
    "\n",
    "covotes.to_csv(os.path.join(root, \"constructed_network\", \"covotes.csv\"))"
   ]
  },
  {
   "cell_type": "code",
   "execution_count": 37,
   "id": "fc02f6b7",
   "metadata": {},
   "outputs": [],
   "source": [
    "contravotes.to_csv(os.path.join(root, \"constructed_network\", \"contravotes.csv\"))"
   ]
  },
  {
   "cell_type": "code",
   "execution_count": 28,
   "id": "ace9485f",
   "metadata": {},
   "outputs": [],
   "source": [
    "# create a dictionary orgs. Keys are name of organisation. Values are lists of member countries. \n",
    "orgs = {}\n",
    "for filename in os.listdir(os.path.join(root, \"raw_data\", \"org\")):\n",
    "    name, file_extension = os.path.splitext(filename)\n",
    "    if '.txt' in file_extension:\n",
    "        with open(os.path.join(root, \"raw_data\", \"org\", filename), 'r', encoding='utf-8') as f:\n",
    "            orgs[name] = f.read()"
   ]
  },
  {
   "cell_type": "code",
   "execution_count": 29,
   "id": "87cf2e25",
   "metadata": {
    "scrolled": false
   },
   "outputs": [],
   "source": [
    "# However, due to diverse source for member countries, their naming is not consistent. In order to address them efficiently, \n",
    "# it is useful to work with aka2name. \n",
    "\n",
    "def try_add_comma(namewithcomma):\n",
    "    \"\"\"A function that helps writing the function add_aka3 when a country doesn't exist in tri2aka, \n",
    "    by dealing with the case with commaand the title in last, or by changing some countries starting with Saint. \n",
    "    and replace St. with Saint.  \"\"\"\n",
    "    \n",
    "    if namewithcomma[:3] == 'St.':\n",
    "        newname = 'saint '+namewithcomma[3:]\n",
    "        if (the_tri:=belongs_aka(newname)):\n",
    "            add_aka3(tri, namewithcomma)\n",
    "            print(f'add_aka3(\"{the_tri}\", \"{namewithcomma}\")')\n",
    "            return None\n",
    "        else:\n",
    "            raise Exception(f\"{namewithcomma} not found\")\n",
    "\n",
    "    if (pos:=namewithcomma.find(',')) == -1:\n",
    "        raise Exception(f\"{namewithcomma} no comma\")\n",
    "    name = namewithcomma[:pos].lower()\n",
    "    if (the_tri:=belongs_aka(name)):\n",
    "        add_aka3(the_tri, namewithcomma)\n",
    "        print(f'add_aka3(\"{the_tri}\", \"{namewithcomma}\")')\n",
    "    else:\n",
    "        raise Exception(f\"{namewithcomma} and {name} not found\")\n"
   ]
  },
  {
   "cell_type": "code",
   "execution_count": 30,
   "id": "a6388faf",
   "metadata": {
    "scrolled": false
   },
   "outputs": [],
   "source": [
    "# Apply previous function to list of members in org. \n",
    "\n",
    "for (org, members) in orgs.items():\n",
    "    l_mem = members.split('\\n')\n",
    "    for mem in l_mem:\n",
    "        if mem.strip() == '':\n",
    "            continue\n",
    "        mem = mem.strip()\n",
    "        if not belongs_aka(mem):\n",
    "            try_add_comma(mem)"
   ]
  },
  {
   "cell_type": "code",
   "execution_count": 31,
   "id": "b34c69a1",
   "metadata": {},
   "outputs": [],
   "source": [
    "# Keep track the total set of countries present in the data for the organizations\n",
    "\n",
    "countries_org = set()\n",
    "for (org, members) in orgs.items():\n",
    "    l_mem = members.split('\\n')\n",
    "    for mem in l_mem:\n",
    "        mem = mem.strip()\n",
    "        if mem == '':\n",
    "            continue\n",
    "        if belongs_aka(mem):\n",
    "            countries_org.add(belongs_aka(mem))\n",
    "        else:\n",
    "            print(mem)\n",
    "            raise KeyboardInterrupt"
   ]
  },
  {
   "cell_type": "code",
   "execution_count": 32,
   "id": "905175b8",
   "metadata": {},
   "outputs": [],
   "source": [
    "# examine whether there are countries present in org data but not UN data\n",
    "countries_all = countries_org.union(UN_tri)\n",
    "added = False"
   ]
  },
  {
   "cell_type": "code",
   "execution_count": 33,
   "id": "d227e8cd",
   "metadata": {},
   "outputs": [],
   "source": [
    "# modify the dataframe by adding 0 as votes for countries outside UN\n",
    "if not added:\n",
    "    for c in countries_org.difference(UN_tri):\n",
    "        df[c] = 0\n",
    "        added = True"
   ]
  },
  {
   "cell_type": "code",
   "execution_count": 34,
   "id": "997b0d99",
   "metadata": {},
   "outputs": [],
   "source": [
    "# store organization data in dictionary form\n",
    "\n",
    "orgs_d = {}\n",
    "\n",
    "for (org, members) in orgs.items():\n",
    "    d_mem = {}\n",
    "    l_mem = members.split('\\n')\n",
    "    for mem in l_mem:\n",
    "        mem = mem.strip()\n",
    "        if mem == '':\n",
    "            continue\n",
    "        assert belongs_aka(mem)\n",
    "        tri = belongs_aka(mem)\n",
    "        d_mem[tri] = 1\n",
    "    for tri in countries_org.difference(d_mem.keys()):\n",
    "        d_mem[tri] = 0\n",
    "    assert len(d_mem) == len(countries_org)\n",
    "    orgs_d[org] = d_mem"
   ]
  },
  {
   "cell_type": "code",
   "execution_count": 35,
   "id": "ea7f99ff",
   "metadata": {
    "scrolled": true
   },
   "outputs": [],
   "source": [
    "with open(os.path.join(root, \"src\", \"utils\", \"orgs_d.json\"), 'w') as f:\n",
    "    f.write(str(orgs_d))"
   ]
  },
  {
   "cell_type": "code",
   "execution_count": null,
   "id": "99f72948",
   "metadata": {},
   "outputs": [],
   "source": []
  },
  {
   "cell_type": "code",
   "execution_count": null,
   "id": "2b0b4883",
   "metadata": {},
   "outputs": [],
   "source": []
  },
  {
   "cell_type": "code",
   "execution_count": null,
   "id": "ab461633",
   "metadata": {},
   "outputs": [],
   "source": []
  }
 ],
 "metadata": {
  "kernelspec": {
   "display_name": "Python 3 (ipykernel)",
   "language": "python",
   "name": "python3"
  },
  "language_info": {
   "codemirror_mode": {
    "name": "ipython",
    "version": 3
   },
   "file_extension": ".py",
   "mimetype": "text/x-python",
   "name": "python",
   "nbconvert_exporter": "python",
   "pygments_lexer": "ipython3",
   "version": "3.9.12"
  }
 },
 "nbformat": 4,
 "nbformat_minor": 5
}
