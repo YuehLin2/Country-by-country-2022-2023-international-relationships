{
 "cells": [
  {
   "cell_type": "code",
   "execution_count": 1,
   "id": "9c4df387",
   "metadata": {},
   "outputs": [],
   "source": [
    "# !git clone -b master https://github.com/StefanoNasini/Country-by-country-2022-2023-international-relationships\n",
    "# !cd Country-by-country-2022-2023-international-relationships"
   ]
  },
  {
   "cell_type": "code",
   "execution_count": 2,
   "id": "269b1e09",
   "metadata": {},
   "outputs": [],
   "source": [
    "import os\n",
    "root = os.path.dirname(os.getcwd())"
   ]
  },
  {
   "cell_type": "code",
   "execution_count": null,
   "id": "c44dd00c",
   "metadata": {},
   "outputs": [],
   "source": []
  },
  {
   "cell_type": "code",
   "execution_count": 3,
   "id": "de518c3d",
   "metadata": {},
   "outputs": [
    {
     "name": "stdout",
     "output_type": "stream",
     "text": [
      "[('United States', 25462700), ('China', 17963171), ('Japan', 4231141), ('Germany', 4072192), ('India', 3385090), ('United Kingdom', 3070668), ('France', 2782905), ('Russian Federation', 2240422), ('Canada', 2139840), ('Italy', 2010432), ('Brazil', 1920096), ('Australia', 1675419), ('Korea, Rep.', 1665246), ('Mexico', 1414187), ('Spain', 1397509), ('Indonesia', 1319100), ('Saudi Arabia', 1108149), ('Netherlands', 991115), ('TÃ¼rkiye', 905988), ('Switzerland', 807706), ('Poland', 688177), ('Argentina', 632770), ('Sweden', 585939), ('Norway', 579267), ('Belgium', 578604), ('Cuba', 545218), ('Ireland', 529245), ('Israel', 522033), ('United Arab Emirates', 507535), ('Thailand', 495341), ('Nigeria', 477386), ('Egypt, Arab Rep.', 476748), ('Austria', 471400), ('Singapore', 466789), ('Bangladesh', 460201), ('Vietnam', 408802), ('Malaysia', 406306), ('South Africa', 405870), ('Philippines', 404284), ('Denmark', 395404), ('Iran, Islamic Rep.', 388544), ('Pakistan', 376533), ('Hong Kong SAR, China', 359839), ('Colombia', 343939), ('Romania', 301262), ('Chile', 301025), ('Czech Republic', 290924), ('Finland', 280826), ('Iraq', 264182), ('Portugal', 251945), ('New Zealand', 247234), ('Peru', 242632), ('Qatar', 237296), ('Kazakhstan', 220623), ('Greece', 219066), ('Algeria', 191913), ('Kuwait', 184558), ('Hungary', 178789), ('Ukraine', 160503), ('Morocco', 134182), ('Ethiopia', 126783), ('Slovak Republic', 115469), ('Ecuador', 115049), ('Oman', 114667), ('Dominican Republic', 113642), ('Puerto Rico', 113435), ('Kenya', 113420), ('Angola', 106714), ('Guatemala', 95003), ('Bulgaria', 89040), ('Luxembourg', 82275), ('Uzbekistan', 80392), ('Azerbaijan', 78721), ('Panama', 76523), ('Tanzania', 75709), ('Sri Lanka', 74404), ('Ghana', 72839), ('Belarus', 72793), ('Uruguay', 71177), ('Croatia', 70965), ('Lithuania', 70334), (\"CÃ´te d'Ivoire\", 70019), ('Costa Rica', 68381), ('Serbia', 63502), ('Slovenia', 62118), ('Myanmar', 59364), ('Congo, Dem. Rep.', 58066), ('Sudan', 51662), ('Jordan', 47451), ('Tunisia', 46665), ('Libya', 45752), ('Turkmenistan', 45611), ('Uganda', 45559), ('Bahrain', 44391), ('Cameroon', 44342), ('Bolivia', 43069), ('Paraguay', 41722), ('Latvia', 41154), ('Nepal', 40828), ('Estonia', 38101), ('El Salvador', 32489), ('Honduras', 31718), ('Papua New Guinea', 30633), ('Cambodia', 29957), ('Zambia', 29784), ('Cyprus', 28439), ('Trinidad and Tobago', 27899), ('Iceland', 27842), ('Senegal', 27684), ('Georgia', 24605), ('Bosnia and Herzegovina', 24528), ('Lebanon', 23132), ('Macao SAR, China', 21979), ('Guinea', 21228), ('Gabon', 21072), ('Zimbabwe', 20678), ('Botswana', 20352), ('Haiti', 20254), ('Armenia', 19503), ('West Bank and Gaza', 19112), ('Burkina Faso', 18885), ('Albania', 18882), ('Mali', 18827), ('Mozambique', 17851), ('Malta', 17765), ('Benin', 17402), ('Jamaica', 17098), ('Mongolia', 16811), ('Brunei Darussalam', 16682), ('Lao PDR', 15724), ('Nicaragua', 15672), ('Guyana', 15358), ('Madagascar', 14955), ('Congo, Rep.', 14616), ('Afghanistan', 14583), ('Moldova', 14421), ('Niger', 13970), ('North Macedonia', 13563), ('Rwanda', 13313), ('Malawi', 13165), ('Mauritius', 12898), ('Bahamas, The', 12897), ('Chad', 12704), ('Namibia', 12607), ('Equatorial Guinea', 11814), ('Channel Islands', 11736), ('Syrian Arab Republic', 11159), ('Kyrgyz Republic', 10931), ('Tajikistan', 10492), ('Mauritania', 10375), ('New Caledonia', 10071), ('Kosovo', 9429), ('Monaco', 8596), ('Togo', 8126), ('Somalia', 8126), ('Bermuda', 7551), ('Liechtenstein', 7186), ('Isle of Man', 6684), ('Maldives', 6190), ('Guam', 6123), ('Montenegro', 6096), ('French Polynesia', 6080), ('Cayman Islands', 6028), ('Barbados', 5638), ('Fiji', 4943), ('Eswatini', 4854), ('Virgin Islands (U.S.)', 4204), ('Liberia', 4001), ('Sierra Leone', 3970), ('Faroe Islands', 3650), ('Suriname', 3621), ('Djibouti', 3515), ('Andorra', 3352), ('Greenland', 3236), ('Timor-Leste', 3163), ('Aruba', 3126), ('Burundi', 3073), ('Belize', 2824), ('CuraÃ§ao', 2700), ('Lesotho', 2553), ('Bhutan', 2540), ('Central African Republic', 2383), ('Cabo Verde', 2315), ('Gambia, The', 2273), ('St. Lucia', 2065), ('San Marino', 1855), ('Antigua and Barbuda', 1758), ('Guinea-Bissau', 1634), ('Solomon Islands', 1596), ('Seychelles', 1588), ('Sint Maarten (Dutch part)', 1572), ('Grenada', 1256), ('Comoros', 1243), ('Turks and Caicos Islands', 1139), ('Vanuatu', 984), ('St. Kitts and Nevis', 962), ('St. Vincent and the Grenadines', 949), ('Northern Mariana Islands', 858), ('Samoa', 832), ('American Samoa', 709), ('Dominica', 612), ('SÃ£o TomÃ© and Principe', 547), ('Tonga', 469), ('Micronesia, Fed. Sts.', 427), ('Marshall Islands', 280), ('Kiribati', 223), ('Palau', 218), ('Nauru', 151), ('Tuvalu', 60), ('Venezuela', 82145), ('Eritrea', 2250), ('Yemen', 28134), ('North Korea', 34900), ('South Sudan', 12000), ('COD', 55350)]\n"
     ]
    }
   ],
   "source": [
    "def parse_file(file_path):\n",
    "    data_list = []\n",
    "    with open(file_path, 'r') as file:\n",
    "        for line in file:\n",
    "            line_data = line.strip().split()\n",
    "            country_name = ' '.join(line_data[1:-1])\n",
    "            population = int(line_data[-1].replace(',', ''))\n",
    "            data_list.append((country_name, population))\n",
    "    return data_list\n",
    "\n",
    "file_path = os.path.join(root, \"raw_data\", \"GDP_data\", \"GDP_data.txt\")\n",
    "result_list = parse_file(file_path)\n",
    "print(result_list)"
   ]
  },
  {
   "cell_type": "code",
   "execution_count": 4,
   "id": "c4431fe3",
   "metadata": {},
   "outputs": [
    {
     "name": "stdout",
     "output_type": "stream",
     "text": [
      "Root Directory: C:\\Users\\y.lin\\OneDrive - IESEG\\Desktop\\Data\\Data\n"
     ]
    }
   ],
   "source": [
    "import os\n",
    "\n",
    "def find_root_directory():\n",
    "    current_dir = os.getcwd()\n",
    "    root_dir = os.path.dirname(current_dir)\n",
    "    return root_dir\n",
    "\n",
    "try:\n",
    "    print(\"Root Directory:\", root)\n",
    "except NameError:\n",
    "    root = find_root_directory()\n",
    "    print(\"Root Directory:\", root)"
   ]
  },
  {
   "cell_type": "code",
   "execution_count": 5,
   "id": "18698119",
   "metadata": {},
   "outputs": [
    {
     "name": "stdout",
     "output_type": "stream",
     "text": [
      "['Y AFGHANISTAN\\n', 'A ALBANIA\\n', 'Y ALGERIA\\n', 'A ANDORRA\\n', 'Y ANGOLA\\n', 'Y ANTIGUA AND BARBUDA\\n', 'Y ARGENTINA\\n', 'A ARMENIA\\n', 'N AUSTRALIA\\n', 'N AUSTRIA\\n']\n"
     ]
    }
   ],
   "source": [
    "os.chdir(os.path.join(root, \"src\", \"utils\"))\n",
    "from aka import tri2aka, guess_country"
   ]
  },
  {
   "cell_type": "code",
   "execution_count": 6,
   "id": "ecee6efd",
   "metadata": {},
   "outputs": [],
   "source": [
    "# change result list's format into trigraphs\n",
    "GDP = {}\n",
    "remains = []\n",
    "for (name, gdp) in result_list:\n",
    "    try: \n",
    "        tri = guess_country(name) # if a unique country trigraph can be identified\n",
    "        GDP[tri] = gdp\n",
    "    except :  \n",
    "        remains.append((name, gdp))"
   ]
  },
  {
   "cell_type": "code",
   "execution_count": 7,
   "id": "4f66388f",
   "metadata": {},
   "outputs": [
    {
     "data": {
      "text/plain": [
       "[('Korea, Rep.', 1665246),\n",
       " ('TÃ¼rkiye', 905988),\n",
       " ('Hong Kong SAR, China', 359839),\n",
       " (\"CÃ´te d'Ivoire\", 70019),\n",
       " ('Macao SAR, China', 21979),\n",
       " ('Lao PDR', 15724),\n",
       " ('Channel Islands', 11736),\n",
       " ('CuraÃ§ao', 2700),\n",
       " ('SÃ£o TomÃ© and Principe', 547),\n",
       " ('COD', 55350)]"
      ]
     },
     "execution_count": 7,
     "metadata": {},
     "output_type": "execute_result"
    }
   ],
   "source": [
    "remains"
   ]
  },
  {
   "cell_type": "code",
   "execution_count": 8,
   "id": "d4ef50a2",
   "metadata": {},
   "outputs": [
    {
     "name": "stdout",
     "output_type": "stream",
     "text": [
      "found exactly one, which is STP ['sao tome and principe', 'são tomé and príncipe, democratic republic of', 'são tomé and príncipe']\n"
     ]
    },
    {
     "data": {
      "text/plain": [
       "'STP'"
      ]
     },
     "execution_count": 8,
     "metadata": {},
     "output_type": "execute_result"
    }
   ],
   "source": [
    "guess_country(\"sao tome\", show_guess_country=True)"
   ]
  },
  {
   "cell_type": "code",
   "execution_count": 9,
   "id": "98875e43",
   "metadata": {},
   "outputs": [],
   "source": [
    "l = \"CHN IND GBR KOR NLD TUR IRL NGA HKG ROU NZL OMN DOM CIV SDN PNG GEO MAC GIN MLI LAO NER GNQ not_found SOM CUW GNB WSM ASM DMA STP SSD COD\" "
   ]
  },
  {
   "cell_type": "code",
   "execution_count": 10,
   "id": "f2db5c6c",
   "metadata": {},
   "outputs": [
    {
     "name": "stdout",
     "output_type": "stream",
     "text": [
      "('Korea, Rep.', 1665246) CHN\n",
      "('TÃ¼rkiye', 905988) IND\n",
      "('Hong Kong SAR, China', 359839) GBR\n",
      "(\"CÃ´te d'Ivoire\", 70019) KOR\n",
      "('Macao SAR, China', 21979) NLD\n",
      "('Lao PDR', 15724) TUR\n",
      "('Channel Islands', 11736) IRL\n",
      "('CuraÃ§ao', 2700) NGA\n",
      "('SÃ£o TomÃ© and Principe', 547) HKG\n",
      "('COD', 55350) ROU\n"
     ]
    }
   ],
   "source": [
    "for i, x in enumerate(remains):\n",
    "    print(x, l.split(' ')[i])"
   ]
  },
  {
   "cell_type": "code",
   "execution_count": 11,
   "id": "508bec90",
   "metadata": {},
   "outputs": [],
   "source": [
    "for (tri, gdp) in zip(l.split(\" \"), dict(result_list).values()):\n",
    "    GDP[tri] = gdp\n",
    "\n",
    "try:\n",
    "    GDP.pop(\"not_found\") # the channel island is not in any other parts of data. Need to drop it.\n",
    "except:\n",
    "    pass"
   ]
  },
  {
   "cell_type": "code",
   "execution_count": null,
   "id": "c9443d5e",
   "metadata": {},
   "outputs": [],
   "source": []
  },
  {
   "cell_type": "code",
   "execution_count": 12,
   "id": "344cda9b",
   "metadata": {},
   "outputs": [],
   "source": [
    "with open(os.path.join(root, \"raw_data\", \"GDP_data\", \"GDP_data.json\"), \"w\") as f:\n",
    "    f.write(str(GDP))"
   ]
  },
  {
   "cell_type": "code",
   "execution_count": 13,
   "id": "18dcfa38",
   "metadata": {},
   "outputs": [
    {
     "data": {
      "text/plain": [
       "'COG'"
      ]
     },
     "execution_count": 13,
     "metadata": {},
     "output_type": "execute_result"
    }
   ],
   "source": [
    "guess_country(\"democratic republic of congo\")\n"
   ]
  },
  {
   "cell_type": "code",
   "execution_count": null,
   "id": "5f999f64",
   "metadata": {},
   "outputs": [],
   "source": []
  },
  {
   "cell_type": "code",
   "execution_count": null,
   "id": "328f0ce2",
   "metadata": {},
   "outputs": [],
   "source": []
  }
 ],
 "metadata": {
  "kernelspec": {
   "display_name": "Python 3 (ipykernel)",
   "language": "python",
   "name": "python3"
  },
  "language_info": {
   "codemirror_mode": {
    "name": "ipython",
    "version": 3
   },
   "file_extension": ".py",
   "mimetype": "text/x-python",
   "name": "python",
   "nbconvert_exporter": "python",
   "pygments_lexer": "ipython3",
   "version": "3.9.12"
  }
 },
 "nbformat": 4,
 "nbformat_minor": 5
}
