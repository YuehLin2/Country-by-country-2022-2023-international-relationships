{
 "cells": [
  {
   "cell_type": "code",
   "execution_count": 1,
   "id": "d4aa2ff8",
   "metadata": {},
   "outputs": [],
   "source": [
    "# !git clone -b master https://github.com/StefanoNasini/Country-by-country-2022-2023-international-relationships\n",
    "# !cd Country-by-country-2022-2023-international-relationships"
   ]
  },
  {
   "cell_type": "code",
   "execution_count": 2,
   "id": "bd2290f6",
   "metadata": {},
   "outputs": [
    {
     "name": "stdout",
     "output_type": "stream",
     "text": [
      "['Y AFGHANISTAN\\n', 'A ALBANIA\\n', 'Y ALGERIA\\n', 'A ANDORRA\\n', 'Y ANGOLA\\n', 'Y ANTIGUA AND BARBUDA\\n', 'Y ARGENTINA\\n', 'A ARMENIA\\n', 'N AUSTRALIA\\n', 'N AUSTRIA\\n']\n"
     ]
    }
   ],
   "source": [
    "# After getting all four data : covote, contravote (75/90), alliance, trade\n",
    "# Data will be trimmed here. \n",
    "import json\n",
    "import os\n",
    "\n",
    "root = os.path.dirname(os.getcwd())\n",
    "import pandas as pd\n",
    "\n",
    "os.chdir(os.path.join(root, \"src\", \"utils\"))\n",
    "from aka import tri2name, tri2aka\n",
    "os.chdir(os.path.join(root, \"src\"))\n",
    "\n",
    "\n",
    "# cocontravotes_df_names = \"covotes_over75 covotes_over90 covotes_under25 covotes_under10 contravotes_under25 contravotes_under10 contravotes_over75 contravotes_over90\".split(' ')\n",
    "\n",
    "# for df_name in cocontravotes_df_names:\n",
    "#     print(f'{df_name}=pd.read_csv(os.path.join(root, \"network_data\", \"cocontravotes\", \"{df_name}.csv\"), index_col=0)')\n",
    "    \n",
    "covotes_over80 = pd.read_csv(os.path.join(root, \"constructed_network\", \"cocontravotes\", \"covotes_over80.csv\"), index_col=0)\n",
    "covotes_over90 = pd.read_csv(os.path.join(root, \"constructed_network\", \"cocontravotes\", \"covotes_over90.csv\"), index_col=0)\n",
    "covotes_under20 = pd.read_csv(os.path.join(root, \"constructed_network\", \"cocontravotes\", \"covotes_under20.csv\"), index_col=0)\n",
    "covotes_under10 = pd.read_csv(os.path.join(root, \"constructed_network\", \"cocontravotes\", \"covotes_under10.csv\"), index_col=0)\n",
    "contravotes_under20 = pd.read_csv(os.path.join(root, \"constructed_network\", \"cocontravotes\", \"contravotes_under20.csv\"), index_col=0)\n",
    "contravotes_under10 = pd.read_csv(os.path.join(root, \"constructed_network\", \"cocontravotes\", \"contravotes_under10.csv\"), index_col=0)\n",
    "contravotes_over80 = pd.read_csv(os.path.join(root, \"constructed_network\", \"cocontravotes\", \"contravotes_over80.csv\"), index_col=0)\n",
    "contravotes_over90 = pd.read_csv(os.path.join(root, \"constructed_network\", \"cocontravotes\", \"contravotes_over90.csv\"), index_col=0)\n",
    "\n",
    "alliances = pd.read_csv(os.path.join(root, \"constructed_network\", \"alliances.csv\"), index_col=0)\n",
    "\n",
    "trade_over80 = pd.read_csv(os.path.join(root, \"constructed_network\", \"export_over80.csv\"), index_col=0)\n",
    "trade_over90 = pd.read_csv(os.path.join(root, \"constructed_network\", \"export_over90.csv\"), index_col=0)\n",
    "\n",
    "trade_under20 = pd.read_csv(os.path.join(root, \"constructed_network\", \"export_under20.csv\"), index_col=0)\n",
    "trade_under10 = pd.read_csv(os.path.join(root, \"constructed_network\", \"export_under10.csv\"), index_col=0)\n",
    "\n",
    "\n",
    "trans_trade_over80 = pd.read_csv(os.path.join(root, \"constructed_network\",  \"import_over80.csv\"), index_col=0)\n",
    "trans_trade_over90 = pd.read_csv(os.path.join(root, \"constructed_network\",  \"import_over90.csv\"), index_col=0)\n",
    "\n",
    "trans_trade_under20 = pd.read_csv(os.path.join(root, \"constructed_network\", \"import_under20.csv\"), index_col=0)\n",
    "trans_trade_under10 = pd.read_csv(os.path.join(root, \"constructed_network\", \"import_under10.csv\"), index_col=0)\n",
    "\n",
    "\n",
    "\n",
    "UN_countries = covotes_over80.columns"
   ]
  },
  {
   "cell_type": "code",
   "execution_count": 3,
   "id": "6c055eff",
   "metadata": {},
   "outputs": [
    {
     "data": {
      "text/plain": [
       "['san marino',\n",
       " 'andorra',\n",
       " 'nauru',\n",
       " 'marshall islands',\n",
       " 'palau',\n",
       " 'monaco',\n",
       " 'micronesia (federated states of)',\n",
       " 'south sudan',\n",
       " 'liechtenstein']"
      ]
     },
     "execution_count": 3,
     "metadata": {},
     "output_type": "execute_result"
    }
   ],
   "source": [
    "# Trim the countries\n",
    "countries = set(covotes_over80.columns).intersection(set(trade_over80.columns))\n",
    "countries = list(sorted(countries))\n",
    "removed = set(covotes_over80.columns).difference(set(trade_over80.columns))\n",
    "[tri2name[c] for c in removed]"
   ]
  },
  {
   "cell_type": "code",
   "execution_count": 4,
   "id": "1c0b8e1f",
   "metadata": {},
   "outputs": [],
   "source": [
    "# Trim all the dataframes\n",
    "# for df_name in cocontravotes_df_names+\"alliances trade_over75 trade_over90 trade_under25 trade_under10\".split(' '):\n",
    "#     print(f\"{df_name} = {df_name}.loc[countries, countries]\")\n",
    "\n",
    "covotes_over80 = covotes_over80.loc[countries, countries]\n",
    "covotes_over90 = covotes_over90.loc[countries, countries]\n",
    "covotes_under20 = covotes_under20.loc[countries, countries]\n",
    "covotes_under10 = covotes_under10.loc[countries, countries]\n",
    "contravotes_under20 = contravotes_under20.loc[countries, countries]\n",
    "contravotes_under10 = contravotes_under10.loc[countries, countries]\n",
    "contravotes_over80 = contravotes_over80.loc[countries, countries]\n",
    "contravotes_over90 = contravotes_over90.loc[countries, countries]\n",
    "alliances = alliances.loc[countries, countries]\n",
    "trade_over80 = trade_over80.loc[countries, countries]\n",
    "trade_over90 = trade_over90.loc[countries, countries]\n",
    "trade_under20 = trade_under20.loc[countries, countries]\n",
    "trade_under10 = trade_under10.loc[countries, countries]\n",
    "\n",
    "trans_trade_over80  = trans_trade_over80.loc[countries, countries]\n",
    "trans_trade_over90  = trans_trade_over90.loc[countries, countries]\n",
    "trans_trade_under20 = trans_trade_under20.loc[countries, countries]\n",
    "trans_trade_under10 = trans_trade_under10.loc[countries, countries]"
   ]
  },
  {
   "cell_type": "code",
   "execution_count": 1,
   "id": "68b3325e",
   "metadata": {},
   "outputs": [
    {
     "ename": "NameError",
     "evalue": "name 'covotes_over80' is not defined",
     "output_type": "error",
     "traceback": [
      "\u001b[1;31m---------------------------------------------------------------------------\u001b[0m",
      "\u001b[1;31mNameError\u001b[0m                                 Traceback (most recent call last)",
      "Input \u001b[1;32mIn [1]\u001b[0m, in \u001b[0;36m<cell line: 1>\u001b[1;34m()\u001b[0m\n\u001b[1;32m----> 1\u001b[0m \u001b[43mcovotes_over80\u001b[49m\n",
      "\u001b[1;31mNameError\u001b[0m: name 'covotes_over80' is not defined"
     ]
    }
   ],
   "source": []
  },
  {
   "cell_type": "code",
   "execution_count": 5,
   "id": "644d8d19",
   "metadata": {},
   "outputs": [],
   "source": [
    "# binomial method\n",
    "\n",
    "# def get_binomial_sum(X1, X2, X3, X4, X5):\n",
    "#     return X1*X2 + X1*X3 + X1*X4 + X1*X5 + X2*X3 + X2*X4 + X2*X5 + X3*X4 + X3*X5 + X4*X5\n",
    "\n",
    "def get_binomial_disjunction(X1, X2, X3, X4, X5):\n",
    "#     return get_binomial_sum(X1, X2, X3, X4, X5).applymap(lambda x:1 if x>=1 else 0)\n",
    "    return ((X1+X2+X3+X4+X5)>=2)\n",
    "\n",
    "friends80_bi = get_binomial_disjunction(covotes_over80, contravotes_under20, alliances, trade_over80, trans_trade_over80)\n",
    "friends90_bi = get_binomial_disjunction(covotes_over90, contravotes_under10, alliances, trade_over90, trans_trade_over90)\n",
    "enemies80_bi = get_binomial_disjunction(covotes_under20, contravotes_over80, 1-alliances, trade_under20, trans_trade_under20)\n",
    "enemies90_bi = get_binomial_disjunction(covotes_under10, contravotes_over90, 1-alliances, trade_under10, trans_trade_under10)\n"
   ]
  },
  {
   "cell_type": "code",
   "execution_count": 6,
   "id": "686065b3",
   "metadata": {},
   "outputs": [],
   "source": [
    "for i in range(friends80_bi.shape[0]):\n",
    "    friends80_bi.iloc[i, i] = False\n",
    "    friends90_bi.iloc[i, i] = False\n",
    "    enemies80_bi.iloc[i, i] = False\n",
    "    enemies80_bi.iloc[i, i] = False\n",
    "    "
   ]
  },
  {
   "cell_type": "code",
   "execution_count": 7,
   "id": "cc85246a",
   "metadata": {},
   "outputs": [
    {
     "data": {
      "image/png": "[encoded data removed]",
      "text/plain": [
       "<Figure size 1000x800 with 4 Axes>"
      ]
     },
     "metadata": {},
     "output_type": "display_data"
    }
   ],
   "source": [
    "# how many friends does each node has\n",
    "import matplotlib.pyplot as plt\n",
    "\n",
    "\n",
    "# Create a 2x2 grid of subplots\n",
    "fig, axes = plt.subplots(2, 2, figsize=(10, 8))\n",
    "\n",
    "# Plot histograms in each subplot\n",
    "axes[0, 0].hist(friends80_bi.sum(axis=1), bins=20, alpha=0.7)\n",
    "axes[0, 0].set_title('friends80_bi')\n",
    "\n",
    "axes[0, 1].hist(friends90_bi.sum(axis=1), bins=20, alpha=0.7)\n",
    "axes[0, 1].set_title('friends90_bi')\n",
    "\n",
    "axes[1, 0].hist(enemies80_bi.sum(axis=1), bins=20, alpha=0.7)\n",
    "axes[1, 0].set_title('enemies80_bi')\n",
    "\n",
    "axes[1, 1].hist(enemies90_bi.sum(axis=1), bins=20, alpha=0.7)\n",
    "axes[1, 1].set_title('enemies90_bi')\n",
    "\n",
    "plt.show()"
   ]
  },
  {
   "cell_type": "code",
   "execution_count": 8,
   "id": "e509cb48",
   "metadata": {},
   "outputs": [],
   "source": [
    "# def get_trinomial_sum(X1, X2, X3, X4, X5):\n",
    "#     return X1*X2*X3 + X2*X3*X4 + X3*X4*X1 + X4*X1*X2\n",
    "\n",
    "def get_trinomial_disjunction(X1, X2, X3, X4, X5):\n",
    "#     return get_trinomial_sum(X1, X2, X3, X4).applymap(lambda x:1 if x>=1 else 0)\n",
    "    return ((X1+X2+X3+X4+X5)>=3)"
   ]
  },
  {
   "cell_type": "code",
   "execution_count": 9,
   "id": "609b2b61",
   "metadata": {},
   "outputs": [],
   "source": [
    "friends80_tri = get_trinomial_disjunction(covotes_over80, contravotes_under20, alliances, trade_over80, trans_trade_over80)\n",
    "friends90_tri = get_trinomial_disjunction(covotes_over90, contravotes_under10, alliances, trade_over90, trans_trade_over90)\n",
    "enemies80_tri = get_trinomial_disjunction(covotes_under20, contravotes_over80, 1-alliances, trade_under20, trans_trade_under20)\n",
    "enemies90_tri = get_trinomial_disjunction(covotes_under10, contravotes_over90, 1-alliances, trade_under10, trans_trade_under10)\n"
   ]
  },
  {
   "cell_type": "code",
   "execution_count": 10,
   "id": "bbdd9d4c",
   "metadata": {},
   "outputs": [],
   "source": [
    "for i in range(friends80_bi.shape[0]):\n",
    "    friends80_tri.iloc[i, i] = False\n",
    "    friends90_tri.iloc[i, i] = False\n",
    "    enemies80_tri.iloc[i, i] = False\n",
    "    enemies80_tri.iloc[i, i] = False"
   ]
  },
  {
   "cell_type": "code",
   "execution_count": null,
   "id": "54474465",
   "metadata": {},
   "outputs": [],
   "source": []
  },
  {
   "cell_type": "code",
   "execution_count": 11,
   "id": "a483678f",
   "metadata": {},
   "outputs": [
    {
     "data": {
      "text/plain": [
       "AFG      0\n",
       "AGO     33\n",
       "ALB     17\n",
       "ARE    102\n",
       "ARG     20\n",
       "      ... \n",
       "WSM      1\n",
       "YEM      0\n",
       "ZAF     31\n",
       "ZMB      2\n",
       "ZWE      0\n",
       "Length: 184, dtype: int64"
      ]
     },
     "execution_count": 11,
     "metadata": {},
     "output_type": "execute_result"
    }
   ],
   "source": [
    "friends80_tri.sum()"
   ]
  },
  {
   "cell_type": "code",
   "execution_count": 12,
   "id": "e433df65",
   "metadata": {},
   "outputs": [
    {
     "data": {
      "image/png": "[encoded data removed]",
      "text/plain": [
       "<Figure size 1000x800 with 4 Axes>"
      ]
     },
     "metadata": {},
     "output_type": "display_data"
    }
   ],
   "source": [
    "# Create a 2x2 grid of subplots\n",
    "fig, axes = plt.subplots(2, 2, figsize=(10, 8))\n",
    "\n",
    "# Plot histograms in each subplot\n",
    "axes[0, 0].hist(friends80_tri.sum(axis=1), bins=20, alpha=0.7)\n",
    "axes[0, 0].set_title('friends80_tri')\n",
    "\n",
    "axes[0, 1].hist(friends90_tri.sum(axis=1), bins=20, alpha=0.7)\n",
    "axes[0, 1].set_title('friends90_tri')\n",
    "\n",
    "axes[1, 0].hist(enemies80_tri.sum(axis=1), bins=20, alpha=0.7)\n",
    "axes[1, 0].set_title('enemies80_tri')\n",
    "\n",
    "axes[1, 1].hist(enemies90_tri.sum(axis=1), bins=20, alpha=0.7)\n",
    "axes[1, 1].set_title('enemies90_tri')\n",
    "\n",
    "plt.show()"
   ]
  },
  {
   "cell_type": "code",
   "execution_count": 13,
   "id": "b9bdc923",
   "metadata": {},
   "outputs": [],
   "source": [
    "df_names = [f'{a}{b}_{c}' for c in [\"bi\", \"tri\"] for a in [\"friends\", \"enemies\"] for b in [\"80\", \"90\"] ]"
   ]
  },
  {
   "cell_type": "code",
   "execution_count": 16,
   "id": "a764d741",
   "metadata": {},
   "outputs": [],
   "source": [
    "# for df_name in df_names:\n",
    "#     print(f'{df_name}.to_csv(os.path.join(root, \"final_network\", \"{df_name}.csv\"))')\n",
    "\n",
    "os.chdir(os.path.join(root, \"constructed_network\"))\n",
    "if \"final_network\" not in os.listdir():\n",
    "    os.mkdir(\"final_network\")\n",
    "os.chdir(root)\n",
    "\n",
    "friends80_bi.to_csv(os.path.join(root, \"constructed_network\", \"final_network\", \"friends80_bi.csv\"))\n",
    "friends90_bi.to_csv(os.path.join(root, \"constructed_network\", \"final_network\", \"friends90_bi.csv\"))\n",
    "enemies80_bi.to_csv(os.path.join(root, \"constructed_network\", \"final_network\", \"enemies80_bi.csv\"))\n",
    "enemies90_bi.to_csv(os.path.join(root, \"constructed_network\", \"final_network\", \"enemies90_bi.csv\"))\n",
    "friends80_tri.to_csv(os.path.join(root,\"constructed_network\",  \"final_network\", \"friends80_tri.csv\"))\n",
    "friends90_tri.to_csv(os.path.join(root,\"constructed_network\",  \"final_network\", \"friends90_tri.csv\"))\n",
    "enemies80_tri.to_csv(os.path.join(root,\"constructed_network\",  \"final_network\", \"enemies80_tri.csv\"))\n",
    "enemies90_tri.to_csv(os.path.join(root,\"constructed_network\",  \"final_network\", \"enemies90_tri.csv\"))"
   ]
  },
  {
   "cell_type": "code",
   "execution_count": null,
   "id": "38465067",
   "metadata": {},
   "outputs": [],
   "source": []
  },
  {
   "cell_type": "code",
   "execution_count": null,
   "id": "0f2af707",
   "metadata": {},
   "outputs": [],
   "source": []
  },
  {
   "cell_type": "code",
   "execution_count": null,
   "id": "663e194e",
   "metadata": {},
   "outputs": [],
   "source": []
  },
  {
   "cell_type": "code",
   "execution_count": 17,
   "id": "a866d3f8",
   "metadata": {},
   "outputs": [],
   "source": [
    "# adjacent list generation\n",
    "with open(os.path.join(root, \"constructed_network\", \"friends90_tri_adj.txt\"), 'w') as f:\n",
    "    for i in range(friends90_tri.shape[0]):\n",
    "        for j in range(friends90_tri.shape[1]):\n",
    "            if friends90_tri.iloc[i, j] == True:\n",
    "                f.write(str(i+1))\n",
    "                f.write(' ')\n",
    "                f.write(str(j+1))\n",
    "                f.write('\\n')"
   ]
  },
  {
   "cell_type": "code",
   "execution_count": null,
   "id": "f935e697",
   "metadata": {},
   "outputs": [],
   "source": [
    "friends90_tri.shape"
   ]
  },
  {
   "cell_type": "code",
   "execution_count": 18,
   "id": "75b88abf",
   "metadata": {},
   "outputs": [],
   "source": [
    "# phi data generation\n",
    "with open(os.path.join(root, \"constructed_network\", \"phidata_network90.txt\"), 'w') as f:\n",
    "    for i in range(friends90_tri.shape[0]):\n",
    "        for j in range(friends90_tri.shape[1]):\n",
    "            if friends90_tri.iloc[i, j] == True:\n",
    "                f.write(\"1\")\n",
    "            elif enemies90_tri.iloc[i, j] == True:\n",
    "                f.write(\"2\")\n",
    "            else:\n",
    "                f.write(\"0\")\n",
    "            f.write(\" \")\n",
    "        f.write('\\n')\n",
    "\n",
    "        \n",
    "# phi data generation\n",
    "with open(os.path.join(root, \"constructed_network\", \"phidata_network80.txt\"), 'w') as f:\n",
    "    for i in range(friends80_tri.shape[0]):\n",
    "        for j in range(friends80_tri.shape[1]):\n",
    "            if friends80_tri.iloc[i, j] == True:\n",
    "                f.write(\"1\")\n",
    "            elif enemies80_tri.iloc[i, j] == True:\n",
    "                f.write(\"2\")\n",
    "            else:\n",
    "                f.write(\"0\")\n",
    "            f.write(\" \")\n",
    "        f.write('\\n')\n"
   ]
  },
  {
   "cell_type": "code",
   "execution_count": null,
   "id": "49a1a5c6",
   "metadata": {},
   "outputs": [],
   "source": []
  }
 ],
 "metadata": {
  "kernelspec": {
   "display_name": "Python 3 (ipykernel)",
   "language": "python",
   "name": "python3"
  },
  "language_info": {
   "codemirror_mode": {
    "name": "ipython",
    "version": 3
   },
   "file_extension": ".py",
   "mimetype": "text/x-python",
   "name": "python",
   "nbconvert_exporter": "python",
   "pygments_lexer": "ipython3",
   "version": "3.9.12"
  }
 },
 "nbformat": 4,
 "nbformat_minor": 5
}
