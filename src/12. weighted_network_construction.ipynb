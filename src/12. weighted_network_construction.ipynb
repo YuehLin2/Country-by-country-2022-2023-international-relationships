{
 "cells": [
  {
   "cell_type": "code",
   "execution_count": 1,
   "id": "23792bc5",
   "metadata": {},
   "outputs": [],
   "source": [
    "# !git clone -b master https://github.com/StefanoNasini/Country-by-country-2022-2023-international-relationships\n",
    "# !cd Country-by-country-2022-2023-international-relationships"
   ]
  },
  {
   "cell_type": "markdown",
   "id": "629d5735",
   "metadata": {},
   "source": [
    "Implement and realize the formula\n",
    "$$w_{ij} = (1+\\frac{GDP_j}{GDP_i})^{d_{ij}}$$\n",
    "\n",
    "(previous version features an extra coefficient for friends and enemies) where \n",
    "\n",
    "$d_{i,j} = 1$ if i and j are neighbors. \n",
    "\n",
    "$d_{i,j}=\\frac{\\Delta_{max}-\\Delta_{i,j}}{\\Delta_{max}}$ otherwise"
   ]
  },
  {
   "cell_type": "markdown",
   "id": "b333a658",
   "metadata": {},
   "source": []
  },
  {
   "cell_type": "code",
   "execution_count": 2,
   "id": "c3ae46ec",
   "metadata": {},
   "outputs": [],
   "source": [
    "import json\n",
    "import os\n",
    "root = os.getcwd()\n",
    "root = os.path.dirname(root)\n",
    "import pandas as pd"
   ]
  },
  {
   "cell_type": "code",
   "execution_count": 3,
   "id": "3e841ecf",
   "metadata": {},
   "outputs": [],
   "source": [
    "rho = 1\n",
    "\n",
    "covotes = pd.read_csv(os.path.join(root, \"constructed_network\", \"covotes.csv\"), index_col=0)\n",
    "friends90_tri = pd.read_csv(os.path.join(root, \"constructed_network\", \"final_network\", \"friends90_tri.csv\"), index_col=0)\n",
    "enemies90_tri = pd.read_csv(os.path.join(root, \"constructed_network\", \"final_network\", \"enemies90_tri.csv\"), index_col=0)\n",
    "\n",
    "friends80_tri = pd.read_csv(os.path.join(root, \"constructed_network\", \"final_network\", \"friends80_tri.csv\"), index_col=0)\n",
    "enemies80_tri = pd.read_csv(os.path.join(root, \"constructed_network\", \"final_network\", \"enemies80_tri.csv\"), index_col=0)\n",
    "dij = pd.read_csv(os.path.join(root, \"constructed_network\", \"distance_factor.csv\"), index_col = 0)\n",
    "UN_countries = friends90_tri.columns"
   ]
  },
  {
   "cell_type": "code",
   "execution_count": null,
   "id": "2145326c",
   "metadata": {},
   "outputs": [],
   "source": []
  },
  {
   "cell_type": "code",
   "execution_count": 4,
   "id": "a18cec3e",
   "metadata": {},
   "outputs": [],
   "source": [
    "wij = pd.DataFrame(columns=sorted(UN_countries), index=sorted(UN_countries))"
   ]
  },
  {
   "cell_type": "code",
   "execution_count": 5,
   "id": "16393bbc",
   "metadata": {},
   "outputs": [],
   "source": [
    "with open(os.path.join(root, \"raw_data\", \"GDP_data\", \"GDP_data.json\"), 'r') as f:\n",
    "    GDP = eval(f.read())"
   ]
  },
  {
   "cell_type": "code",
   "execution_count": 6,
   "id": "c574833a",
   "metadata": {},
   "outputs": [
    {
     "name": "stdout",
     "output_type": "stream",
     "text": [
      "['Y AFGHANISTAN\\n', 'A ALBANIA\\n', 'Y ALGERIA\\n', 'A ANDORRA\\n', 'Y ANGOLA\\n', 'Y ANTIGUA AND BARBUDA\\n', 'Y ARGENTINA\\n', 'A ARMENIA\\n', 'N AUSTRALIA\\n', 'N AUSTRIA\\n']\n"
     ]
    }
   ],
   "source": [
    "os.chdir(os.path.join(root, \"src\", \"utils\"))\n",
    "from aka import tri2aka\n",
    "os.chdir(os.path.join(root, \"src\"))"
   ]
  },
  {
   "cell_type": "code",
   "execution_count": 7,
   "id": "fa01d271",
   "metadata": {},
   "outputs": [],
   "source": [
    "# make sure every country in the UN have their GDP data\n",
    "\n",
    "\n",
    "for c in covotes.columns:\n",
    "    if c not in GDP.keys():\n",
    "        print(c)\n",
    "        print(tri2aka[c])"
   ]
  },
  {
   "cell_type": "code",
   "execution_count": 8,
   "id": "61ca82e1",
   "metadata": {},
   "outputs": [],
   "source": [
    "for tri1 in UN_countries:\n",
    "    for tri2 in UN_countries:\n",
    "        wij.loc[tri1, tri2] = (1+GDP[tri2]/GDP[tri1])**(dij.loc[tri1, tri2])\n",
    "#         if enemies90_tri.loc[tri1, tri2] == True:\n",
    "#             wij.loc[tri1, tri2] *= rho"
   ]
  },
  {
   "cell_type": "code",
   "execution_count": 9,
   "id": "3db0e83d",
   "metadata": {},
   "outputs": [
    {
     "data": {
      "text/plain": [
       "0"
      ]
     },
     "execution_count": 9,
     "metadata": {},
     "output_type": "execute_result"
    }
   ],
   "source": [
    "# no missing values\n",
    "wij.isna().sum().sum()"
   ]
  },
  {
   "cell_type": "code",
   "execution_count": 10,
   "id": "dd3c8371",
   "metadata": {},
   "outputs": [],
   "source": [
    "with open(os.path.join(root, 'constructed_network', 'w_data_real_double.txt'), 'w') as f:\n",
    "    for i in range(len(UN_countries)):\n",
    "        for j in range(len(UN_countries)):\n",
    "            f.write(str((wij.iloc[i, j])))\n",
    "            f.write(' ')\n",
    "        f.write('\\n')"
   ]
  },
  {
   "cell_type": "code",
   "execution_count": 11,
   "id": "b3c7c34b",
   "metadata": {},
   "outputs": [],
   "source": [
    "# wij /= wij.min().min()"
   ]
  },
  {
   "cell_type": "code",
   "execution_count": 12,
   "id": "3b48f66b",
   "metadata": {},
   "outputs": [],
   "source": [
    "wij.to_csv(os.path.join(root, \"constructed_network\", \"final_network\", \"weighted.csv\"))"
   ]
  },
  {
   "cell_type": "code",
   "execution_count": 13,
   "id": "5f04129d",
   "metadata": {},
   "outputs": [],
   "source": [
    "# truncate to unity\n",
    "wij_unit = pd.DataFrame(index=UN_countries, columns=UN_countries, dtype=int)"
   ]
  },
  {
   "cell_type": "code",
   "execution_count": 14,
   "id": "dcf78993",
   "metadata": {},
   "outputs": [],
   "source": [
    "for i in range(len(UN_countries)):\n",
    "    for j in range(len(UN_countries)):\n",
    "        wij_unit.iloc[i, j] = int(wij.iloc[i, j]+0.5)"
   ]
  },
  {
   "cell_type": "code",
   "execution_count": 15,
   "id": "a5bf0759",
   "metadata": {},
   "outputs": [],
   "source": [
    "with open(os.path.join(root, 'constructed_network', 'w_data_real.txt'), 'w') as f:\n",
    "    for i in range(len(UN_countries)):\n",
    "        for j in range(len(UN_countries)):\n",
    "            f.write(str((wij_unit.iloc[i, j])))\n",
    "            f.write(' ')\n",
    "        f.write('\\n')"
   ]
  },
  {
   "cell_type": "code",
   "execution_count": 16,
   "id": "5b082604",
   "metadata": {},
   "outputs": [],
   "source": [
    "# for 90 percent\n",
    "\n",
    "import matplotlib.pyplot as plt\n",
    "l = []\n",
    "out_degree = [0]*len(UN_countries)\n",
    "in_degree = [0]*len(UN_countries)\n",
    "for i in range(len(UN_countries)):\n",
    "    for j in range(len(UN_countries)):\n",
    "        if friends90_tri.iloc[i, j] == True or enemies90_tri.iloc[i, j] == True:\n",
    "            l.append(wij_unit.iloc[i, j])\n",
    "            out_degree[i] += 1\n",
    "            \n",
    "        if friends90_tri.iloc[j, i] == True or enemies90_tri.iloc[j, i] == True:\n",
    "            in_degree[i] += 1\n",
    "            \n",
    "l = []\n",
    "w_out_degree = [0]*len(UN_countries)\n",
    "w_in_degree = [0]*len(UN_countries)\n",
    "for i in range(len(UN_countries)):\n",
    "    for j in range(len(UN_countries)):\n",
    "        if friends90_tri.iloc[i, j] == True or enemies90_tri.iloc[i, j] == True:\n",
    "            l.append(wij_unit.iloc[i, j])\n",
    "            w_out_degree[i] += wij.iloc[i, j]\n",
    "            \n",
    "        if friends90_tri.iloc[j, i] == True or enemies90_tri.iloc[j, i] == True:\n",
    "            w_in_degree[i] += wij.iloc[i, j]\n",
    "            \n",
    "from math import log10\n",
    "for i in range(len(UN_countries)):\n",
    "    w_in_degree[i] = log10(1+w_in_degree[i])\n",
    "    w_out_degree[i] = log10(1+w_out_degree[i])\n"
   ]
  },
  {
   "cell_type": "code",
   "execution_count": 18,
   "id": "34b4b2f4",
   "metadata": {},
   "outputs": [],
   "source": [
    "os.chdir(os.path.join(root, 'constructed_network', 'graph'))\n",
    "if 'histograms' not in os.listdir():\n",
    "    os.mkdir(\"histograms\")\n",
    "os.chdir(root)\n",
    "\n",
    "plt.hist(in_degree, bins=20, color='grey')\n",
    "plt.ylim(0, 90)\n",
    "plt.xlim(0, 190)\n",
    "plt.savefig(os.path.join(root, 'constructed_network', 'graph', 'histograms', 'in_degree90.pdf'), format=\"pdf\")\n",
    "plt.close()\n",
    "\n",
    "plt.hist(out_degree, bins=20, color='grey')\n",
    "plt.ylim(0, 90)\n",
    "plt.xlim(0, 190)\n",
    "plt.savefig(os.path.join(root, 'constructed_network', 'graph', 'histograms', 'out_degree90.pdf'), format=\"pdf\")\n",
    "plt.close()\n",
    "\n",
    "import numpy as np\n",
    "\n",
    "plt.hist(w_in_degree, bins=np.linspace(0, 4.5, 20), color='grey')\n",
    "plt.ylim(0, 45)\n",
    "plt.xlim(0, 4.5)\n",
    "plt.savefig(os.path.join(root, 'constructed_network', 'graph', 'histograms', 'weighted_in_degree90.pdf'), format=\"pdf\")\n",
    "plt.close()\n",
    "\n",
    "plt.hist(w_out_degree, bins=np.linspace(0, 4.5, 20), color='grey')\n",
    "plt.ylim(0, 45)\n",
    "plt.xlim(0, 4.5)\n",
    "plt.savefig(os.path.join(root, 'constructed_network', 'graph', 'histograms', 'weighted_out_degree90.pdf'), format=\"pdf\")\n",
    "plt.close()"
   ]
  },
  {
   "cell_type": "code",
   "execution_count": 19,
   "id": "a2712919",
   "metadata": {},
   "outputs": [],
   "source": [
    "# for 80 percent\n",
    "\n",
    "import matplotlib.pyplot as plt\n",
    "l = []\n",
    "out_degree = [0]*len(UN_countries)\n",
    "in_degree = [0]*len(UN_countries)\n",
    "for i in range(len(UN_countries)):\n",
    "    for j in range(len(UN_countries)):\n",
    "        if friends80_tri.iloc[i, j] == True or enemies80_tri.iloc[i, j] == True:\n",
    "            l.append(wij_unit.iloc[i, j])\n",
    "            out_degree[i] += 1\n",
    "            \n",
    "        if friends80_tri.iloc[j, i] == True or enemies80_tri.iloc[j, i] == True:\n",
    "            in_degree[i] += 1\n",
    "            \n",
    "        \n",
    "l = []\n",
    "w_out_degree = [0]*len(UN_countries)\n",
    "w_in_degree = [0]*len(UN_countries)\n",
    "for i in range(len(UN_countries)):\n",
    "    for j in range(len(UN_countries)):\n",
    "        if friends80_tri.iloc[i, j] == True or enemies80_tri.iloc[i, j] == True:\n",
    "            l.append(wij_unit.iloc[i, j])\n",
    "            w_out_degree[i] += wij.iloc[i, j]\n",
    "            \n",
    "        if friends80_tri.iloc[j, i] == True or enemies80_tri.iloc[j, i] == True:\n",
    "            w_in_degree[i] += wij.iloc[i, j]\n",
    "            \n",
    "from math import log10\n",
    "for i in range(len(UN_countries)):\n",
    "    w_in_degree[i] = log10(1+w_in_degree[i])\n",
    "    w_out_degree[i] = log10(1+w_out_degree[i])\n"
   ]
  },
  {
   "cell_type": "code",
   "execution_count": 20,
   "id": "f8ee00cb",
   "metadata": {},
   "outputs": [],
   "source": [
    "plt.hist(in_degree, bins=20, color='grey')\n",
    "plt.ylim(0, 90)\n",
    "plt.xlim(0, 190)\n",
    "plt.savefig(os.path.join(root, 'constructed_network', 'graph', 'histograms', 'in_degree80.pdf'), format=\"pdf\")\n",
    "plt.close()\n",
    "\n",
    "plt.hist(out_degree, bins=20, color='grey')\n",
    "plt.ylim(0, 90)\n",
    "plt.xlim(0, 190)\n",
    "plt.savefig(os.path.join(root, 'constructed_network', 'graph', 'histograms', 'out_degree80.pdf'), format=\"pdf\")\n",
    "plt.close()\n",
    "\n",
    "\n",
    "plt.hist(w_in_degree, bins=np.linspace(0, 4.5, 20), color='grey')\n",
    "plt.ylim(0, 45)\n",
    "plt.xlim(0, 4.5)\n",
    "plt.savefig(os.path.join(root, 'constructed_network', 'graph', 'histograms', 'weighted_in_degree80.pdf'), format=\"pdf\")\n",
    "plt.close()\n",
    "\n",
    "plt.hist(w_out_degree, bins=np.linspace(0, 4.5, 20), color='grey')\n",
    "plt.ylim(0, 45)\n",
    "plt.xlim(0, 4.5)\n",
    "plt.savefig(os.path.join(root, 'constructed_network', 'graph', 'histograms', 'weighted_out_degree80.pdf'), format=\"pdf\")\n",
    "plt.close()"
   ]
  },
  {
   "cell_type": "code",
   "execution_count": 21,
   "id": "f63207ff",
   "metadata": {},
   "outputs": [
    {
     "data": {
      "text/plain": [
       "[2.2393583737443437,\n",
       " 1.9260907705282142,\n",
       " 3.0838010640268214,\n",
       " 2.1727182798148994,\n",
       " 1.5945949274970628,\n",
       " 2.2994071602201225,\n",
       " 2.735323766246964,\n",
       " 1.88074019510584,\n",
       " 2.127904879492915,\n",
       " 0.9602623504770255,\n",
       " 3.5068073502230215,\n",
       " 2.1589086512407207,\n",
       " 2.669520325607308,\n",
       " 2.6121988069280957,\n",
       " 1.9092767812283251,\n",
       " 2.603064397697426,\n",
       " 2.1313212263864103,\n",
       " 0.738560208143395,\n",
       " 2.5396563711806928,\n",
       " 2.645987695189842,\n",
       " 2.580621935127224,\n",
       " 1.7658854569479938,\n",
       " 1.7905659605715103,\n",
       " 2.5754274570402376,\n",
       " 2.28163567634993,\n",
       " 4.159078869012582,\n",
       " 2.253640179007308,\n",
       " 3.563196891734142,\n",
       " 2.189270622687979,\n",
       " 1.8939032021155209,\n",
       " 1.4444231098459426,\n",
       " 1.6495278717062571,\n",
       " 0.8507904789012669,\n",
       " 2.040655074247793,\n",
       " 1.6852399559400553,\n",
       " 2.129389069830951,\n",
       " 1.8347646860167,\n",
       " 3.859314607494194,\n",
       " 3.3218406837336505,\n",
       " 1.638366707030136,\n",
       " 1.0886994293671106,\n",
       " 2.860870641295773,\n",
       " 2.3982188707108136,\n",
       " 1.9334234635186232,\n",
       " 3.157924820406734,\n",
       " 2.411757007705534,\n",
       " 2.2607219832016634,\n",
       " 1.3387797568223851,\n",
       " 1.2018109756467776,\n",
       " 1.5919517970450598,\n",
       " 1.6110830376709309,\n",
       " 3.5913018765423272,\n",
       " 2.009452530833467,\n",
       " 2.888467776968109,\n",
       " 0.0,\n",
       " 2.284622131344318,\n",
       " 2.36948393123312,\n",
       " 2.0344775400364568,\n",
       " 2.3748089022919987,\n",
       " 1.9959645631666902,\n",
       " 1.6340686669629232,\n",
       " 1.9559621232550564,\n",
       " 1.9309732137299809,\n",
       " 3.6781212202828937,\n",
       " 2.3845811679204663,\n",
       " 1.905403339601158,\n",
       " 2.2867874722105612,\n",
       " 3.8863851299264716,\n",
       " 1.202518647561702,\n",
       " 2.4107031002051067,\n",
       " 1.8975162773990355,\n",
       " 2.6386899670684065,\n",
       " 2.5254639084839403,\n",
       " 2.4266641537345266,\n",
       " 1.7024406621547385,\n",
       " 1.270383720748121,\n",
       " 1.8593354924609964,\n",
       " 2.0411532128901526,\n",
       " 1.5638787522678292,\n",
       " 2.847102101154454,\n",
       " 2.313993543408196,\n",
       " 1.964322807403691,\n",
       " 2.0116651571439648,\n",
       " 1.8370897501448935,\n",
       " 1.794387721431433,\n",
       " 2.1645578813043254,\n",
       " 1.0623088030007126,\n",
       " 2.8161115223497264,\n",
       " 2.157450734660574,\n",
       " 3.9012656540272346,\n",
       " 3.3178303475679427,\n",
       " 1.8959089492894516,\n",
       " 1.6345476392166203,\n",
       " 1.9225982493717644,\n",
       " 2.307519229281283,\n",
       " 3.1669717883761512,\n",
       " 1.902375592761521,\n",
       " 3.3127674690236266,\n",
       " 0.8961261610786729,\n",
       " 3.372337303475961,\n",
       " 2.6565373759955704,\n",
       " 2.7361796642169725,\n",
       " 2.889056834456945,\n",
       " 1.9975704269141854,\n",
       " 2.688872239807737,\n",
       " 2.3601015296364207,\n",
       " 2.0638155174931114,\n",
       " 2.003135820792212,\n",
       " 2.159352732209775,\n",
       " 1.451673919438208,\n",
       " 3.1167924442609687,\n",
       " 3.6465141512577346,\n",
       " 2.006426460519636,\n",
       " 1.9950132510668823,\n",
       " 2.9460812417544653,\n",
       " 1.382399611887362,\n",
       " 2.945374625008606,\n",
       " 1.8917542256907445,\n",
       " 2.0508686859267704,\n",
       " 2.43940269523388,\n",
       " 2.035059459974066,\n",
       " 1.3536468501075585,\n",
       " 2.946417042798913,\n",
       " 1.9252571798762932,\n",
       " 2.130881898081782,\n",
       " 2.0027227721829095,\n",
       " 1.3441004230543183,\n",
       " 0.979079479584014,\n",
       " 1.8427595073906013,\n",
       " 1.9147022259102424,\n",
       " 1.511427172605141,\n",
       " 2.0855179069623,\n",
       " 1.4381744402377878,\n",
       " 2.1151286133594103,\n",
       " 2.7322433824825554,\n",
       " 2.2217613031806556,\n",
       " 1.8729273565080973,\n",
       " 1.8143590582298201,\n",
       " 1.988801932718928,\n",
       " 1.9938440341032482,\n",
       " 2.7947537738643065,\n",
       " 1.8173311874295885,\n",
       " 1.7255860154883178,\n",
       " 2.448268119136998,\n",
       " 2.2510801825966893,\n",
       " 3.2417798750427655,\n",
       " 3.330386864152236,\n",
       " 1.895114282081867,\n",
       " 2.039558326577136,\n",
       " 1.9323920729234267,\n",
       " 2.4517870509345934,\n",
       " 2.881306049443675,\n",
       " 2.468348708821572,\n",
       " 2.672921093812916,\n",
       " 2.1076395906559027,\n",
       " 3.012773721859091,\n",
       " 3.104697303114281,\n",
       " 3.2760820381528464,\n",
       " 2.8417043647579843,\n",
       " 2.8704449693126546,\n",
       " 2.3900419941473516,\n",
       " 2.938431684221809,\n",
       " 1.316933878745611,\n",
       " 3.2733283400821414,\n",
       " 3.3052212435580413,\n",
       " 1.9039995829486778,\n",
       " 1.4208961778066453,\n",
       " 1.6486431773477144,\n",
       " 4.32914827173783,\n",
       " 1.6628982637993048,\n",
       " 1.5458013310071104,\n",
       " 2.265685660728602,\n",
       " 1.6802646993729626,\n",
       " 2.231246096487649,\n",
       " 1.5202487039441344,\n",
       " 3.5278809477672914,\n",
       " 2.0798658435183777,\n",
       " 2.144626845759567,\n",
       " 2.7140092166837593,\n",
       " 1.7063707745985455,\n",
       " 2.3140952718119885,\n",
       " 1.739939932133037,\n",
       " 2.269061331209709,\n",
       " 2.6397368293957113]"
      ]
     },
     "execution_count": 21,
     "metadata": {},
     "output_type": "execute_result"
    }
   ],
   "source": [
    "w_in_degree"
   ]
  },
  {
   "cell_type": "code",
   "execution_count": 22,
   "id": "00fa7d3e",
   "metadata": {},
   "outputs": [
    {
     "data": {
      "text/plain": [
       "(array([17., 20., 22., 16., 16., 15., 14., 19.,  9., 10.,  2.,  3.,  2.,\n",
       "         4.,  1.,  3.,  1.,  2.,  5.,  3.]),\n",
       " array([  0.,   9.,  18.,  27.,  36.,  45.,  54.,  63.,  72.,  81.,  90.,\n",
       "         99., 108., 117., 126., 135., 144., 153., 162., 171., 180.]),\n",
       " <BarContainer object of 20 artists>)"
      ]
     },
     "execution_count": 22,
     "metadata": {},
     "output_type": "execute_result"
    },
    {
     "data": {
      "image/png": "[encoded data removed]",
      "text/plain": [
       "<Figure size 640x480 with 1 Axes>"
      ]
     },
     "metadata": {},
     "output_type": "display_data"
    }
   ],
   "source": [
    "# histogram for in-degree\n",
    "plt.hist(in_degree, bins=20, color='grey')\n",
    "# plt.title(\"The histogram of in-degrees for all country\")"
   ]
  },
  {
   "cell_type": "code",
   "execution_count": 23,
   "id": "a96b9455",
   "metadata": {},
   "outputs": [
    {
     "data": {
      "text/plain": [
       "(array([ 4., 10., 14., 31., 19., 15., 12., 15.,  8.,  9.,  5., 12.,  2.,\n",
       "         5.,  2.,  5.,  7.,  2.,  2.,  5.]),\n",
       " array([ 21.  ,  25.55,  30.1 ,  34.65,  39.2 ,  43.75,  48.3 ,  52.85,\n",
       "         57.4 ,  61.95,  66.5 ,  71.05,  75.6 ,  80.15,  84.7 ,  89.25,\n",
       "         93.8 ,  98.35, 102.9 , 107.45, 112.  ]),\n",
       " <BarContainer object of 20 artists>)"
      ]
     },
     "execution_count": 23,
     "metadata": {},
     "output_type": "execute_result"
    },
    {
     "data": {
      "image/png": "[encoded data removed]",
      "text/plain": [
       "<Figure size 640x480 with 1 Axes>"
      ]
     },
     "metadata": {},
     "output_type": "display_data"
    }
   ],
   "source": [
    "# histogram for out-degree\n",
    "plt.hist(out_degree, bins=20, color='grey')\n",
    "# plt.title(\"The histogram of out-degrees for all country\")"
   ]
  },
  {
   "cell_type": "code",
   "execution_count": null,
   "id": "fac72fc9",
   "metadata": {},
   "outputs": [],
   "source": []
  }
 ],
 "metadata": {
  "kernelspec": {
   "display_name": "Python 3 (ipykernel)",
   "language": "python",
   "name": "python3"
  },
  "language_info": {
   "codemirror_mode": {
    "name": "ipython",
    "version": 3
   },
   "file_extension": ".py",
   "mimetype": "text/x-python",
   "name": "python",
   "nbconvert_exporter": "python",
   "pygments_lexer": "ipython3",
   "version": "3.9.12"
  }
 },
 "nbformat": 4,
 "nbformat_minor": 5
}
