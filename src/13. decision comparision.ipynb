{
 "cells": [
  {
   "cell_type": "code",
   "execution_count": 1,
   "id": "5d903913",
   "metadata": {},
   "outputs": [],
   "source": [
    "# !git clone -b master https://github.com/StefanoNasini/Country-by-country-2022-2023-international-relationships\n",
    "# !cd Country-by-country-2022-2023-international-relationships"
   ]
  },
  {
   "cell_type": "code",
   "execution_count": 2,
   "id": "2c975529",
   "metadata": {},
   "outputs": [
    {
     "name": "stdout",
     "output_type": "stream",
     "text": [
      "['Y AFGHANISTAN\\n', 'A ALBANIA\\n', 'Y ALGERIA\\n', 'A ANDORRA\\n', 'Y ANGOLA\\n', 'Y ANTIGUA AND BARBUDA\\n', 'Y ARGENTINA\\n', 'A ARMENIA\\n', 'N AUSTRALIA\\n', 'N AUSTRIA\\n']\n"
     ]
    }
   ],
   "source": [
    "import os\n",
    "root = os.getcwd()\n",
    "root = os.path.dirname(root)\n",
    "import pandas as pd\n",
    "\n",
    "friends90_tri = pd.read_csv(os.path.join(root, \"constructed_network\", \"final_network\", \"friends90_tri.csv\"), index_col=0)\n",
    "prerequisite = pd.read_csv(os.path.join(root, \"constructed_network\", \"prerequisite_4items.csv\"), index_col=0)\n",
    "\n",
    "\n",
    "UN_tri = friends90_tri.columns\n",
    "\n",
    "os.chdir(os.path.join(root, 'src', 'utils'))\n",
    "from aka import tri2aka, tri2name, name2tri, guess_country\n",
    "os.chdir(root)\n",
    "os.chdir(\"src\")"
   ]
  },
  {
   "cell_type": "code",
   "execution_count": 3,
   "id": "5e79be19",
   "metadata": {},
   "outputs": [],
   "source": [
    "import itertools\n",
    "import subprocess\n",
    "\n",
    "\n",
    "parameter_combinations = []\n",
    "\n",
    "        \n",
    "# Define the parameter values\n",
    "rho_values = [0.1, 0.5, 1]\n",
    "include_NE_values = [0, 1]\n",
    "include_LI_values = [0]\n",
    "include_sym_values = [0] # Labeling symmetry\n",
    "theta_shrink_values = [1, 0.7, 0.8, 0.9]\n",
    "phi_data_values = [os.path.join(root, \"constructed_network\",\"phidata_network80.txt\"), \n",
    "                   os.path.join(root, \"constructed_network\", \"phidata_network90.txt\")]\n",
    "relax_values = [0, 1]\n",
    " \n",
    "# Define the base command\n",
    "base_command = f'\"{os.path.join(root, \"Project1.exe\")}\" 184 4 4'\n",
    "output_name = \"UN_application.txt\"\n",
    " \n",
    "# Iterate through the parameter combinations with the requested order of for loops\n",
    "\n",
    "for relax in relax_values:\n",
    "    for theta_shrink in theta_shrink_values:\n",
    "        for include_NE in include_NE_values:\n",
    "            for include_LI in include_LI_values:\n",
    "                for phi_data in phi_data_values:\n",
    "                    for rho in rho_values:\n",
    "                        for include_sym in include_sym_values:\n",
    "                            parameter_combinations.append((rho, include_NE, include_LI, include_sym, theta_shrink, phi_data, relax))\n"
   ]
  },
  {
   "cell_type": "code",
   "execution_count": 7,
   "id": "d23d70f2",
   "metadata": {},
   "outputs": [
    {
     "name": "stdout",
     "output_type": "stream",
     "text": [
      "\"C:\\Users\\y.lin\\OneDrive - IESEG\\Desktop\\Data\\Data\\Project1.exe\" 184 4 4 0.1 0 0 0 1 \"C:\\Users\\y.lin\\OneDrive - IESEG\\Desktop\\Data\\Data\\constructed_network\\phidata_network80.txt\" \"C:\\Users\\y.lin\\OneDrive - IESEG\\Desktop\\Data\\Data\\constructed_network\\predefined.txt\" \"C:\\Users\\y.lin\\OneDrive - IESEG\\Desktop\\Data\\Data\\constructed_network\\w_data_real_double.txt\" 0 60 0 8 0 UN_application.txt\n",
      "------------- 0 --------------\n",
      "\"C:\\Users\\y.lin\\OneDrive - IESEG\\Desktop\\Data\\Data\\Project1.exe\" 184 4 4 0.5 0 0 0 1 \"C:\\Users\\y.lin\\OneDrive - IESEG\\Desktop\\Data\\Data\\constructed_network\\phidata_network80.txt\" \"C:\\Users\\y.lin\\OneDrive - IESEG\\Desktop\\Data\\Data\\constructed_network\\predefined.txt\" \"C:\\Users\\y.lin\\OneDrive - IESEG\\Desktop\\Data\\Data\\constructed_network\\w_data_real_double.txt\" 0 60 0 8 0 UN_application.txt\n",
      "------------- 1 --------------\n",
      "\"C:\\Users\\y.lin\\OneDrive - IESEG\\Desktop\\Data\\Data\\Project1.exe\" 184 4 4 1 0 0 0 1 \"C:\\Users\\y.lin\\OneDrive - IESEG\\Desktop\\Data\\Data\\constructed_network\\phidata_network80.txt\" \"C:\\Users\\y.lin\\OneDrive - IESEG\\Desktop\\Data\\Data\\constructed_network\\predefined.txt\" \"C:\\Users\\y.lin\\OneDrive - IESEG\\Desktop\\Data\\Data\\constructed_network\\w_data_real_double.txt\" 0 60 0 8 0 UN_application.txt\n"
     ]
    },
    {
     "ename": "KeyboardInterrupt",
     "evalue": "",
     "output_type": "error",
     "traceback": [
      "\u001b[1;31m---------------------------------------------------------------------------\u001b[0m",
      "\u001b[1;31mKeyboardInterrupt\u001b[0m                         Traceback (most recent call last)",
      "Input \u001b[1;32mIn [7]\u001b[0m, in \u001b[0;36m<cell line: 7>\u001b[1;34m()\u001b[0m\n\u001b[0;32m     10\u001b[0m command \u001b[38;5;241m=\u001b[39m \u001b[38;5;124mfr\u001b[39m\u001b[38;5;124m'\u001b[39m\u001b[38;5;132;01m{\u001b[39;00mbase_command\u001b[38;5;132;01m}\u001b[39;00m\u001b[38;5;124m \u001b[39m\u001b[38;5;132;01m{\u001b[39;00mrho\u001b[38;5;132;01m}\u001b[39;00m\u001b[38;5;124m \u001b[39m\u001b[38;5;132;01m{\u001b[39;00minclude_NE\u001b[38;5;132;01m}\u001b[39;00m\u001b[38;5;124m \u001b[39m\u001b[38;5;132;01m{\u001b[39;00minclude_LI\u001b[38;5;132;01m}\u001b[39;00m\u001b[38;5;124m \u001b[39m\u001b[38;5;132;01m{\u001b[39;00minclude_sym\u001b[38;5;132;01m}\u001b[39;00m\u001b[38;5;124m \u001b[39m\u001b[38;5;132;01m{\u001b[39;00mtheta_shrink\u001b[38;5;132;01m}\u001b[39;00m\u001b[38;5;124m \u001b[39m\u001b[38;5;124m\"\u001b[39m\u001b[38;5;132;01m{\u001b[39;00mphi_data\u001b[38;5;132;01m}\u001b[39;00m\u001b[38;5;124m\"\u001b[39m\u001b[38;5;124m \u001b[39m\u001b[38;5;124m\"\u001b[39m\u001b[38;5;132;01m{\u001b[39;00mv_predefined_data\u001b[38;5;132;01m}\u001b[39;00m\u001b[38;5;124m\"\u001b[39m\u001b[38;5;124m \u001b[39m\u001b[38;5;124m\"\u001b[39m\u001b[38;5;132;01m{\u001b[39;00mw_data\u001b[38;5;132;01m}\u001b[39;00m\u001b[38;5;124m\"\u001b[39m\u001b[38;5;124m \u001b[39m\u001b[38;5;132;01m{\u001b[39;00mrelax\u001b[38;5;132;01m}\u001b[39;00m\u001b[38;5;124m 60 0 8 0 \u001b[39m\u001b[38;5;132;01m{\u001b[39;00moutput_name\u001b[38;5;132;01m}\u001b[39;00m\u001b[38;5;124m'\u001b[39m\n\u001b[0;32m     11\u001b[0m \u001b[38;5;28mprint\u001b[39m(command)\n\u001b[1;32m---> 13\u001b[0m result \u001b[38;5;241m=\u001b[39m \u001b[43msubprocess\u001b[49m\u001b[38;5;241;43m.\u001b[39;49m\u001b[43mrun\u001b[49m\u001b[43m(\u001b[49m\u001b[43mcommand\u001b[49m\u001b[43m,\u001b[49m\u001b[43m \u001b[49m\u001b[43mcapture_output\u001b[49m\u001b[38;5;241;43m=\u001b[39;49m\u001b[38;5;28;43;01mTrue\u001b[39;49;00m\u001b[43m)\u001b[49m\n\u001b[0;32m     14\u001b[0m \u001b[38;5;28mprint\u001b[39m(\u001b[38;5;124m'\u001b[39m\u001b[38;5;124m-------------\u001b[39m\u001b[38;5;124m'\u001b[39m, acc, \u001b[38;5;124m'\u001b[39m\u001b[38;5;124m--------------\u001b[39m\u001b[38;5;124m'\u001b[39m)\n\u001b[0;32m     15\u001b[0m acc\u001b[38;5;241m+\u001b[39m\u001b[38;5;241m=\u001b[39m\u001b[38;5;241m1\u001b[39m\n",
      "File \u001b[1;32m~\\Miniconda3\\lib\\subprocess.py:507\u001b[0m, in \u001b[0;36mrun\u001b[1;34m(input, capture_output, timeout, check, *popenargs, **kwargs)\u001b[0m\n\u001b[0;32m    505\u001b[0m \u001b[38;5;28;01mwith\u001b[39;00m Popen(\u001b[38;5;241m*\u001b[39mpopenargs, \u001b[38;5;241m*\u001b[39m\u001b[38;5;241m*\u001b[39mkwargs) \u001b[38;5;28;01mas\u001b[39;00m process:\n\u001b[0;32m    506\u001b[0m     \u001b[38;5;28;01mtry\u001b[39;00m:\n\u001b[1;32m--> 507\u001b[0m         stdout, stderr \u001b[38;5;241m=\u001b[39m \u001b[43mprocess\u001b[49m\u001b[38;5;241;43m.\u001b[39;49m\u001b[43mcommunicate\u001b[49m\u001b[43m(\u001b[49m\u001b[38;5;28;43minput\u001b[39;49m\u001b[43m,\u001b[49m\u001b[43m \u001b[49m\u001b[43mtimeout\u001b[49m\u001b[38;5;241;43m=\u001b[39;49m\u001b[43mtimeout\u001b[49m\u001b[43m)\u001b[49m\n\u001b[0;32m    508\u001b[0m     \u001b[38;5;28;01mexcept\u001b[39;00m TimeoutExpired \u001b[38;5;28;01mas\u001b[39;00m exc:\n\u001b[0;32m    509\u001b[0m         process\u001b[38;5;241m.\u001b[39mkill()\n",
      "File \u001b[1;32m~\\Miniconda3\\lib\\subprocess.py:1134\u001b[0m, in \u001b[0;36mPopen.communicate\u001b[1;34m(self, input, timeout)\u001b[0m\n\u001b[0;32m   1131\u001b[0m     endtime \u001b[38;5;241m=\u001b[39m \u001b[38;5;28;01mNone\u001b[39;00m\n\u001b[0;32m   1133\u001b[0m \u001b[38;5;28;01mtry\u001b[39;00m:\n\u001b[1;32m-> 1134\u001b[0m     stdout, stderr \u001b[38;5;241m=\u001b[39m \u001b[38;5;28;43mself\u001b[39;49m\u001b[38;5;241;43m.\u001b[39;49m\u001b[43m_communicate\u001b[49m\u001b[43m(\u001b[49m\u001b[38;5;28;43minput\u001b[39;49m\u001b[43m,\u001b[49m\u001b[43m \u001b[49m\u001b[43mendtime\u001b[49m\u001b[43m,\u001b[49m\u001b[43m \u001b[49m\u001b[43mtimeout\u001b[49m\u001b[43m)\u001b[49m\n\u001b[0;32m   1135\u001b[0m \u001b[38;5;28;01mexcept\u001b[39;00m \u001b[38;5;167;01mKeyboardInterrupt\u001b[39;00m:\n\u001b[0;32m   1136\u001b[0m     \u001b[38;5;66;03m# https://bugs.python.org/issue25942\u001b[39;00m\n\u001b[0;32m   1137\u001b[0m     \u001b[38;5;66;03m# See the detailed comment in .wait().\u001b[39;00m\n\u001b[0;32m   1138\u001b[0m     \u001b[38;5;28;01mif\u001b[39;00m timeout \u001b[38;5;129;01mis\u001b[39;00m \u001b[38;5;129;01mnot\u001b[39;00m \u001b[38;5;28;01mNone\u001b[39;00m:\n",
      "File \u001b[1;32m~\\Miniconda3\\lib\\subprocess.py:1508\u001b[0m, in \u001b[0;36mPopen._communicate\u001b[1;34m(self, input, endtime, orig_timeout)\u001b[0m\n\u001b[0;32m   1504\u001b[0m \u001b[38;5;66;03m# Wait for the reader threads, or time out.  If we time out, the\u001b[39;00m\n\u001b[0;32m   1505\u001b[0m \u001b[38;5;66;03m# threads remain reading and the fds left open in case the user\u001b[39;00m\n\u001b[0;32m   1506\u001b[0m \u001b[38;5;66;03m# calls communicate again.\u001b[39;00m\n\u001b[0;32m   1507\u001b[0m \u001b[38;5;28;01mif\u001b[39;00m \u001b[38;5;28mself\u001b[39m\u001b[38;5;241m.\u001b[39mstdout \u001b[38;5;129;01mis\u001b[39;00m \u001b[38;5;129;01mnot\u001b[39;00m \u001b[38;5;28;01mNone\u001b[39;00m:\n\u001b[1;32m-> 1508\u001b[0m     \u001b[38;5;28;43mself\u001b[39;49m\u001b[38;5;241;43m.\u001b[39;49m\u001b[43mstdout_thread\u001b[49m\u001b[38;5;241;43m.\u001b[39;49m\u001b[43mjoin\u001b[49m\u001b[43m(\u001b[49m\u001b[38;5;28;43mself\u001b[39;49m\u001b[38;5;241;43m.\u001b[39;49m\u001b[43m_remaining_time\u001b[49m\u001b[43m(\u001b[49m\u001b[43mendtime\u001b[49m\u001b[43m)\u001b[49m\u001b[43m)\u001b[49m\n\u001b[0;32m   1509\u001b[0m     \u001b[38;5;28;01mif\u001b[39;00m \u001b[38;5;28mself\u001b[39m\u001b[38;5;241m.\u001b[39mstdout_thread\u001b[38;5;241m.\u001b[39mis_alive():\n\u001b[0;32m   1510\u001b[0m         \u001b[38;5;28;01mraise\u001b[39;00m TimeoutExpired(\u001b[38;5;28mself\u001b[39m\u001b[38;5;241m.\u001b[39margs, orig_timeout)\n",
      "File \u001b[1;32m~\\Miniconda3\\lib\\threading.py:1053\u001b[0m, in \u001b[0;36mThread.join\u001b[1;34m(self, timeout)\u001b[0m\n\u001b[0;32m   1050\u001b[0m     \u001b[38;5;28;01mraise\u001b[39;00m \u001b[38;5;167;01mRuntimeError\u001b[39;00m(\u001b[38;5;124m\"\u001b[39m\u001b[38;5;124mcannot join current thread\u001b[39m\u001b[38;5;124m\"\u001b[39m)\n\u001b[0;32m   1052\u001b[0m \u001b[38;5;28;01mif\u001b[39;00m timeout \u001b[38;5;129;01mis\u001b[39;00m \u001b[38;5;28;01mNone\u001b[39;00m:\n\u001b[1;32m-> 1053\u001b[0m     \u001b[38;5;28;43mself\u001b[39;49m\u001b[38;5;241;43m.\u001b[39;49m\u001b[43m_wait_for_tstate_lock\u001b[49m\u001b[43m(\u001b[49m\u001b[43m)\u001b[49m\n\u001b[0;32m   1054\u001b[0m \u001b[38;5;28;01melse\u001b[39;00m:\n\u001b[0;32m   1055\u001b[0m     \u001b[38;5;66;03m# the behavior of a negative timeout isn't documented, but\u001b[39;00m\n\u001b[0;32m   1056\u001b[0m     \u001b[38;5;66;03m# historically .join(timeout=x) for x<0 has acted as if timeout=0\u001b[39;00m\n\u001b[0;32m   1057\u001b[0m     \u001b[38;5;28mself\u001b[39m\u001b[38;5;241m.\u001b[39m_wait_for_tstate_lock(timeout\u001b[38;5;241m=\u001b[39m\u001b[38;5;28mmax\u001b[39m(timeout, \u001b[38;5;241m0\u001b[39m))\n",
      "File \u001b[1;32m~\\Miniconda3\\lib\\threading.py:1073\u001b[0m, in \u001b[0;36mThread._wait_for_tstate_lock\u001b[1;34m(self, block, timeout)\u001b[0m\n\u001b[0;32m   1070\u001b[0m     \u001b[38;5;28;01mreturn\u001b[39;00m\n\u001b[0;32m   1072\u001b[0m \u001b[38;5;28;01mtry\u001b[39;00m:\n\u001b[1;32m-> 1073\u001b[0m     \u001b[38;5;28;01mif\u001b[39;00m \u001b[43mlock\u001b[49m\u001b[38;5;241;43m.\u001b[39;49m\u001b[43macquire\u001b[49m\u001b[43m(\u001b[49m\u001b[43mblock\u001b[49m\u001b[43m,\u001b[49m\u001b[43m \u001b[49m\u001b[43mtimeout\u001b[49m\u001b[43m)\u001b[49m:\n\u001b[0;32m   1074\u001b[0m         lock\u001b[38;5;241m.\u001b[39mrelease()\n\u001b[0;32m   1075\u001b[0m         \u001b[38;5;28mself\u001b[39m\u001b[38;5;241m.\u001b[39m_stop()\n",
      "\u001b[1;31mKeyboardInterrupt\u001b[0m: "
     ]
    }
   ],
   "source": [
    "os.chdir(root)\n",
    "if \"result\" not in os.listdir():\n",
    "    os.mkdir(\"result\")\n",
    "os.chdir(os.path.join(root, \"result\"))\n",
    "\n",
    "acc=0\n",
    "for (rho, include_NE, include_LI, include_sym, theta_shrink, phi_data, relax) in parameter_combinations:\n",
    "    v_predefined_data = os.path.join(root, \"constructed_network\", \"predefined.txt\")\n",
    "    w_data = os.path.join(root, \"constructed_network\", \"w_data_real_double.txt\")\n",
    "    command = fr'{base_command} {rho} {include_NE} {include_LI} {include_sym} {theta_shrink} \"{phi_data}\" \"{v_predefined_data}\" \"{w_data}\" {relax} 60 0 8 0 {output_name}'\n",
    "    print(command)\n",
    "    \n",
    "    result = subprocess.run(command, capture_output=True)\n",
    "    print('-------------', acc, '--------------')\n",
    "    acc+=1\n",
    "os.chdir(os.path.join(root, \"src\"))"
   ]
  },
  {
   "cell_type": "code",
   "execution_count": null,
   "id": "fd39ec4b",
   "metadata": {},
   "outputs": [],
   "source": [
    "# read the run result, the choices suggested by the model\n",
    "\n",
    "v = pd.read_csv(os.path.join(root, \"result\", \"UN_application.txt\"), names=range(737))\n",
    "v = v.drop(columns=[736])\n",
    "v = v>0.5\n",
    "\n",
    "\n",
    "# read the output_tables having detailed running information of the program\n",
    "\n",
    "columns=[\"rho\", \"include_NE\", \"include_LI\", \"include_sym\", \"theta_shrink\", \"phi_file\", \n",
    "         \"LP_relax\", \"lpstat\", \"objective\", \"sum_eta\", \"solution_time\",\"node_count\", \"tolerance_optimality\",\n",
    "        \"n_cols\", \"n_rows\"]\n",
    "ot = pd.read_csv(os.path.join(root, \"result\", \"output_table.txt\"), sep=\"\\t\", names=columns, index_col=False)\n",
    "ot"
   ]
  },
  {
   "cell_type": "code",
   "execution_count": null,
   "id": "6e9f7c97",
   "metadata": {},
   "outputs": [],
   "source": [
    "# reading real choice (built from the data) and the significant choice (built from the data)\n",
    "# they are useful in evaluating the solution\n",
    "\n",
    "v_real = pd.read_csv(os.path.join(root, \"constructed_network\", \"v_real_choice_4items.csv\"), index_col=0)\n",
    "v_real = v_real.astype(bool)\n",
    "v_real\n",
    "\n",
    "significant_choice = pd.read_csv(os.path.join(root, \"constructed_network\", \"significant_choice_4items.csv\"), index_col=0)\n",
    "significant_choice70 = pd.read_csv(os.path.join(root, \"constructed_network\", \"significant_choice70_4items.csv\"), index_col=0)\n",
    "significant_choice80 = pd.read_csv(os.path.join(root, \"constructed_network\", \"significant_choice80_4items.csv\"), index_col=0)\n",
    "significant_choice85 = pd.read_csv(os.path.join(root, \"constructed_network\", \"significant_choice85_4items.csv\"), index_col=0)\n",
    "\n",
    "\n",
    "# make LGBT only evaluate on 0-real-labeled countries\n",
    "\n",
    "def remove_one_label(significant_choice):\n",
    "    significant_choice_ = significant_choice.copy()\n",
    "    for tri in UN_tri:\n",
    "        if v_real.loc[tri, \"LGBT\"] == 0: # only consider 0-real-valued countries\n",
    "            significant_choice_.loc[tri, \"LGBT\"] = True\n",
    "        if prerequisite.loc[tri, \"LGBT\"] == 1: \n",
    "            significant_choice_.loc[tri, \"LGBT\"] = False\n",
    "        if prerequisite.loc[tri, \"LGBT\"] == 0: # but not in prerequisite because it doesn't need to be evaluated\n",
    "            significant_choice_.loc[tri, \"LGBT\"] = False\n",
    "#             pass\n",
    "    return significant_choice_\n",
    "\n",
    "def remove_prerequisite(significant_choice):\n",
    "    significant_choice_ = significant_choice.copy()\n",
    "    for tri in UN_tri:\n",
    "        for item in ['LGBT', 'environmental', 'migration']:\n",
    "\n",
    "            if prerequisite.loc[tri, item] in [0, 1]: \n",
    "                significant_choice_.loc[tri, item] = False\n",
    "#             pass\n",
    "    return significant_choice_\n",
    "\n",
    "significant_choice = remove_one_label(significant_choice)\n",
    "significant_choice = remove_prerequisite(significant_choice)\n",
    "\n",
    "significant_choice70 = remove_one_label(significant_choice70)\n",
    "significant_choice70 = remove_prerequisite(significant_choice70)\n",
    "\n",
    "significant_choice80 = remove_one_label(significant_choice80)\n",
    "significant_choice80 = remove_prerequisite(significant_choice80)\n",
    "\n",
    "significant_choice85 = remove_one_label(significant_choice85)\n",
    "significant_choice85 = remove_prerequisite(significant_choice85)"
   ]
  },
  {
   "cell_type": "code",
   "execution_count": null,
   "id": "79b78bd2",
   "metadata": {},
   "outputs": [],
   "source": [
    "# evaluate the score of each item. For each item, select individuals that are significant\n",
    "\n",
    "# set variables for evaluating each item separately \n",
    "\n",
    "\n",
    "# in order to compare the real value to the values of each of 96 settings, \n",
    "# we copy the real value 96 times so that the comparasion happens in the same scope\n",
    "\n",
    "def copy_96times(df):\n",
    "    df = pd.concat([df]*96, axis=1, ignore_index=True)\n",
    "    df = df.transpose()\n",
    "    return df\n",
    "\n",
    "v_real_LGBT = copy_96times(v_real['LGBT'])\n",
    "v_real_environmental = copy_96times(v_real['environmental'])\n",
    "v_real_migration = copy_96times(v_real['migration'])\n",
    "\n",
    "v_LGBT = v.iloc[:, range(0, 736, 4)]\n",
    "v_LGBT.columns = v_real.index\n",
    "v_environmental = v.iloc[:, range(1, 736, 4)]\n",
    "v_environmental.columns = v_real.index\n",
    "v_migration = v.iloc[:, range(2, 736, 4)]\n",
    "v_migration.columns = v_real.index"
   ]
  },
  {
   "cell_type": "code",
   "execution_count": null,
   "id": "d3c23f40",
   "metadata": {},
   "outputs": [],
   "source": [
    "def evaluate(v_item, v_real_item, significant_choice, item_name):\n",
    "    compared = (v_item==v_real_item)\n",
    "    v_significant = significant_choice[item_name]>0.5\n",
    "    compared = compared.loc[:, v_significant]\n",
    "    ratio = compared.sum(axis=1) / compared.shape[1]\n",
    "    return ratio\n",
    "    #     print(ratio)\n",
    "\n",
    "ot['LGBT'] = evaluate(v_migration, v_real_migration, significant_choice80, \"LGBT\")\n",
    "ot['environmental'] = evaluate(v_migration, v_real_migration, significant_choice80, \"environmental\")\n",
    "ot['migration'] = evaluate(v_migration, v_real_migration, significant_choice80, \"migration\")\n",
    "\n",
    "\n",
    "ot.replace(os.path.join(root, \"constructed_network\",\"phidata_network80.txt\"), \"80\", inplace=True)\n",
    "ot.replace(os.path.join(root, \"constructed_network\",\"phidata_network90.txt\"), \"90\", inplace=True)\n"
   ]
  },
  {
   "cell_type": "code",
   "execution_count": null,
   "id": "1e0b091f",
   "metadata": {},
   "outputs": [],
   "source": [
    "otover = ot[['theta_shrink','phi_file', 'rho', 'sum_eta', 'solution_time']]\n"
   ]
  },
  {
   "cell_type": "code",
   "execution_count": null,
   "id": "19c00144",
   "metadata": {},
   "outputs": [],
   "source": [
    "otover"
   ]
  },
  {
   "cell_type": "code",
   "execution_count": null,
   "id": "ab20a33b",
   "metadata": {},
   "outputs": [],
   "source": []
  },
  {
   "cell_type": "code",
   "execution_count": null,
   "id": "873fa8d3",
   "metadata": {},
   "outputs": [],
   "source": [
    "# make two columns for NE\n",
    "\n",
    "for i in range(48):\n",
    "    otover.loc[i, 'LR'] = ot.loc[i+48, 'objective']\n",
    "\n",
    "for i in range(48):\n",
    "    if i%12 in [0, 1, 2, 3, 4, 5]:\n",
    "        otover.loc[i, 'sum_eta_NE'] = otover.loc[i+6, 'sum_eta']\n",
    "        otover.loc[i, 'solution_time_NE'] = otover.loc[i+6, 'solution_time']\n",
    "        otover.loc[i, 'LR_NE'] = ot.loc[i+6+48, 'objective']\n",
    "\n",
    "otover"
   ]
  },
  {
   "cell_type": "code",
   "execution_count": null,
   "id": "e47e798f",
   "metadata": {},
   "outputs": [],
   "source": [
    "otover = otover.dropna(axis='index', how='any')\n",
    "otover = otover.round(decimals=2)\n",
    "otover['sum_eta_NE'] = otover['sum_eta_NE'].map(lambda x: int(x))"
   ]
  },
  {
   "cell_type": "code",
   "execution_count": null,
   "id": "0f93a81b",
   "metadata": {},
   "outputs": [],
   "source": [
    "s = otover.to_csv(index=False, header=False).replace(',', ' & ').replace('\\r\\n', '\\\\\\\\\\r\\n')\n",
    "lines = s.split('\\r\\n')\n",
    "i = 0\n",
    "for l in lines:\n",
    "    print(l)\n",
    "    i+=1\n",
    "    if i%6 == 0:\n",
    "        print('\\hline')"
   ]
  },
  {
   "cell_type": "code",
   "execution_count": null,
   "id": "55f967e1",
   "metadata": {},
   "outputs": [],
   "source": []
  },
  {
   "cell_type": "code",
   "execution_count": null,
   "id": "479b6e27",
   "metadata": {},
   "outputs": [],
   "source": []
  },
  {
   "cell_type": "code",
   "execution_count": null,
   "id": "2f99ae5e",
   "metadata": {},
   "outputs": [],
   "source": [
    "otne = ot[[ 'theta_shrink','phi_file', 'rho', \n",
    "        'LGBT', 'environmental', 'migration']]"
   ]
  },
  {
   "cell_type": "code",
   "execution_count": null,
   "id": "0f3b40f8",
   "metadata": {},
   "outputs": [],
   "source": [
    "for i in range(96):\n",
    "    if i%12 in [0, 1, 2, 3, 4, 5]:\n",
    "        otne.loc[i, 'LGBT_NE'] = otne.loc[i+6, 'LGBT']\n",
    "        otne.loc[i, 'environmental_NE'] = otne.loc[i+6, 'environmental']\n",
    "        otne.loc[i, 'migration_NE'] = otne.loc[i+6, 'migration']\n",
    "#         otne.loc[i, 'item4_NE'] = otne.loc[i+6, 'item4']"
   ]
  },
  {
   "cell_type": "code",
   "execution_count": null,
   "id": "c6f30bb3",
   "metadata": {},
   "outputs": [],
   "source": [
    "otne = otne.dropna(axis='index', how='any')"
   ]
  },
  {
   "cell_type": "code",
   "execution_count": null,
   "id": "3dca2a3d",
   "metadata": {},
   "outputs": [],
   "source": []
  },
  {
   "cell_type": "code",
   "execution_count": null,
   "id": "9f2f24e2",
   "metadata": {},
   "outputs": [],
   "source": []
  },
  {
   "cell_type": "code",
   "execution_count": null,
   "id": "ba8e46e7",
   "metadata": {},
   "outputs": [],
   "source": [
    "otne['improvement'] = None\n",
    "otne['improvement'] = 0 + (otne['LGBT_NE'] - otne['LGBT'] > 0) + (otne['environmental_NE'] - otne['environmental'] > 0) +  (otne['migration_NE'] - otne['migration'] > 0) \n",
    "otne['improvement'] = otne['improvement'].map(lambda x : '*'*x)\n"
   ]
  },
  {
   "cell_type": "code",
   "execution_count": null,
   "id": "d69429d7",
   "metadata": {},
   "outputs": [],
   "source": [
    "otne = otne.round(decimals=2)\n",
    "otne = otne.iloc[:24, :]"
   ]
  },
  {
   "cell_type": "code",
   "execution_count": null,
   "id": "1200787b",
   "metadata": {},
   "outputs": [],
   "source": [
    "s = otne.to_csv(index=False, header=False).replace(',', ' & ').replace('\\r\\n', '\\\\\\\\\\r\\n')\n",
    "lines = s.split('\\r\\n')\n",
    "i = 0\n",
    "for l in lines:\n",
    "    print(l)\n",
    "    i+=1\n",
    "    if i%6 == 0:\n",
    "        print('\\hline')"
   ]
  },
  {
   "cell_type": "code",
   "execution_count": null,
   "id": "fb496765",
   "metadata": {},
   "outputs": [],
   "source": []
  }
 ],
 "metadata": {
  "kernelspec": {
   "display_name": "Python 3 (ipykernel)",
   "language": "python",
   "name": "python3"
  },
  "language_info": {
   "codemirror_mode": {
    "name": "ipython",
    "version": 3
   },
   "file_extension": ".py",
   "mimetype": "text/x-python",
   "name": "python",
   "nbconvert_exporter": "python",
   "pygments_lexer": "ipython3",
   "version": "3.9.12"
  }
 },
 "nbformat": 4,
 "nbformat_minor": 5
}
